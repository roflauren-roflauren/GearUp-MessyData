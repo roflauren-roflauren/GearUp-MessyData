{
 "cells": [
  {
   "cell_type": "markdown",
   "metadata": {},
   "source": [
    "# Appendix A: Optimizing data filling via Vectorization "
   ]
  },
  {
   "cell_type": "markdown",
   "metadata": {},
   "source": [
    "<a target=\"_blank\" href=\"https://colab.research.google.com/github/roflauren-roflauren/GearUp-MessyData/blob/main/fall_2022/appendix_vectorize.ipynb\">\n",
    "  <img src=\"https://colab.research.google.com/assets/colab-badge.svg\" alt=\"Open In Colab\"/>\n",
    "</a>"
   ]
  },
  {
   "cell_type": "markdown",
   "metadata": {},
   "source": [
    "![vect](./imgs/vectorization.png)\n",
    "\n",
    "*If you're too busy to read the chapter, this is basically it!*"
   ]
  },
  {
   "cell_type": "markdown",
   "metadata": {},
   "source": [
    "## *Appendix prerequisites: Python imports*"
   ]
  },
  {
   "cell_type": "markdown",
   "metadata": {},
   "source": [
    "Before running any code blocks in the following appendix, please ensure you have the necessary Python packages installed via the following code block:"
   ]
  },
  {
   "cell_type": "code",
   "execution_count": null,
   "metadata": {},
   "outputs": [],
   "source": [
    "%pip install pandas\n",
    "%pip install numpy"
   ]
  },
  {
   "cell_type": "markdown",
   "metadata": {},
   "source": [
    "## A.0. Preface: motivating vectorization"
   ]
  },
  {
   "cell_type": "markdown",
   "metadata": {},
   "source": [
    "In our running examples with GDP data, we've typically dealt with datasets that are fairly small by data science standards (~1000 rows or less). \n",
    "\n",
    "Modern personal machines and shared computing resources (like Stanford's [Sherlock](https://www.sherlock.stanford.edu/)) are ridiculously powerful, and they can quickly chew through almost any code that you write - even if it has zero optimization.\n",
    "\n",
    "But what happens if you're dealing with truly massive datasets with hundreds of thousands of rows? With such datasets, code runtime can actually become a constraint on research progression and completion if processing scripts are written suboptimally.\n",
    "\n",
    "Although the defintion of optimal code and the processing of writing it varies with context, here we're going to learn a technique that can be applied in many situations: *vectorization.*"
   ]
  },
  {
   "cell_type": "markdown",
   "metadata": {},
   "source": [
    "## A.1. What, why, when, and how to vectorize"
   ]
  },
  {
   "cell_type": "markdown",
   "metadata": {},
   "source": [
    "#### *DISCUSSION 1: DEFINING VECTORIZATION*"
   ]
  },
  {
   "cell_type": "markdown",
   "metadata": {},
   "source": [
    "A natural first question to ask is, *what is vectorizing/vectorization?* You may have heard of vectors before in a mathematics class, where vectors are a series of ordered values like this: [3, 2, 5] or [4, 7, 11, 8]. \n",
    "\n",
    "In computer science, vectorization is a technique related to the mathematical definition of a vector - it's the process of converting an algorithm from a scalar implementation (which performs operations on, at most, a pair of operands at once) to a vectorized one (which performs operations on a series of values at once). For a quick example: \n",
    "\n",
    "The processing of a scalar implementation of the instruction, \"add two to every element in this list,\" would look like: \n",
    "\n",
    "\n",
    "<center> \n",
    "\n",
    "*input:* [3, 2, 5] → [3 + 2 = 5, 2, 5] → [5, 2 + 2 = 4, 5] → [5, 4, 5 + 2 = 7] → *output:* [5, 4, 7]\n",
    "\n",
    "</center>\n",
    "\n",
    "while the processing of a vectorized implementation of the same instruction would look like: \n",
    "\n",
    "<center> \n",
    "\n",
    "*input:* [3, 2, 5] → [3 + 2 = 5, 2 + 2 = 4, 5 + 2 = 7] → *output:* [5, 4, 7]\n",
    "\n",
    "</center>\n",
    "\n",
    "(where different processors in your machine carry out the '+2' instruction on each element concurrently.)\n",
    "\n",
    "If the previous example makes sense to you, congratulations! You understand vectorization. Feel free to come up with your own quicker working definition (mine is, \"make computer do same thing to many things at same time.\" "
   ]
  },
  {
   "cell_type": "markdown",
   "metadata": {},
   "source": [
    "#### *DISCUSSION 2: WHY VECTORIZE?*"
   ]
  },
  {
   "cell_type": "markdown",
   "metadata": {},
   "source": [
    "In Python, (almost) any looped operation can be vectorized, but why do we need vectorization in the first place? "
   ]
  },
  {
   "cell_type": "markdown",
   "metadata": {},
   "source": [
    "![pyloop](./imgs/pythonloop.png)"
   ]
  },
  {
   "cell_type": "markdown",
   "metadata": {},
   "source": [
    "\n",
    "While loops are a wonderful and flexible programatic idiom, they're also inherently slow due to the **dynamically typed nature of Python.** What does this mean? Let's take a look in the context of executing a program:\n",
    "\n",
    "When you execute a program in Python, Python:\n",
    "\n",
    "* First goes line-by-line through your code;\n",
    "\n",
    "* Compiles it into a machine-readable version of itself called bytecod*; and\n",
    "\n",
    "* Then this bytecode is executed to actually run the program. \n",
    "\n",
    "Suppose your code has a block where you loop over and perform some operation on the elements in a list. As Python is dynamically typed, *it does not know the type of the objects present in the list until it accesses each element.*"
   ]
  },
  {
   "cell_type": "code",
   "execution_count": null,
   "metadata": {},
   "outputs": [],
   "source": [
    "# nothing about the variable name 'a' denotes the type of the contained value. it could be: \n",
    "a = 5\n",
    "print(type(a)) # an int\n",
    "\n",
    "a = \"vectorization rocks!\" \n",
    "print(type(a)) # a string \n",
    "\n",
    "a = dict({\"vectorization\" : \"rocks!\"})\n",
    "print(type(a)) # a dictionary of strings"
   ]
  },
  {
   "cell_type": "markdown",
   "metadata": {},
   "source": [
    "For any object in Python, the typing information is stored in the the object itself. Therefore, for each iteration in the loop, Python has to perform a series of overhead operations (like determining element type, resolving scope, checking for invalid operations, etc.) until it can carry out the actual operation you instructed it to. As you might imagine, repeatedly performing these overhead operations on massive datasets results in a significantly increased runtime. "
   ]
  },
  {
   "cell_type": "markdown",
   "metadata": {},
   "source": [
    "*A quick aside:* A **statically typed** programming language like C avoids this recurring overhead cost by compelling programmers to explicitly denote the type of every object you use. But, these languages come with their own drawbacks. For example, if two external libraries provide functionality for the same concept with differently-typed implementations, library users will have to provide their own translation layer to allow the two libraries to interoperate. In Python, no/few such interoperability issues arise:"
   ]
  },
  {
   "cell_type": "code",
   "execution_count": 26,
   "metadata": {},
   "outputs": [
    {
     "name": "stdout",
     "output_type": "stream",
     "text": [
      "The conductor says: [1 2 3 4]\n",
      "And then: [5 6 7 8]\n",
      "And the band goes: 🎶🎷🎶! 🎶🎹🎶! 🎶🎻🎶!\n"
     ]
    }
   ],
   "source": [
    "# both pandas and numpy implement an array-type collection\n",
    "import pandas as pd\n",
    "import numpy as np \n",
    "\n",
    "# instantiating a numpy array and a pandas Series: \n",
    "a = np.array([1, 2, 3, 4])\n",
    "b = pd.Series([5, 6, 7, 8])\n",
    "\n",
    "# we can use both array variables at the same time, with no confusion from Python!\n",
    "print(\"The conductor says: \" + str(a))\n",
    "print(\"And then: \" + str(b.values))\n",
    "print(\"And the band goes: 🎶🎷🎶! 🎶🎹🎶! 🎶🎻🎶!\")"
   ]
  },
  {
   "cell_type": "markdown",
   "metadata": {},
   "source": [
    "#### *DISCUSSION 3: ORDER-DEPENDENCE OF OPERATIONS*"
   ]
  },
  {
   "cell_type": "markdown",
   "metadata": {},
   "source": [
    "As we continue to run through our list of interrogatives, we've learned the *what* and *why* of vectorization - now it's time to learn the *when!* \n",
    "\n",
    "If you recall, we earlier learned that almost any looped operation in Python can be vectorized. To understand the exceptions, we can first classify all looped operations into two types: \n",
    "\n",
    "1. Order-dependent operations; and\n",
    "\n",
    "2. Order-independent operations. \n",
    "\n",
    "As the names suggest, the required order (or lack thereof) of the iterations of a looped operation determines its eligibility for vectorization. Consider the following example: "
   ]
  },
  {
   "cell_type": "code",
   "execution_count": null,
   "metadata": {},
   "outputs": [],
   "source": [
    "# suppose we have a Anthony-Land GDP dataset with some discontinuities: \n",
    "gdp_data = [(1990, 45), (1991, 46), (1992, 48), (1993, 52), (1995, 55), (1996, 60), (1997, 63), (1999, 67)] # data for the years 1994 and 1998 are missing! \n",
    "\n",
    "# if we want to calculate average % increase in gdp from 1990-1999, we have to fill these gaps first! \n",
    "#   fill method: gdp_X = avg. of past four years' GDP measurements. \n",
    "\n",
    "# 1994 data fill: \n",
    "gdp_data.insert(4, (1994, round((gdp_data[0][1] + gdp_data[1][1] + gdp_data[2][1] + gdp_data[3][1])/4))) \n",
    "print(\"After imputing the 1994 data point:\" + str(gdp_data))\n",
    "\n",
    "# 1998 data fill: \n",
    "gdp_data.insert(8, (1998, round((gdp_data[4][1] + gdp_data[5][1] + gdp_data[6][1] + gdp_data[7][1])/4)))\n",
    "print(\"After imputing the 1998 data point:\" + str(gdp_data))\n",
    "\n",
    "# avg % increase in gdp: \n",
    "percent_increase = []\n",
    "for i in range(len(gdp_data)): \n",
    "    if i != 0: percent_increase.append((gdp_data[i][1] - gdp_data[i-1][1])/gdp_data[i][1])\n",
    "\n",
    "print (\"Average % increase in GDP: \" + str(round(sum(percent_increase)/len(percent_increase), 4) * 100))"
   ]
  },
  {
   "cell_type": "markdown",
   "metadata": {},
   "source": [
    "What if we computed filled the two data points in reverse-order? "
   ]
  },
  {
   "cell_type": "code",
   "execution_count": null,
   "metadata": {},
   "outputs": [],
   "source": [
    "# same data: \n",
    "gdp_data = [(1990, 45), (1991, 46), (1992, 48), (1993, 52), (1995, 55), (1996, 60), (1997, 63), (1999, 67)] # data for the years 1994 and 1998 are missing! \n",
    "\n",
    "# same fill method: gdp_X = avg. of past four years' GDP measurements. \n",
    "\n",
    "# 1998 data fill: \n",
    "gdp_data.insert(7, (1998, round((gdp_data[3][1] + gdp_data[4][1] + gdp_data[5][1] + gdp_data[6][1])/4)))\n",
    "print(\"After imputing the 1998 data point:\" + str(gdp_data))\n",
    "\n",
    "# 1994 data fill: \n",
    "gdp_data.insert(4, (1994, round((gdp_data[0][1] + gdp_data[1][1] + gdp_data[2][1] + gdp_data[3][1])/4))) \n",
    "print(\"After imputing the 1994 data point:\" + str(gdp_data))\n",
    "\n",
    "# avg % increase in gdp: \n",
    "percent_increase = []\n",
    "for i in range(len(gdp_data)): \n",
    "    if i != 0: percent_increase.append((gdp_data[i][1] - gdp_data[i-1][1])/gdp_data[i][1])\n",
    "\n",
    "print (\"Average % increase in GDP: \" + str(round(sum(percent_increase)/len(percent_increase), 4) * 100))"
   ]
  },
  {
   "cell_type": "markdown",
   "metadata": {},
   "source": [
    "A-ha! As you can see, reversing the order that the datapoints were filled in does change the final resulting figure. This is because filling the 1994 data point first makes a 1994 GDP value available as a sample datapoint for imputing the 1998 GDP value, whereas reversing the order of imputation does not. \n",
    "\n",
    "As such, the operation we just performed is order-dependent (i.e., the final result is contingent upon the order in which any sub-operations are performed) and ineligible for vectorization. Reason being, *when an operation is vectorized, Python provides no constraints on the order in which the sub-operations are carried out.*"
   ]
  },
  {
   "cell_type": "markdown",
   "metadata": {},
   "source": [
    "![analogy](./imgs/analogy.png)\n",
    "\n",
    "*Vectorized operations are to sets, as scalar looped operations are to lists!*"
   ]
  },
  {
   "cell_type": "markdown",
   "metadata": {},
   "source": [
    "Expanding upon our \"add 2 to every element in this list\" example from before, suppose our input now was much longer: $[3, 2, 5, 4, 6, 11, 14, 8, 1, 37, ... (100,000 \\text{ more numbers}) ..., 24, 2].$ Since our computer likely does not have enough processing units to add 2 to every element concurrently, it'll perform the vectorized operation in chunks. We can't guarantee that the first chunk of say, 1000 inputs, coincides with the first 1000 elements in the list. \n",
    "\n",
    "But, in cases like these, where the final result will be independent of the order of the sub-operations, this random chunking is totally fine! And for that reason, we say *order-independent* operations can be vectorized. \n",
    "\n",
    "*Note:* Determining order-independence (or lack thereof) for any particular operation is a nonstandardized task, but reference to other objects being changed by the same loop is a usually a good sign that order-dependence is present. When in doubt, work with a subset of your data and try switching up the processing order of the loop! Does the result change? "
   ]
  },
  {
   "cell_type": "markdown",
   "metadata": {},
   "source": [
    "#### *DISCUSSION 4: VECTORIZATION TOOLS*"
   ]
  },
  {
   "cell_type": "markdown",
   "metadata": {},
   "source": [
    "Now that we've understood the theory, it's time to tackle the practice! Here are the relevant tools:\n",
    "\n",
    "* *Libraries:*\n",
    "  * Pandas - the premier Python package for importing, wrangling, and manipulating tabular data. \n",
    "  * NumPy - Python's fundamental package for scientific computing, but useful for vectorization due to its vectorization-optimized ndarray. <br></br>\n",
    "\n",
    "* *Timer:*\n",
    "  * ```%timeit``` - in IPython and Jupyter Notebooks, simply call the magic command '%timeit' suffixed with a function name, and Python will repeatedly run and time the function's execution to generate runtime statistics. <br></br>\n",
    "\n",
    "* *Other useful resources (not used here):*\n",
    "  * ```line_profiler``` - an external magic command (requires pip install) which offers a more verbose runtime analysis, including line-by-line hit counts, time per hit, and % total time spent on a line. \n",
    "  * Cython - yet another external magic command which converts Python code into more loop-friendly C code and supports use of C functions and declaring C types. \n",
    "\n",
    "(*Note on magic commands:* Magic commands are those suffixed by the '%' symbol in IPython or Jupyter Notebooks. If you're using Python through a local installation or IDE, packaged versions of the same tools exist for your import and use.)"
   ]
  },
  {
   "cell_type": "markdown",
   "metadata": {},
   "source": [
    "## A.2. Vectorization in action"
   ]
  },
  {
   "cell_type": "markdown",
   "metadata": {},
   "source": [
    "#### **CODING EXERCISE: VECTORIZATION - DATA IMPORT**"
   ]
  },
  {
   "cell_type": "markdown",
   "metadata": {},
   "source": [
    "With our tools in hand, let's go try some vectorization! "
   ]
  },
  {
   "cell_type": "code",
   "execution_count": 1,
   "metadata": {},
   "outputs": [],
   "source": [
    "# required imports: \n",
    "import pandas as pd            # use: data intake and wranglnig\n",
    "import numpy as np             # use: computing and data structures\n",
    "import os                      # use: file access and management "
   ]
  },
  {
   "cell_type": "code",
   "execution_count": null,
   "metadata": {},
   "outputs": [],
   "source": [
    "\"\"\" BINDER USERS: \"\"\"\n",
    "# uncomment: song_df = pd.read_csv('./sample_datasets/unpopular_songs.csv', encoding='utf-8')\n",
    "\n",
    "\"\"\" COLAB USERS: \"\"\"\n",
    "# !mkdir data # create a '/data' directory if one doesn't already exist\n",
    "!wget -P data/ https://raw.githubusercontent.com/roflauren-roflauren/GearUp-MessyData/main/fall_2022/sample_datasets/unpopular_songs.csv # retrieve the dataset from remote storage on GitHub\n",
    "song_df = pd.read_csv(\"data/unpopular_songs.csv\", encoding='utf-8')"
   ]
  },
  {
   "cell_type": "markdown",
   "metadata": {},
   "source": [
    "For our vectorization exercises, we're going to be taking a quick break from GDP data and instead we'll be using [this dataset](https://www.kaggle.com/datasets/estienneggx/spotify-unpopular-songs?resource=download) which contains information about more than 10,000 of the most unpopular songs on Spotify. This information includes the track name, artist, ID, and more subjective measures like danceability, energy, etc. "
   ]
  },
  {
   "cell_type": "code",
   "execution_count": null,
   "metadata": {},
   "outputs": [],
   "source": [
    "# a quick view into our data: \n",
    "song_df.head(5)"
   ]
  },
  {
   "cell_type": "code",
   "execution_count": null,
   "metadata": {},
   "outputs": [],
   "source": [
    "# some summary statistics:\n",
    "song_df.describe()"
   ]
  },
  {
   "cell_type": "markdown",
   "metadata": {},
   "source": [
    "Although we could evaluate the performance of vectorization techniques just on data access and retrieval times, let's do something a little more involved. We're going to define a silly function that accesses a bunch of columns in our dataframe, performs some computations, and spits out some output: "
   ]
  },
  {
   "cell_type": "code",
   "execution_count": 8,
   "metadata": {},
   "outputs": [],
   "source": [
    "def anthony_score(danceability, energy, loudness, mode, tempo, speechiness): \n",
    "    # can the music replace coffee?:\n",
    "    caffeine_subscore = danceability * 0.3 + energy * 0.7\n",
    "\n",
    "    # loud is nice but worse for my ears:\n",
    "    eardrum_health = loudness/2  \n",
    "\n",
    "    # i like FAST songs:\n",
    "    vibe_subscore = tempo/240 + mode/2 # and a bonus if they're in the major key! \n",
    "\n",
    "    # music without talking belongs in elevators: \n",
    "    talk_subscore = (speechiness + 12)/14 \n",
    "\n",
    "    # return the anthony score (proprietary stuff!): \n",
    "    return caffeine_subscore * 0.4 - eardrum_health * 0.15 + vibe_subscore * 0.25 + talk_subscore * 0.2 "
   ]
  },
  {
   "cell_type": "markdown",
   "metadata": {},
   "source": [
    "Let's establish a baseline: how quickly do things run when we naively loop through the data? "
   ]
  },
  {
   "cell_type": "markdown",
   "metadata": {},
   "source": [
    "##### *1. Looping with ```iterrows()```:*"
   ]
  },
  {
   "cell_type": "code",
   "execution_count": 9,
   "metadata": {},
   "outputs": [
    {
     "name": "stdout",
     "output_type": "stream",
     "text": [
      "786 ms ± 34.9 ms per loop (mean ± std. dev. of 7 runs, 1 loop each)\n"
     ]
    }
   ],
   "source": [
    "%%timeit # this is how you invoke the timeit magic command!\n",
    "\n",
    "anthony_scores = []\n",
    "\n",
    "# to loop through a dataframe, we can use the iterrows() function which returns a loopable (Index, Series) tuple: \n",
    "for index, row in song_df.iterrows(): \n",
    "    anthony_scores.append(anthony_score(row['danceability'], row['energy'], row['loudness'], row['mode'], row['tempo'], row['speechiness']))\n",
    "\n",
    "song_df['anthony_score'] = anthony_scores"
   ]
  },
  {
   "cell_type": "markdown",
   "metadata": {},
   "source": [
    "As you can see, things are pretty slow - at least half a second for each call of the function. We're not doing any particularly sophisticated when we access dataframe rows via the loop, so imagine the possible runtimes if we were! Let's try to speed things up."
   ]
  },
  {
   "cell_type": "markdown",
   "metadata": {},
   "source": [
    "##### *2. Better looping with ```apply()```:*"
   ]
  },
  {
   "cell_type": "markdown",
   "metadata": {},
   "source": [
    "```apply()``` is a Pandas built-in which allows you to apply a function along a specified axis (row or column). "
   ]
  },
  {
   "cell_type": "code",
   "execution_count": 10,
   "metadata": {},
   "outputs": [
    {
     "name": "stdout",
     "output_type": "stream",
     "text": [
      "350 ms ± 34 ms per loop (mean ± std. dev. of 7 runs, 1 loop each)\n"
     ]
    }
   ],
   "source": [
    "%%timeit\n",
    "\n",
    "# documentation on using apply(): https://pandas.pydata.org/docs/reference/api/pandas.DataFrame.apply.html\n",
    "song_df['anthony_score'] = song_df.apply(lambda row: anthony_score(row['danceability'], row['energy'], row['loudness'], row['mode'], row['tempo'], row['speechiness']), axis=1)"
   ]
  },
  {
   "cell_type": "markdown",
   "metadata": {},
   "source": [
    "As we can see, it's typically more efficient than ```iterrows()``` due to some under-the-hood optimizations with how ```apply()``` and ```iterrows()``` retrieve elements from a dataframe, but it still requires looping through rows. However, it can be a good option when your desired functionality is difficult to vectorize. "
   ]
  },
  {
   "cell_type": "markdown",
   "metadata": {},
   "source": [
    "And for those of you who want to keep score: \n",
    "\n",
    "<center>\n",
    "\n",
    "| **Method**         | **Avg. single runtime (ms)** | **Marginal improvement**  | **Absolute improvement** |\n",
    "|--------------------|------------------------------|---------------------------|--------------------------|\n",
    "| iterrows() looping | 786                          | -                         | -                        |\n",
    "| apply() looping    | 350                          | 2.18x                     | 2.18x                    |\n",
    "\n",
    "</center>"
   ]
  },
  {
   "cell_type": "markdown",
   "metadata": {},
   "source": [
    "##### *3. Basic vectorization:*"
   ]
  },
  {
   "cell_type": "markdown",
   "metadata": {},
   "source": [
    "In Pandas, the basic units of data storage are: \n",
    "\n",
    "* Series: a one-dimensional array with axis labels\n",
    "  \n",
    "* DataFrame: a 2-dimensional array with labeled axes (rows and columns)\n",
    "\n",
    "As such, many built-in Pandas functions are designed to operate directly on arrays rather than scalars—making them very conducive to being and faster when vectorized! How much faster? Let's see!  "
   ]
  },
  {
   "cell_type": "code",
   "execution_count": 12,
   "metadata": {},
   "outputs": [
    {
     "name": "stdout",
     "output_type": "stream",
     "text": [
      "1.83 ms ± 352 µs per loop (mean ± std. dev. of 7 runs, 1000 loops each)\n"
     ]
    }
   ],
   "source": [
    "%%timeit\n",
    "\n",
    "# for simple functions, vectorizing is as easy as calling the function on arrays of values rather than individual ones: \n",
    "song_df['anthony_score'] = anthony_score(song_df['danceability'], song_df['energy'], song_df['loudness'], song_df['mode'], song_df['tempo'], song_df['speechiness'])"
   ]
  },
  {
   "cell_type": "markdown",
   "metadata": {},
   "source": [
    "Our updated scoreboard:"
   ]
  },
  {
   "cell_type": "markdown",
   "metadata": {},
   "source": [
    "<center>\n",
    "\n",
    "| **Method**           | **Avg. single runtime (ms)** | **Marginal improvement**  | **Absolute improvement** |\n",
    "|----------------------|------------------------------|---------------------------|--------------------------|\n",
    "| iterrows() looping   | 786                          | -                         | -                        |\n",
    "| apply() looping      | 350                          | 2.18x                     | 2.18x                    |\n",
    "| pandas vectorization | 1.83                         | 191.26x                   | 429.51x                  |\n",
    "</center>"
   ]
  },
  {
   "cell_type": "markdown",
   "metadata": {},
   "source": [
    "##### *4. Vectorization with NumPy:*"
   ]
  },
  {
   "cell_type": "markdown",
   "metadata": {},
   "source": [
    "With just the base-level Pandas vectorization, we're achieving some serious speed (nearly a 500x improvement). But believe it or not, we can get even faster! \n",
    "\n",
    "How so? With the help of NumPy data structures! \n",
    "\n",
    "Of interest to us are **ndarray**s, NumPy's version of your classic array. Under the hood, the NumPy operations executed on these arrays are actually written in optimized, pre-compiled C code (one such optimization: known typings! C is a statically-type lanugage). Performing vectorized operations on NumPy arrays can cut down on the pre-execution overhead even Pandas must conduct (like Series-wise indexing, type checking, etc.)"
   ]
  },
  {
   "cell_type": "markdown",
   "metadata": {},
   "source": [
    "You can call the ```.values``` attribute on a Pandas Series or DataFrame to obtain its NumPy representation, and pass this to your vectorized functionality like so: "
   ]
  },
  {
   "cell_type": "code",
   "execution_count": 13,
   "metadata": {},
   "outputs": [
    {
     "name": "stdout",
     "output_type": "stream",
     "text": [
      "548 µs ± 100 µs per loop (mean ± std. dev. of 7 runs, 1000 loops each)\n"
     ]
    }
   ],
   "source": [
    "%%timeit\n",
    "\n",
    "# for simple functions, vectorizing is as easy as calling the function on arrays of values rather than individual ones: \n",
    "song_df['anthony_score'] = anthony_score(song_df['danceability'].values, song_df['energy'].values, song_df['loudness'].values, song_df['mode'].values, song_df['tempo'].values, song_df['speechiness'].values)"
   ]
  },
  {
   "cell_type": "markdown",
   "metadata": {},
   "source": [
    "Updating our scoreboard one last time: \n",
    "\n",
    "<center>\n",
    "\n",
    "| **Method**           | **Avg. single runtime (ms)** | **Marginal improvement**  | **Absolute improvement** |\n",
    "|----------------------|------------------------------|---------------------------|--------------------------|\n",
    "| iterrows() looping   | 786                          | -                         | -                        |\n",
    "| apply() looping      | 350                          | 2.18x                     | 2.18x                    |\n",
    "| pandas vectorization | 1.83                         | 191.26x                   | 429.51x                  |\n",
    "| vect. with ndarrays  | 0.548                        | 3.34x                     | 1434.31x                 |\n",
    "</center>"
   ]
  },
  {
   "cell_type": "markdown",
   "metadata": {},
   "source": [
    "## A.3. Key qualifications"
   ]
  },
  {
   "cell_type": "markdown",
   "metadata": {},
   "source": [
    "If you leave this chapter with one conclusion, I hope it's that vectorization can make programs run really, really fast, and therefore it's worth looking into!\n",
    "\n",
    "Before you get started though, here are some important qualifications to keep in mind before you start adding ```.values()``` to all of your Pandas DataFrames: "
   ]
  },
  {
   "cell_type": "markdown",
   "metadata": {},
   "source": [
    "##### *Vectorization frameworks:*"
   ]
  },
  {
   "cell_type": "markdown",
   "metadata": {},
   "source": [
    "Broadly speaking, there are two implementation frameworks being referenced when we say \"vectorize X:\" \n",
    "\n",
    "* Framework 1 (which I call the \"built-in's implementation\") is what we saw in the previous coding exercise. It consists of passing vectorized *inputs* to functions which can already handle such inputs as the program in question will utilize package built-in operations designed to process arrays as inputs (i.e., the operators are *overloaded* - having multiple definitions to accord with multiple types of inputs). \n",
    "\n",
    "* Framework 2 (which I call the \"custom implementation\") is what you may have to do more frequently as the functionality you are seeking to vectorize becomes more complex. In these situations, you will have to write your own functions which accept array inputs and process them by creatively using built-in (but not overloaded) functions offered by packages like NumPy or writing your own efficient operation functions. \n",
    "\n",
    "Framework 2 is almost always going to be more unwiedly and time-consuming, but it may become unavoidable as your processing becomes more sophisticated and your data diverges from purely numerics. Still, I would always try to make Framework 1 work first - vectorization is a well-developed practice and you'll likely be able to find some resource online seeking to accomplish the same generic task as you. "
   ]
  },
  {
   "cell_type": "markdown",
   "metadata": {},
   "source": [
    "##### *Vectorization with non-numeric data:*"
   ]
  },
  {
   "cell_type": "markdown",
   "metadata": {},
   "source": [
    "Vectorization is (usually) most easily implemented in the context of numerical data, but can be adapted to non-numeric data types as well. Here's a quick example: "
   ]
  },
  {
   "cell_type": "code",
   "execution_count": 9,
   "metadata": {},
   "outputs": [],
   "source": [
    "import random as rd \n",
    "rd.seed(345)\n",
    "\n",
    "# wouldn't it be great if everything were named after me? this function makes it so it is! \n",
    "def anthony_ify(song_name): \n",
    "    # chop that song title up! \n",
    "    song_name_words = song_name.split()\n",
    "\n",
    "    # pick a random word and replace it with \"anthony\"\n",
    "    idx = rd.randint(0, len(song_name_words) - 1)\n",
    "    song_name_words[idx] = \"anthony\"\n",
    "\n",
    "    # string'em back together and return it! \n",
    "    better_song_name = ' '.join(song_name_words)\n",
    "\n",
    "    return better_song_name"
   ]
  },
  {
   "cell_type": "code",
   "execution_count": null,
   "metadata": {},
   "outputs": [],
   "source": [
    "# let's see what my function does: \n",
    "test_nums = [1004, 7942, 8282]     # fun fact! these are korean texting codes (1004 -> angel, 7942 -> just friends, 8282 -> quick quick!)\n",
    "\n",
    "# all of the song names in our dataset as a list \n",
    "song_name_list = song_df['track_name'].tolist()\n",
    "\n",
    "# testing it out! \n",
    "for num in test_nums: \n",
    "    print(\"Original song name: {og_name} || Improved song name: {anthony_name}\".format(\n",
    "            og_name = song_name_list[num], \n",
    "            anthony_name = anthony_ify(song_name_list[num]))\n",
    "        )"
   ]
  },
  {
   "cell_type": "code",
   "execution_count": null,
   "metadata": {},
   "outputs": [],
   "source": [
    "%%timeit\n",
    "\n",
    "# string processing is difficult to vectorize, so we'll use apply here: \n",
    "song_df['anthony_name'] = song_df.apply(lambda row: anthony_ify(row['track_name']), axis=1)"
   ]
  },
  {
   "cell_type": "code",
   "execution_count": null,
   "metadata": {},
   "outputs": [],
   "source": [
    "# let's see the results:\n",
    "song_df['anthony_name']"
   ]
  },
  {
   "cell_type": "markdown",
   "metadata": {},
   "source": [
    "Since we were using ```.apply()``` (which is often your best bet with complex string processing), the operation wasn't blazingly fast. We could have also tried to speed things up by decomposing our desired functionality into smaller processes, some of which could have been handled by Pandas built-in's: "
   ]
  },
  {
   "cell_type": "code",
   "execution_count": 37,
   "metadata": {},
   "outputs": [],
   "source": [
    "# this func. just replaces a word at a given index with anthony: \n",
    "def replace(words, index): \n",
    "    words[index] = \"anthony\"\n",
    "    return words  "
   ]
  },
  {
   "cell_type": "code",
   "execution_count": 38,
   "metadata": {},
   "outputs": [
    {
     "name": "stdout",
     "output_type": "stream",
     "text": [
      "196 ms ± 30.4 ms per loop (mean ± std. dev. of 7 runs, 10 loops each)\n"
     ]
    }
   ],
   "source": [
    "%%timeit \n",
    "\n",
    "# divide up each song name into its constituent words and compute word counts: \n",
    "song_df['name_words'] = song_df['track_name'].str.split()\n",
    "song_df['num_words']  = song_df['name_words'].str.len()\n",
    "\n",
    "word_counts = song_df['num_words'].tolist()\n",
    "# generate a new list with a random index for each word count: \n",
    "rand_idxs = [rd.randint(0, wc - 1) for wc in word_counts]\n",
    "song_df['rand_idxs'] = rand_idxs # add this list back to our dataframe\n",
    "\n",
    "# we end up using .apply() anyway, but do less in the apply()'ed function: \n",
    "song_df['name_words_w_anthony'] = song_df.apply(lambda row: replace(row['name_words'], row['rand_idxs']), axis=1)\n",
    "\n",
    "# reconstruct the new song name from their substring lists: \n",
    "song_df['anthony_name'] = [' '.join(map(str, l)) for l in song_df['name_words_w_anthony']]"
   ]
  },
  {
   "cell_type": "markdown",
   "metadata": {},
   "source": [
    "But as you can see, all this decomposition and attempted use of built-in's didn't offer any noticeable performance gain. So, while vectorization is possible with non-numeric data types, be aware that your mileage and benefits may vary. And speaking of which..."
   ]
  },
  {
   "cell_type": "markdown",
   "metadata": {},
   "source": [
    "##### *Benefits of and improving looping:*"
   ]
  },
  {
   "cell_type": "markdown",
   "metadata": {},
   "source": [
    "With all this talk of the runtime benefits of vectorization, you may be tempted to vectorize every loop you see. However, vectorization is not always faster than looping, especially when: \n",
    "\n",
    "1. Your data is small (say, < 1000 rows); \n",
    "2. You're dealing with ```object```/mixed ```dtypes```; and/or\n",
    "3. You're using ```str```/regex functions. \n",
    "\n",
    "And even if vectorization will likely lead to a faster operation, you may still opt for looping due to the function being difficult to vectorize, desire to avoid vectorization's memory overhead, etc. In such cases, here are two tools you can use to improve the efficiency of your looping: \n",
    "\n",
    "1. [*List comprehensions*](https://realpython.com/list-comprehension-python/) - list comprehensions are a Python construct designed to create lists through ```for``` loops. Their general syntax is ```[f(x) for x in seq]```. List comprehensions are surprisingly flexible - and performant (they are *the* optimized iterative mechanism for list creation in Python)! \n",
    "\n",
    "2. [*Cython*](https://cython.readthedocs.io/en/latest/src/tutorial/cython_tutorial.html) - available as both a package and a magic command, Cython is a module which attempts to convert and compile your Python code as C code. C code is often faster than Python code due to C's statically-typed nature, and C usually being compiled (as opposed to interpreted).\n",
    "\n",
    "So, don't forget about the humble loop! Depending on how you use it, it may be more powerful than it initially seems!"
   ]
  },
  {
   "cell_type": "markdown",
   "metadata": {},
   "source": [
    "## A.4. *Concluding notes*"
   ]
  },
  {
   "cell_type": "markdown",
   "metadata": {},
   "source": [
    "Before diving into the data processing stage of your project, please remember - vectorization is a wonderful and powerful tool, but every tool has its time and place. \n",
    "\n",
    "Before you try to vectorize any functionality, ask yourself *\"does this really need to be vectorized?\"* If it doesn't, you could waste more time trying to create an optimized implementation than if you just ran a slightly slower for-loop in the first place! \n",
    "\n",
    "But if you are going to vectorize, here's a (slightly modified) concise approach offered by Sofia Heisler in her [Pycon 2017 address](https://www.youtube.com/watch?v=HN5d490_KKk):\n",
    "\n",
    "1. Avoid loops, if called for and if you can. \n",
    "2. If you must loop, use ```.apply()``` or a list comprehension, not iteration functions. \n",
    "3. If you must ```.apply()``` or loop, use Cython to make it faster. \n",
    "4. Vectorization is usually better than scalar operations. \n",
    "5. Vector operations on NumPy's ```ndarray```'s are more efficient than on native Pandas Series. \n",
    "\n",
    "Did you enjoy making your code run faster? Add to your coding toolbox with some MOPS (**M**emory **O**ptimizations & **P**rogram **S**calability) - a future SSDS workshop on memory and runtime optimizations, especially when working with massive datasets in Pandas! Stay posted for a release date. "
   ]
  },
  {
   "cell_type": "markdown",
   "metadata": {},
   "source": [
    "![pandagif](./imgs/panda.gif)\n",
    "\n",
    "*Was this chapter all a set-up so I could include this GIF? You'll never know...*"
   ]
  }
 ],
 "metadata": {
  "kernelspec": {
   "display_name": "Python 3 (ipykernel)",
   "language": "python",
   "name": "python3"
  },
  "language_info": {
   "codemirror_mode": {
    "name": "ipython",
    "version": 3
   },
   "file_extension": ".py",
   "mimetype": "text/x-python",
   "name": "python",
   "nbconvert_exporter": "python",
   "pygments_lexer": "ipython3",
   "version": "3.9.12"
  },
  "vscode": {
   "interpreter": {
    "hash": "16c684165a00eba53f696e92e1de76bb4a10a33402bb31cdf5ab4f07210fc261"
   }
  }
 },
 "nbformat": 4,
 "nbformat_minor": 2
}
