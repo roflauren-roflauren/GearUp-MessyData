{
 "cells": [
  {
   "cell_type": "markdown",
   "metadata": {},
   "source": [
    "# Preface: How to use this book"
   ]
  },
  {
   "cell_type": "markdown",
   "metadata": {},
   "source": [
    "<a target=\"_blank\" href=\"https://colab.research.google.com/github/roflauren-roflauren/GearUp-MessyData/blob/main/fall_2022/how_to_use.ipynb\">\n",
    "  <img src=\"https://colab.research.google.com/assets/colab-badge.svg\" alt=\"Open In Colab\"/>\n",
    "</a>"
   ]
  },
  {
   "cell_type": "markdown",
   "metadata": {},
   "source": [
    "This book provides a reference for the exercises and code we present and discuss in the Understanding Messy Time Series Data workshop. While you can actually run the code in the book itself (although it might take a while to load - see below), think of this book as the single point to access the content, conceptual introductions, vocabulary terms, and code."
   ]
  },
  {
   "cell_type": "markdown",
   "metadata": {},
   "source": [
    "## Book layout"
   ]
  },
  {
   "cell_type": "markdown",
   "metadata": {},
   "source": [
    "This book's layout is divided into three sections: **(1) center portion**, **(2) left sidebar**, and **(3) right sidebar**.\n",
    "\n",
    "1. The center portion contains the main text. Here, goals, concepts, vocabulary, objectives, and code will be presented and explained.\n",
    "\n",
    "2. The left sidebar shows the table of contents. Use the ```left and right arrow keys``` to browse the different chapters.\n",
    "\n",
    "3. The right sidebar contains clickable section headers for the chapter you are currently viewing. Use the ```up and down arrow keys``` to scroll the page."
   ]
  },
  {
   "cell_type": "markdown",
   "metadata": {},
   "source": [
    "## Jupyter icons"
   ]
  },
  {
   "cell_type": "markdown",
   "metadata": {},
   "source": [
    "Notice the icons at the top  of each page. \n",
    "\n",
    "![jupyter-icons](./imgs/icons.png)"
   ]
  },
  {
   "cell_type": "markdown",
   "metadata": {},
   "source": [
    "* The **rocketship** icon appears on pages with executable code. Hover your mouse over it and click “Binder” to launch all of the materials there in a Jupyter Lab on Binder. Or, click **“Live Code”** to be able to run the code on the webpage, although this might take a long time to load!\n",
    "\n",
    "* Click the **square** icon to enter fullscreen mode. Press the escape key to exit.\n",
    "\n",
    "* Move your mouse over the **Octocat** icon. Click “Repository” to visit the GitHub site. Or, click “Open Issue” to contribute to this book.\n",
    "\n",
    "* The **download** icon can be used to download this book.\n",
    "\n",
    "* On the top-left of the page, click the **three lines** icon (toggle navigation) to hide the left sidebar."
   ]
  },
  {
   "cell_type": "markdown",
   "metadata": {},
   "source": [
    "## Workshop format"
   ]
  },
  {
   "cell_type": "markdown",
   "metadata": {},
   "source": [
    "SSDS's GearUp workshop consists of a single 2-hour session, divided into the following sections: \n",
    "\n",
    "* Lecture overviews of various lengths that introduce concepts, vocabulary and code examples. \n",
    "* A short break. \n",
    "* Time to review and discuss material collaboratively. \n",
    "\n",
    "Chapters components include: \n",
    "\n",
    "* Chapter previews (e.g., learning objectives, installation prerequisites). \n",
    "* Discussion texts (numbered in suggested order). \n",
    "* Coding demonstrations."
   ]
  },
  {
   "cell_type": "markdown",
   "metadata": {},
   "source": [
    "Not all of the material present in the book may be presented in the workshop, so feel free to explore the book more when you have the time! Sharing the book is encouraged as well. "
   ]
  },
  {
   "cell_type": "markdown",
   "metadata": {},
   "source": [
    "## Python environments"
   ]
  },
  {
   "cell_type": "markdown",
   "metadata": {},
   "source": [
    "There are many interfaces through which we can interact with and run the workshop coding examples, including: \n",
    "\n",
    "1. Google Colab\n",
    "2. Jupyter Lab via Binder\n",
    "3. Local Anaconda environment\n",
    "4. Text editor \n",
    "\n",
    "All of these interfaces can work, and no single one is strictly better than another. However, for the purposes of the workshop presentation, we will be using **Google Colab** due to its ease of use and quick start-up time. *Prior to the workshop,* please see the following instructions to set up your Colab environment: "
   ]
  },
  {
   "cell_type": "markdown",
   "metadata": {},
   "source": [
    "## Installing Google Colab"
   ]
  },
  {
   "cell_type": "markdown",
   "metadata": {},
   "source": [
    "Start by installing the extension to your Stanford Google Drive account.\n",
    "\n",
    "1. Click [here](https://accounts.google.com/ServiceLogin/signinchooser?service=wise&passive=true&continue=http%3A%2F%2Fdrive.google.com%2F%3Futm_source%3Den&utm_medium=button&utm_campaign=web&utm_content=gotodrive&usp=gtd%3Cmpl=drive&flowName=GlifWebSignIn&flowEntry=ServiceLogin) to visit the Google Colab sign in page\n",
    "\n",
    "2. Enter your SUNet email address on the “Choose an account” screen\n",
    "\n",
    "3. Click “My Drive”\n",
    "\n",
    "4. Click the “+New” button and select “Google Colaboratory”\n",
    "\n",
    "![colab_new](./imgs/colab_new.png)"
   ]
  },
  {
   "cell_type": "markdown",
   "metadata": {},
   "source": [
    "5\\. If you do not see this option, click \"+ Connect more apps\" and search for Colaboratory and the icon will appear: \n",
    "\n",
    "![colab_search](./imgs/colab_search.png)"
   ]
  },
  {
   "cell_type": "markdown",
   "metadata": {},
   "source": [
    "6\\. Click the brown and orange Colaboratory icon and click \"Install:\"\n",
    "\n",
    "![colab_install](./imgs/colab_install.png)"
   ]
  },
  {
   "cell_type": "markdown",
   "metadata": {},
   "source": [
    "7\\. Click \"Continue\" and select your **stanford.edu account** if prompted: \n",
    "\n",
    "![colab_select](./imgs/colab_continue.png)"
   ]
  },
  {
   "cell_type": "markdown",
   "metadata": {},
   "source": [
    "8\\. You will see that Colaboratory was successfully installed/connected to Google Drive when finished. Click \"OK\" and \"Done\" to complete the installation and close any remaining pop-up windows.\n",
    "\n",
    "![colab_success](./imgs/colab_success.png)"
   ]
  },
  {
   "cell_type": "markdown",
   "metadata": {},
   "source": [
    "## Using Google Colab"
   ]
  },
  {
   "cell_type": "markdown",
   "metadata": {},
   "source": [
    "To launch Colab, click the Colab badge at the top of each chapter in the book.\n",
    "\n",
    "![colab-badge](./imgs/colab_badge.png)\n",
    "\n",
    "Click the ```Run``` button in the toolbar, or press ```shift + enter``` on your keyboard to execute the cell. "
   ]
  },
  {
   "cell_type": "markdown",
   "metadata": {},
   "source": [
    "### Colab toolbar"
   ]
  },
  {
   "cell_type": "markdown",
   "metadata": {},
   "source": [
    "* Click the **+ Code** button to add a code cell\n",
    "* Click the **+ Text** button to add a text/markdown cell\n",
    "* Click the **Menu** to view the table of contents\n",
    "* Click the **File** folder to view your available files\n",
    "\n",
    "![colab-toolbar](./imgs/colab_toolbar.png)"
   ]
  },
  {
   "cell_type": "markdown",
   "metadata": {},
   "source": [
    "### Save your work"
   ]
  },
  {
   "cell_type": "markdown",
   "metadata": {},
   "source": [
    "* Click the **Copy to Drive** toolbar button, or\n",
    "* Click “File” –> “Download” –> “Download.ipynb”\n",
    "\n",
    "![colab-save](./imgs/colab_save_notebook.png)"
   ]
  },
  {
   "cell_type": "markdown",
   "metadata": {},
   "source": [
    "### Learn more\n",
    "\n",
    "Check out [Google Colab Tips for Power Users](https://amitness.com/2020/06/google-colaboratory-tips/) for shortcuts."
   ]
  },
  {
   "cell_type": "markdown",
   "metadata": {},
   "source": [
    "(*Note: this page was heavily adapted from the [\"How to use this book\"](https://eastbayev.github.io/SSDS-TAML/fall2022/1_How_to_use_this_book.html#) chapter of SSDS's Fall Quarter 2022 Text Analysis and Machine Learning Workshop - many thanks to its authors!)"
   ]
  }
 ],
 "metadata": {
  "kernelspec": {
   "display_name": "Python 3.10.6 64-bit",
   "language": "python",
   "name": "python3"
  },
  "language_info": {
   "name": "python",
   "version": "3.10.6"
  },
  "orig_nbformat": 4,
  "vscode": {
   "interpreter": {
    "hash": "de65b0f014eaa4e91eb08470e9da2c68e352502ee239b0d825d97d29c2332a57"
   }
  }
 },
 "nbformat": 4,
 "nbformat_minor": 2
}
