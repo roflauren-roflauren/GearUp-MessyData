{
 "cells": [
  {
   "cell_type": "code",
   "execution_count": 2,
   "id": "864123b6",
   "metadata": {},
   "outputs": [],
   "source": [
    "import os\n",
    "home_dir  = os.path.dirname(os.getcwd())"
   ]
  },
  {
   "cell_type": "code",
   "execution_count": 3,
   "id": "3ac2b322",
   "metadata": {},
   "outputs": [
    {
     "name": "stdout",
     "output_type": "stream",
     "text": [
      "/Users/evanmuzzall/Desktop/GearUp-MessyData\n"
     ]
    }
   ],
   "source": [
    "print(home_dir)"
   ]
  },
  {
   "cell_type": "code",
   "execution_count": null,
   "id": "93afd863",
   "metadata": {},
   "outputs": [],
   "source": []
  }
 ],
 "metadata": {
  "kernelspec": {
   "display_name": "Python 3 (ipykernel)",
   "language": "python",
   "name": "python3"
  },
  "language_info": {
   "codemirror_mode": {
    "name": "ipython",
    "version": 3
   },
   "file_extension": ".py",
   "mimetype": "text/x-python",
   "name": "python",
   "nbconvert_exporter": "python",
   "pygments_lexer": "ipython3",
   "version": "3.8.13"
  }
 },
 "nbformat": 4,
 "nbformat_minor": 5
}
