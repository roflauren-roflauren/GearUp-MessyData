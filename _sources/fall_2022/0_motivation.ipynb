{
 "cells": [
  {
   "cell_type": "markdown",
   "metadata": {},
   "source": [
    "# Chapter 0 - Why do we need robust data?"
   ]
  },
  {
   "cell_type": "markdown",
   "metadata": {},
   "source": [
    "<a target=\"_blank\" href=\"https://colab.research.google.com/github/roflauren-roflauren/GearUp-MessyData/blob/main/fall_2022/0_motivation.ipynb\">\n",
    "  <img src=\"https://colab.research.google.com/assets/colab-badge.svg\" alt=\"Open In Colab\"/>\n",
    "</a>"
   ]
  },
  {
   "cell_type": "markdown",
   "metadata": {},
   "source": [
    "## *Chapter preview*"
   ]
  },
  {
   "cell_type": "markdown",
   "metadata": {},
   "source": [
    "### Learning objectives\n",
    "\n",
    "- Understand the need for \"good\" data. \n",
    "\n",
    "- Identify and define key dimensions of data robustness.\n",
    "  \n",
    "- Develop operational understanding of GDP and GDP data.  \n",
    "\n",
    "*Key question:* What would an ideal dataset look like? How does that definition change depending on what the data is used for? "
   ]
  },
  {
   "cell_type": "markdown",
   "metadata": {},
   "source": [
    "### Code prerequisites: Python imports"
   ]
  },
  {
   "cell_type": "markdown",
   "metadata": {},
   "source": [
    "Before running any code blocks in the following chapter, please ensure you have the necessary Python packages installed via the following code block:"
   ]
  },
  {
   "cell_type": "code",
   "execution_count": null,
   "metadata": {},
   "outputs": [],
   "source": [
    "%pip install pandas\n",
    "%pip install matplotlib"
   ]
  },
  {
   "cell_type": "markdown",
   "metadata": {},
   "source": [
    "## What's the deal with data?"
   ]
  },
  {
   "cell_type": "markdown",
   "metadata": {},
   "source": [
    "Before we start exploring how to wrangle real-life, messy data, it's key to understand why we would want to do so. Motivating the need for robust data can help us make decisions on how to generate, process, and interpret data. \n",
    "\n",
    "Nowadays, we often hear stories of analysis gone awry. Misapplication of cutting-edge technologies is all too common (e.g., machine learning's [reproducibility crisis](https://www.wired.com/story/machine-learning-reproducibility-crisis/)), but proper analytic techniques implemented in the context of flawed data can also lead to faulty conclusions throughout a research pipeline. \n",
    "\n",
    "Data can be flawed in many ways. A particularly salient example of data flaws are *biased datasets*. Some of the most common biases you'll find in data include: \n",
    "\n",
    "- Selection bias \n",
    "  - Ex: a test population not being representative of the whole by excluding a key minority group.\n",
    "- Historical bias \n",
    "  - Ex: NLP word embedding models replicating gender-biased analogies like 'man::doctor, woman::nurse' due to historical disparities in opportunity.\n",
    "- Survivorship bias \n",
    "  - Ex: evaluating performance of hedge funds from 1990 to 2010 - only those hedge which still exist in 2010 will be present, which already implies a certain degree of monetary sucess.\n",
    "- Availability bias \n",
    "  - Ex: anytime we use a convenient data source instead of the best one.\n",
    "- Outlier bias \n",
    "  - Ex: employing summary statistics which mask or are overly-sensitive to outliers to make conclusions and drive decisions."
   ]
  },
  {
   "cell_type": "markdown",
   "metadata": {},
   "source": [
    "![xkcd](./imgs/xkcd.png)\n",
    "\n",
    "*An example of how **not** to deal with data biases...*"
   ]
  },
  {
   "cell_type": "markdown",
   "metadata": {},
   "source": [
    "For more on data bias: \n",
    "1. [Types of Biases in Data](https://towardsdatascience.com/types-of-biases-in-data-cafc4f2634fb)\n",
    "2. [Statistical Bias Types explained](https://data36.com/statistical-bias-types-explained/)\n",
    "3. [Fairness in Machine Learning](https://developers.google.com/machine-learning/crash-course/fairness/types-of-bias)\n",
    "\n",
    "Data bias is just one of many ways a dataset can lack robustness. But, before we learn how to create robust datasets, we need to define what robust data is."
   ]
  },
  {
   "cell_type": "markdown",
   "metadata": {},
   "source": [
    "## Defining robust data"
   ]
  },
  {
   "cell_type": "markdown",
   "metadata": {},
   "source": [
    "While the need for quality data may be apparent, what attributes such data would possess is not immediately obvious. \n",
    "\n",
    "What would an \"ideal\" dataset look like to you? How would you collect it? \n",
    "\n",
    "[comment]: <> (Break for Zoom discussion)"
   ]
  },
  {
   "cell_type": "markdown",
   "metadata": {},
   "source": [
    "![datacollection](./imgs/datacollection.png)"
   ]
  },
  {
   "cell_type": "markdown",
   "metadata": {},
   "source": [
    "When we look to describe the robustness of a dataset, it can be useful to think about what that data will be used for. Data may be used to: \n",
    "\n",
    "- Run experiments\n",
    "- Validate hypotheses\n",
    "- Draw inferences\n",
    "- Make decisions\n",
    "\n",
    "etc. These usages are all common and critical applications of data, and they all share a foundational element: they employ or rely on *data analysis.* \n",
    "\n",
    "Then, when we think about data robustness, it can be useful to think about it as being \"robust to analysis\" or not. When we define data robustness this way, are there additional ideal dataset qualities you can think of?"
   ]
  },
  {
   "cell_type": "markdown",
   "metadata": {},
   "source": [
    "## A working definition"
   ]
  },
  {
   "cell_type": "markdown",
   "metadata": {},
   "source": [
    "Ultimately, the exact definition of robust data are going to be dependent on your field of research and/or your particular application. However, some key considerations in any defintion include: \n",
    "\n",
    "- Data sourcing (which can lead to biased data, as previously dicussed)\n",
    "- Data continuity \n",
    "- Data timeliness \n",
    "\n",
    "In this workshop, we're going to be exploring how each one of these considerations can impact the creation and analysis of US GDP (**G**ross **D**omestic **P**roduct) data. For some quick interactive definitions of these terms, take a look at the code blocks below. Otherwise, feel free to move onto the next chapter to learn some more about GDP and typical GDP data before jumping in. \n",
    "\n",
    "[comment]: <> (Allow time for code block running before moving onto the next chapter)"
   ]
  },
  {
   "cell_type": "markdown",
   "metadata": {},
   "source": [
    "#### *Data sourcing example:*"
   ]
  },
  {
   "cell_type": "markdown",
   "metadata": {},
   "source": [
    "\n",
    "*Data sourcing* refers to the process of finding, assessing, and ultimately selecting a data resource to work with (be it a specific dataset, a wider database, or a third-party data vendor). Decisions by the curator of a data resource can impact the availability, representativeness, structure, and other critical attributes of your employed data — which ultimately can influence analysis . Let's see an example: "
   ]
  },
  {
   "cell_type": "code",
   "execution_count": 2,
   "metadata": {},
   "outputs": [],
   "source": [
    "\"\"\" DATA SOURCING: INTERACTIVE DEFINITION \"\"\"\n",
    "# importing some libraries: \n",
    "import os                           # use: file management and access \n",
    "import pandas as pd                 # use: data intake and manipulation \n",
    "import matplotlib.pyplot as plt     # use: custom data visualization "
   ]
  },
  {
   "cell_type": "code",
   "execution_count": null,
   "metadata": {},
   "outputs": [],
   "source": [
    "\"\"\" BINDER USERS: \"\"\"\n",
    "# retrieving the data - this is a dataset detailing data science job salaries: \n",
    "# source: https://www.kaggle.com/datasets/ruchi798/data-science-job-salaries?resource=downloadz\n",
    "# uncomment: data = pd.read_csv('./sample_datasets/ds_salaries.csv', encoding='utf-8')\n",
    "\n",
    "\"\"\" COLAB USERS: \"\"\"\n",
    "!mkdir data # create a '/data' directory if one doesn't already exist\n",
    "!wget -P data/ https://raw.githubusercontent.com/roflauren-roflauren/GearUp-MessyData/main/fall_2022/sample_datasets/ds_salaries.csv # retrieve the dataset from remote storage on GitHub\n",
    "data = pd.read_csv(\"data/ds_salaries.csv\", encoding='utf-8')"
   ]
  },
  {
   "cell_type": "code",
   "execution_count": null,
   "metadata": {},
   "outputs": [],
   "source": [
    "# let's get a quick look at a few entries: \n",
    "print(data.head(5))\n",
    "\n",
    "# what different fields does this dataset possess for each entry? \n",
    "print(list(data.columns))"
   ]
  },
  {
   "cell_type": "code",
   "execution_count": null,
   "metadata": {},
   "outputs": [],
   "source": [
    "# let's see how many entries we have in the dataset for each experience level: \n",
    "expr_lvl_data = data['experience_level'].value_counts().sort_index(ascending=False)\n",
    "bars = plt.bar(expr_lvl_data.index, expr_lvl_data.values)\n",
    "plt.bar_label(bars)"
   ]
  },
  {
   "cell_type": "markdown",
   "metadata": {},
   "source": [
    "*Food for thought - impacts of data sourcing:*\n",
    "\n",
    "* Based on the generated chart, if we were to compute the mean/median salary for a data science job in 2020, what kind of issues might we be overlooking? Is there anything fundamentally wrong with a mean/median calculation, or is there an issue with the dataset we chose to use? How might a different data source rectify these issues? "
   ]
  },
  {
   "cell_type": "markdown",
   "metadata": {},
   "source": [
    "#### *Data continuity example:*"
   ]
  },
  {
   "cell_type": "markdown",
   "metadata": {},
   "source": [
    "*Data continuity* refers the completeness of the chosen data source across a given dimension of analysis. A common dimension for evaluating data continuity is time as with time series data — if we would like to conduct biweekly analysis for a given metric for a specific year, a dataset with 26 appropriately-spaced and populated entries would be continuous with respect to time. \n",
    "\n",
    "Although time is an intuitive dimension, it is not the only one. Datasets can be continuous with respect to color, location, price, etc. — the evaluation depends on your desired criteria of analysis. Incomplete data can limit the scope and representativeness of your analysis, and methods to rectify incomplete data (e.g., impute missing values) can also impact your analysis. Let's see an example: "
   ]
  },
  {
   "cell_type": "code",
   "execution_count": 49,
   "metadata": {},
   "outputs": [],
   "source": [
    "\"\"\" DATA CONTINUITY: INTERACTIVE DEFINITION \"\"\"\n",
    "# importing some libraries: \n",
    "import os                           # use: file management and access \n",
    "import pandas as pd                 # use: data intake and manipulation \n",
    "import matplotlib.pyplot as plt     # use: custom data visualization "
   ]
  },
  {
   "cell_type": "code",
   "execution_count": null,
   "metadata": {},
   "outputs": [],
   "source": [
    "\"\"\" BINDER USERS: \"\"\"\n",
    "# retrieving the data - this is a dataset detailing time series climate data in Delhi:  \n",
    "# source: https://www.kaggle.com/datasets/sumanthvrao/daily-climate-time-series-data\n",
    "# uncomment: data = pd.read_csv('./sample_datasets/daily_delhi_climate.csv', encoding='utf-8')\n",
    "\n",
    "\"\"\" COLAB USERS: \"\"\"\n",
    "# !mkdir data # create a '/data' directory if one doesn't already exist\n",
    "!wget -P data/ https://raw.githubusercontent.com/roflauren-roflauren/GearUp-MessyData/main/fall_2022/sample_datasets/daily_delhi_climate.csv # retrieve the dataset from remote storage on GitHub\n",
    "data = pd.read_csv(\"data/daily_delhi_climate.csv\", encoding='utf-8')"
   ]
  },
  {
   "cell_type": "code",
   "execution_count": null,
   "metadata": {},
   "outputs": [],
   "source": [
    "# let's check out the data structure:\n",
    "data.head(5)"
   ]
  },
  {
   "cell_type": "code",
   "execution_count": null,
   "metadata": {},
   "outputs": [],
   "source": [
    "# .info() provides a concise summary of a dataframe: \n",
    "data.info()"
   ]
  },
  {
   "cell_type": "code",
   "execution_count": null,
   "metadata": {},
   "outputs": [],
   "source": [
    "# .describe() provides insight into the dispersion & shape of a dataframe's distribution: \n",
    "data.describe()"
   ]
  },
  {
   "cell_type": "code",
   "execution_count": 51,
   "metadata": {},
   "outputs": [],
   "source": [
    "# let's take a look at the mean temperature in april: \n",
    "# subset just the date and temperature columns: \n",
    "data = data[['date', 'meantemp']]\n",
    "\n",
    "# filter rows for just the dates occurring in april: \n",
    "april_start_end_idxs = data.index[(data['date'] == \"4/1/2013\") | (data['date'] == \"4/30/2013\")].tolist()\n",
    "april_only_data = data[(april_start_end_idxs[0]) : (april_start_end_idxs[1] + 1)]\n",
    "\n",
    "april_only_data"
   ]
  },
  {
   "cell_type": "code",
   "execution_count": null,
   "metadata": {},
   "outputs": [],
   "source": [
    "# are any dates missing? let's make a scatterplot to see: \n",
    "plt.plot(april_only_data['date'], april_only_data['meantemp'])\n",
    "\n",
    "# some formatting options to make the plot readable: \n",
    "plt.xticks(rotation = 45, fontsize = 6)\n",
    "plt.ylim((20,35))\n",
    "plt.xlabel(\"Date\")\n",
    "plt.ylabel(\"Temperature (°C)\")\n",
    "\n",
    "# display the plot: \n",
    "plt.show()"
   ]
  },
  {
   "cell_type": "markdown",
   "metadata": {},
   "source": [
    "*Food for thought - impacts of data continuity:*\n",
    "\n",
    "* Based on the scatter plot, is the April temperature data continuous? If we were trying to conduct some analysis on the April temperature data, how might the (lack of) data continuity affect us? Could we impute the points of discontinuity? How? Would one imputation method be better than others? Why? "
   ]
  },
  {
   "cell_type": "markdown",
   "metadata": {},
   "source": [
    "#### *Data timeliness example:*"
   ]
  },
  {
   "cell_type": "markdown",
   "metadata": {},
   "source": [
    "*Data timeliness* refers to the proximity of utilized data to the present moment and relevant analysis and projections. Establishing data timeliness means utlizing datasets that are near-contemporaneous with your timeframe of analysis; i.e., NLP analysis on the most prominent topics in 1970's science textbooks should not use a text corpus of 1950's science textbooks. \n",
    "\n",
    "In the case of research motivating predictions and decision-making, data timeliness is especially relevant — e.g., predicting potential wildfire hotspots demands continuously-updated and near real-time data. To that end, data sourcing and data continuity assessments of available resources become particularly important. \n",
    "\n",
    "Although data timeliness may appear to be a structural product of data sourcing and continuity, we'll later discuss methods to guarantee data timeliness (like developing a coincident/leading indicators) to ensure your data and analytic products are up-to-date. "
   ]
  },
  {
   "cell_type": "code",
   "execution_count": 71,
   "metadata": {},
   "outputs": [],
   "source": [
    "\"\"\" DATA TIMELINESS: INTERACTIVE DEFINITION \"\"\"\n",
    "# importing some libraries: \n",
    "import os                           # use: file management and access \n",
    "import pandas as pd                 # use: data intake and manipulation \n",
    "import matplotlib.pyplot as plt     # use: custom data visualization "
   ]
  },
  {
   "cell_type": "code",
   "execution_count": null,
   "metadata": {},
   "outputs": [],
   "source": [
    "\"\"\" BINDER USERS: \"\"\"\n",
    "# retrieving the data - this is a dataset detailing hospital capacity in SF for COVID-19:  \n",
    "# source: https://catalog.data.gov/dataset/covid-19-hospital-capacity\n",
    "# uncomment: data = pd.read_csv('./sample_datasets/covid19_hospital_capacity.csv', encoding='utf-8')\n",
    "\n",
    "\"\"\" COLAB USERS: \"\"\"\n",
    "# !mkdir data # create a '/data' directory if one doesn't already exist\n",
    "!wget -P data/ https://raw.githubusercontent.com/roflauren-roflauren/GearUp-MessyData/main/fall_2022/sample_datasets/covid19_hospital_capacity.csv # retrieve the dataset from remote storage on GitHub\n",
    "data = pd.read_csv(\"data/covid19_hospital_capacity.csv\", encoding='utf-8')"
   ]
  },
  {
   "cell_type": "code",
   "execution_count": null,
   "metadata": {},
   "outputs": [],
   "source": [
    "# always explore the data before processing it!\n",
    "# sample entries: \n",
    "print(data.head(5))\n",
    "\n",
    "# info on the dataset columns and types: \n",
    "data.info()"
   ]
  },
  {
   "cell_type": "code",
   "execution_count": null,
   "metadata": {},
   "outputs": [],
   "source": [
    "# suppose we're only concerned with 'Available,' 'Intensive Care' beds: \n",
    "avail_ic_beds = data[(data['Bed Type'] == 'Intensive Care') & (data['Status'] == 'Available')]\n",
    "\n",
    "# sort the dataset by date: \n",
    "avail_ic_beds = avail_ic_beds.sort_values(by='Date', ignore_index=True)\n",
    "\n",
    "# let's get just the latest data & view it: \n",
    "avail_ic_beds = avail_ic_beds.tail(15)\n",
    "avail_ic_beds"
   ]
  },
  {
   "cell_type": "code",
   "execution_count": null,
   "metadata": {},
   "outputs": [],
   "source": [
    "# visualize the data: \n",
    "plt.plot(avail_ic_beds['Date'], avail_ic_beds['Count'])\n",
    "plt.xticks(rotation = 45, fontsize = 8)\n",
    "plt.xlabel(\"Date\")\n",
    "plt.ylabel(\"# Available Beds\")\n",
    "plt.show()"
   ]
  },
  {
   "cell_type": "markdown",
   "metadata": {},
   "source": [
    "*Food for thought - impacts of data timeliness:*\n",
    "\n",
    "* Where does this dataset end? Would this data be useful for predicting the number of available beds *today*? If no, what might be an alternative solution for this prediction task? If we can't find a better dataset for this exact metric, can we approximate it somehow? "
   ]
  },
  {
   "cell_type": "markdown",
   "metadata": {},
   "source": [
    "## Workshop essentials: GDP refresher"
   ]
  },
  {
   "cell_type": "markdown",
   "metadata": {},
   "source": [
    "![gdp_calc](./imgs/gdp_calculation.gif)\n",
    "\n",
    "*One of economics' greatest hits!*"
   ]
  },
  {
   "cell_type": "markdown",
   "metadata": {},
   "source": [
    "#### *GDP defintion and usage*"
   ]
  },
  {
   "cell_type": "markdown",
   "metadata": {},
   "source": [
    "For the rest of this workshop, we'll be exploring topics in the context of US GDP (**G**ross **D**omestic **P**roduct) data. In case you haven't worked with GDP data before, or you just want a quick review, here's a rundown:  \n",
    "\n",
    "* *Definition:* GDP is \"the total monetary or market value of all the finished goods and services produced within a country's borders in a specific time period. \n",
    "\n",
    "* *Use:* general indicator of a country's overall productivity and/or economic health (useful for large-scale social inquiries)\n",
    "\n",
    "* *Common forms:* \n",
    "  * nominal GDP - GDP as measured with contemporaneous prices of goods\n",
    "  * real GDP - GDP as measured with a fixed year's prices of goods\n",
    "  * potential GDP - an estimate of a country's GDP under ideal economic conditions (e.g., steady currency value, low inflation, full employment)\n",
    "  * GDP per capita - GDP divided by the population of a country, productivity per person"
   ]
  },
  {
   "cell_type": "markdown",
   "metadata": {},
   "source": [
    "#### *Your \"typical\" GDP dataset:*"
   ]
  },
  {
   "cell_type": "markdown",
   "metadata": {},
   "source": [
    "What makes GDP an ideal statistic to wrangle with when learning to deal with \"real-life\" data? Let's take a look: \n",
    "\n",
    "* *Qualities of GDP Data(sets):*\n",
    "\n",
    "  * Typically presented as **timeseries** data, a common data type for longitudinal studies. \n",
    "\n",
    "  * Usually published with a **lag** - e.g., 2013 Q2 GDP data wasn't officially released until the end of 2013 Q3.\n",
    "\n",
    "  * Computed and posted by **numerous** agencies and entities, typically government-related.\n",
    "\n",
    "  * **Multiple** approaches available for calculation (e.g., expenditure, production, and income approaches)\n",
    "\n",
    "As we'll soon find out, each of these qualities can lend itself to inherent issues in the sourcing and use of GDP data! When you're ready, move on to Chapter 1 ⏩!"
   ]
  }
 ],
 "metadata": {
  "kernelspec": {
   "display_name": "Python 3 (ipykernel)",
   "language": "python",
   "name": "python3"
  },
  "language_info": {
   "codemirror_mode": {
    "name": "ipython",
    "version": 3
   },
   "file_extension": ".py",
   "mimetype": "text/x-python",
   "name": "python",
   "nbconvert_exporter": "python",
   "pygments_lexer": "ipython3",
   "version": "3.9.12"
  },
  "vscode": {
   "interpreter": {
    "hash": "16c684165a00eba53f696e92e1de76bb4a10a33402bb31cdf5ab4f07210fc261"
   }
  }
 },
 "nbformat": 4,
 "nbformat_minor": 2
}
