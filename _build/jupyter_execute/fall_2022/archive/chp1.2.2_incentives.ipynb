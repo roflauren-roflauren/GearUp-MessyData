{
 "cells": [
  {
   "cell_type": "markdown",
   "metadata": {},
   "source": [
    "## Chapter 1.2.2. - *Understanding author incentives and purpose* \n",
    "\n",
    "(continued from end of Chapter 1.2.1.)\n",
    "\n",
    "...and wouldn't you believe it, there is! We can consider the research *intended purpose and incentives* of \"generic research entity types.\""
   ]
  },
  {
   "cell_type": "markdown",
   "metadata": {},
   "source": [
    "### ***PREFACE:***\n",
    "\n",
    "Two quick notes before we get started: \n",
    "\n",
    "1\\. What is a \"generic research entity type?\" Well, it's a (bit of an awkward) name for a type of individual/group that would conduct research and publish data. A non-exhaustive list includes:  \n",
    "  \n",
    "  - **Academic** - students, professors, research aides, organized labs and groups, reserach institutes, etc. \n",
    "\n",
    "  - **Governmental** - state and local governments, individual bureaucrats, federal departments and associations (e.g., Dept. of Defense, NASA), international bodies like the U.N.\n",
    "\n",
    "  - **Commerical** - companies and corporations (espeically advisory companies - e.g.,  management consulting firms)\n",
    "\n",
    "Going forward, I'll refer to these generics as \"reseacher types\" with the caveat that we aren't necessarily referring to individual researchers. Name suggestions for this concept are welcome! \n",
    "\n",
    "2\\. Also, we can certainly do the forthcoming data sourcing practice on a dataset-by-dataset level (and I would encourage you to do so)! \n",
    "\n",
    "  * But, applying this practice in the context of research entity-types rather than specific entities can be a useful way to expedite the data sourcing process, as different entities belonging to the same researcher type can have similar/shared purposes and incentives. \n",
    "\n",
    "Now we're ready to dive in! "
   ]
  },
  {
   "cell_type": "markdown",
   "metadata": {},
   "source": [
    "<div>\n",
    "<img src=\"../imgs/incentives.png\" width=\"500\"/>\n",
    "<figcaption><em> When you're a [research entity], everything looks like a [carrot], or something like that... </em></figcaption>\n",
    "<div> \n",
    "<br>\n",
    "\n",
    "### ***DISCUSSION 1:***\n",
    "What does it mean to consider the intended purpose and incentives of a generic entity? For me, it's all about answering two key questions: \n",
    "\n",
    "* To identify an **intended purpose,** I ask myself: *\"How did the person/group/researcher type who published this data want it to be used?\"*\n",
    "\n",
    "* To identify **incentives,** I ask myself: *\"Why did this person/group/researcher type conduct the research that gave rise to this data resource in the first place?*\n",
    "\n",
    "Take a few minutes to brainstorm some potential answers to these questions in the context of researcher types, and then take a look at the following table! \n",
    "\n",
    "<center>\n",
    "                                                   <strong>Table 2. Research type incentives</strong> \n",
    "<br><br>\n",
    "\n",
    "| **Researcher type** | **Researcher sub-type**    | **Potential incentives**                                                  | **Potential intended purposes**                                |\n",
    "|---------------------|----------------------------|---------------------------------------------------------------------------|----------------------------------------------------------------|\n",
    "| Academic            | Professor                  | Boosting reputation, securing tenure, \"scooping\" competitors              | To suggest a causal relationship between ___ and ___           |\n",
    "| Academic            | Student                    | Jockeying for authorship position, ensuring lab employment                | (Commonly aligned with a supervising faculty/lab)              |\n",
    "| Governmental        | Department of Defense      | Lobbying for funding, influencing other dept.'s spending & efforts        | To demonstrate a security vulnerability to ___ from ___        |\n",
    "| Governmental        | U.N.                       | Motivating international sanctions, initiatives, coalition-building, etc. | To coordinate the policies of ___ and ___                      |\n",
    "| Commercial          | Financial Analyst          | Identifying investment opportunities, improving perceived performance     | To encourage/expedite internal or external financial decisions |\n",
    "| Commercial          | Management Consulting Firm | Generating & securing additional clientele through discovered needs       | To be read and create demand for their services                |\n",
    "</center>"
   ]
  },
  {
   "cell_type": "markdown",
   "metadata": {},
   "source": [
    "This is in no way a complete list (where would you make changes? additions? deletions?) - but hopefully it can help you see that researchers may be operating with conscious/unconscious biases when collecting the data that ultimately underpins their research. Then, how should this knowledge impact your data sourcing process? \n",
    "\n",
    "* Always keep in mind that most research (and supporting data) suffers from *publication bias,* or the failure to publish the results of a study on the basis of the direction and/or strength of the study findings. Relatedly, studies can suffer from a *\"newsworthy bias,\"* where individuals only publish research and accompanying data which demonstrates an interesting or notable result, which can already suggest anomalies in the collected data. \n",
    "\n",
    "* Opting for alternate researcher types when there are egregious conflicts on interest (e.g., climate studies data collected by petroleum companies) is a logical first step. Most of the time, maintaining a weak preference for academic & governmental sources is recommended.\n",
    "\n",
    "* More generally, you can select data sources such that the original dataset's intended purpose and related incentives are orthogonal to your current study's purpose; i.e., if you wanted to collect data on non-exercise cancer risk factors, you could think about using the covariates data from another study that proposes a link between cancer risk and being sedentary. "
   ]
  },
  {
   "cell_type": "markdown",
   "metadata": {},
   "source": [
    "### ***DISCUSSION 2:***\n",
    "\n",
    "Of special note is the fact that for both researcher types and specific researchers within a type, incentives and intended purpose of analogous studies (and their related data) *can change over time* - this is especially important to consider in the context of timeseries analysis. To understand how changing incentives and intended purpose can impact collected data, let's see an example: \n",
    "\n",
    "<div>\n",
    "<img src=\"../imgs/small_business.png\" width=\"500\"/>\n",
    "<div><br>\n",
    "\n",
    "We're going to zoom in on the contribution of portion of national GDP generated by small businesses. Essentially all of the recent studies and available data on small business GDP (SGDP) is spearheaded by one author within one organization, the federal government's Small Business Administration. Here's some info about two reports released by this same author: \n",
    "\n",
    "* [Report 1](http://www.richschwinn.com/index/sgdp_v1.8_SBA.pdf): \n",
    "\n",
    "  * Published: April 2007 \n",
    "  \n",
    "  * Data timeframe: 1998-2004\n",
    "\n",
    "* [Report 2](https://permanent.fdlp.gov/websites/www.sba.gov/advo/research/rs299.pdf): \n",
    "\n",
    "  * Published: December 2017\n",
    "\n",
    "  * Data timeframe: 1998-2014 \n",
    "\n",
    "*(Note: All data used in the following dicussion were sourced from these reports.)*\n",
    "\n",
    "As part of both reports, SGDP as a percentage of GDP (both nominal figures) is calculated. In the overlapping timeframes of the two reports (i.e., 1998-2004), would we expect there to be dramatic differences in the SGDP as a percentage of GDP data? Why? Could incentives and intended purpose changed - how so? \n",
    "\n",
    "Let's take a look with some code: "
   ]
  },
  {
   "cell_type": "markdown",
   "metadata": {},
   "source": [
    "### ***CODING EXERCISE:***"
   ]
  },
  {
   "cell_type": "code",
   "execution_count": 1,
   "metadata": {},
   "outputs": [],
   "source": [
    "# required imports: \n",
    "import os                           # use: file management and access \n",
    "import numpy as np                  # use: some calculations\n",
    "import pandas as pd                 # use: data intake and manipulation \n",
    "import matplotlib.pyplot as plt     # use: data viz. "
   ]
  },
  {
   "cell_type": "code",
   "execution_count": 2,
   "metadata": {},
   "outputs": [
    {
     "name": "stdout",
     "output_type": "stream",
     "text": [
      "year\n",
      "1998    49.2\n",
      "1999    49.1\n",
      "2000    48.5\n",
      "2001    48.8\n",
      "2002    47.1\n",
      "2003    47.0\n",
      "2004    46.5\n",
      "2005    45.5\n",
      "2006    45.4\n",
      "2007    45.4\n",
      "2008    45.0\n",
      "2009    44.7\n",
      "2010    44.4\n",
      "2011    44.3\n",
      "2012    44.2\n",
      "2013    43.6\n",
      "2014    43.5\n",
      "Name: 2017_report_sgdp_share, dtype: float64\n"
     ]
    }
   ],
   "source": [
    "\"\"\" DATA SOURCING: CHANGING INCENTIVES AND INTENDED PURPOSE \"\"\"\n",
    "# importing the data (index column has year values): \n",
    "datasets_dir = os.path.dirname(os.getcwd()) + os.sep + 'sample_datasets' + os.sep \n",
    "sgdp_data = pd.read_csv(datasets_dir + 'sgdp_sba.csv' , encoding='utf-8', header=0, index_col=0)\n",
    "\n",
    "# 2017 subset of data: \n",
    "print(sgdp_data['2017_report_sgdp_share'])"
   ]
  },
  {
   "cell_type": "code",
   "execution_count": 3,
   "metadata": {},
   "outputs": [
    {
     "data": {
      "image/png": "[encoded data removed]",
      "text/plain": [
       "<Figure size 432x288 with 1 Axes>"
      ]
     },
     "metadata": {
      "filenames": {
       "image/png": "C:\\Users\\ad2we\\Desktop\\SSDS Consultancy\\GearUp_Fall_2022\\GearUp-MessyData\\_build\\jupyter_execute\\fall_2022\\archive\\chp1.2.2_incentives_8_0.png"
      },
      "needs_background": "light"
     },
     "output_type": "display_data"
    }
   ],
   "source": [
    "# some scatter plots of the data: \n",
    "plt.scatter(sgdp_data.index, sgdp_data['2007_report_sgdp_share'], label='2007: SGDP SHARE OF GDP (%)', color='limegreen')\n",
    "plt.scatter(sgdp_data.index, sgdp_data['2017_report_sgdp_share'], label='2017: SGDP SHARE OF GDP (%)', color='blue')\n",
    "\n",
    "# 2007 best fit line: \n",
    "xvals = [1998, 2004]\n",
    "yvals = [sgdp_data.loc[[1998]]['2007_report_sgdp_share'].values[0], sgdp_data.loc[[2004]]['2007_report_sgdp_share'].values[0]]\n",
    "plt.plot(xvals, yvals, linewidth=2, linestyle='--', color='seagreen')\n",
    "\n",
    "# 2017 best fit line: \n",
    "a, b = np.polyfit(sgdp_data.index, sgdp_data['2017_report_sgdp_share'], 1)\n",
    "plt.plot(sgdp_data.index, a*sgdp_data.index + b, linewidth=2, linestyle='--', color='steelblue')\n",
    "\n",
    "# formatting options: \n",
    "plt.title(\"SGDP DATA: 2007 vs. 2017 REPORT\")\n",
    "plt.xlabel(\"Year\"), plt.ylabel(\"SGDP SHARE OF NON-FARM GDP (%)\")\n",
    "plt.legend(loc='upper right')\n",
    "plt.tight_layout()"
   ]
  },
  {
   "cell_type": "markdown",
   "metadata": {},
   "source": [
    "### ***DISCUSSION 3:***\n",
    "\n",
    "Even from this quick visualization, major discrepancies are apparent: \n",
    "\n",
    "* The 2007 report contained only initial and ending figures for SGDP share as a % of GDP, while the 2017 report offered data points for all years reviewed in the report. \n",
    "\n",
    "* The trend in SGDP share is directionally opposite for the two reports. \n",
    "\n",
    "* The two reports aim to measure the same metric, but have differing figures for their shared years of measurement (1998, 2004). \n",
    "\n",
    "What might be the cause of the lack of granular data in the 2007 report? How about the apparent switch in the trend of SGDP share? Is there reason to suspect a shift in intended purpose and incentives (recall that both reports were sanctioned by the Small Business Administration, and their respective years of publication)?"
   ]
  },
  {
   "cell_type": "markdown",
   "metadata": {},
   "source": [
    "### ***CONCLUSION:***\n",
    "\n",
    "Ultimately, while we aren't here to play whistleblower, in this case and almost all others, it's worth noting that which dataset you elect to use may have great impact on your research results - especially when it comes to multiple data resources claiming to measure the same metric; i.e., suppose you wanted to investigate small business health in the decade before and after the Great Recession. How would which dataset you use impact your results? How so? \n",
    "\n",
    "In short, incentives & intended purposes of research can change across researcher types, for the same researcher type, and even for the same researcher. These changes may not give rise to drastically misreported or conflicting data - but in research, the details matter. So, it's always worth thinking about what incentives and intended purpose can imply for data resources, and your research. "
   ]
  }
 ],
 "metadata": {
  "kernelspec": {
   "display_name": "Python 3.10.6 64-bit",
   "language": "python",
   "name": "python3"
  },
  "language_info": {
   "codemirror_mode": {
    "name": "ipython",
    "version": 3
   },
   "file_extension": ".py",
   "mimetype": "text/x-python",
   "name": "python",
   "nbconvert_exporter": "python",
   "pygments_lexer": "ipython3",
   "version": "3.9.12"
  },
  "vscode": {
   "interpreter": {
    "hash": "de65b0f014eaa4e91eb08470e9da2c68e352502ee239b0d825d97d29c2332a57"
   }
  }
 },
 "nbformat": 4,
 "nbformat_minor": 2
}