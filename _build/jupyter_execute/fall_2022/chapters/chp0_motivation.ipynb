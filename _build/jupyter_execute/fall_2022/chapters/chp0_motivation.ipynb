{
 "cells": [
  {
   "cell_type": "markdown",
   "metadata": {},
   "source": [
    "# Chapter 0 - Why do we need robust data?"
   ]
  },
  {
   "cell_type": "markdown",
   "metadata": {},
   "source": [
    "<div>\n",
    "<img src=\"../imgs/xkcd.png\" width=\"500\"/>\n",
    "<figcaption><em>Garbage in, garbage out...</em></figcaption>\n",
    "<div>"
   ]
  },
  {
   "cell_type": "markdown",
   "metadata": {},
   "source": [
    "#### ***Chapter Imports***"
   ]
  },
  {
   "cell_type": "markdown",
   "metadata": {},
   "source": [
    "Before running any code blocks in the following chapter, please ensure you have the necessary Python packages installed via the following code block:"
   ]
  },
  {
   "cell_type": "code",
   "execution_count": 1,
   "metadata": {},
   "outputs": [
    {
     "name": "stdout",
     "output_type": "stream",
     "text": [
      "Requirement already satisfied: pandas in c:\\users\\ad2we\\appdata\\roaming\\python\\python39\\site-packages (1.4.3)\n",
      "Requirement already satisfied: pytz>=2020.1 in c:\\users\\ad2we\\anaconda3\\lib\\site-packages (from pandas) (2022.1)\n",
      "Requirement already satisfied: python-dateutil>=2.8.1 in c:\\users\\ad2we\\anaconda3\\lib\\site-packages (from pandas) (2.8.2)\n",
      "Requirement already satisfied: numpy>=1.18.5 in c:\\users\\ad2we\\appdata\\roaming\\python\\python39\\site-packages (from pandas) (1.22.4)\n",
      "Requirement already satisfied: six>=1.5 in c:\\users\\ad2we\\anaconda3\\lib\\site-packages (from python-dateutil>=2.8.1->pandas) (1.16.0)\n",
      "Note: you may need to restart the kernel to use updated packages.\n"
     ]
    },
    {
     "name": "stdout",
     "output_type": "stream",
     "text": [
      "Requirement already satisfied: matplotlib in c:\\users\\ad2we\\appdata\\roaming\\python\\python39\\site-packages (3.5.2)\n",
      "Requirement already satisfied: numpy>=1.17 in c:\\users\\ad2we\\appdata\\roaming\\python\\python39\\site-packages (from matplotlib) (1.22.4)\n",
      "Requirement already satisfied: pyparsing>=2.2.1 in c:\\users\\ad2we\\anaconda3\\lib\\site-packages (from matplotlib) (3.0.4)\n",
      "Requirement already satisfied: packaging>=20.0 in c:\\users\\ad2we\\anaconda3\\lib\\site-packages (from matplotlib) (21.3)\n",
      "Requirement already satisfied: fonttools>=4.22.0 in c:\\users\\ad2we\\appdata\\roaming\\python\\python39\\site-packages (from matplotlib) (4.34.4)\n",
      "Requirement already satisfied: cycler>=0.10 in c:\\users\\ad2we\\appdata\\roaming\\python\\python39\\site-packages (from matplotlib) (0.11.0)\n",
      "Requirement already satisfied: python-dateutil>=2.7 in c:\\users\\ad2we\\anaconda3\\lib\\site-packages (from matplotlib) (2.8.2)\n",
      "Requirement already satisfied: pillow>=6.2.0 in c:\\users\\ad2we\\appdata\\roaming\\python\\python39\\site-packages (from matplotlib) (9.2.0)\n",
      "Requirement already satisfied: kiwisolver>=1.0.1 in c:\\users\\ad2we\\appdata\\roaming\\python\\python39\\site-packages (from matplotlib) (1.4.4)\n",
      "Requirement already satisfied: six>=1.5 in c:\\users\\ad2we\\anaconda3\\lib\\site-packages (from python-dateutil>=2.7->matplotlib) (1.16.0)\n",
      "Note: you may need to restart the kernel to use updated packages.\n"
     ]
    }
   ],
   "source": [
    "%pip install pandas\n",
    "%pip install matplotlib"
   ]
  },
  {
   "cell_type": "markdown",
   "metadata": {},
   "source": [
    "## What's the deal with data?"
   ]
  },
  {
   "cell_type": "markdown",
   "metadata": {},
   "source": [
    "Before we start exploring how to wrangle real-life, messy data, it's key to understand why we would want to do so. Motivating the need for robust data can help us make decisions on how to generate, process, and interpret data. \n",
    "\n",
    "Nowadays, we often hear stories of analysis gone awry. Misapplication of cutting-edge technologies is all too common (e.g., machine learning's [reproducibility crisis](https://www.wired.com/story/machine-learning-reproducibility-crisis/)), but proper analytic techniques implemented in the context of flawed data can also lead to faulty conclusions throughout a research pipeline. \n",
    "\n",
    "Data can be flawed in many ways. A particularly salient example of data flaws are *biased datasets*. Some of the most common biases you'll find in data include: \n",
    "\n",
    "- Selection bias \n",
    "  - Ex: a test population not being representative of the whole by excluding a key minority group.\n",
    "- Historical bias \n",
    "  - Ex: NLP word embedding models replicating gender-biased analogies like 'man::doctor, woman::nurse' due to historical disparities in opportunity.\n",
    "- Survivorship bias \n",
    "  - Ex: evaluating performance of hedge funds from 1990 to 2010 - only those hedge which still exist in 2010 will be present, which already implies a certain degree of monetary sucess.\n",
    "- Availability bias \n",
    "  - Ex: anytime we use a convenient data source instead of the best one.\n",
    "- Outlier bias \n",
    "  - Ex: employing summary statistics which mask or are overly-sensitive to outliers to make conclusions and drive decisions.\n",
    "\n",
    "For more on data bias: \n",
    "1. [Types of Biases in Data](https://towardsdatascience.com/types-of-biases-in-data-cafc4f2634fb)\n",
    "2. [Statistical Bias Types explained](https://data36.com/statistical-bias-types-explained/)\n",
    "3. [Fairness in Machine Learning](https://developers.google.com/machine-learning/crash-course/fairness/types-of-bias)\n",
    "\n",
    "Data bias is just one of many ways a dataset can lack robustness. But, before we learn how to create robust datasets, we need to define what robust data is."
   ]
  },
  {
   "cell_type": "markdown",
   "metadata": {},
   "source": [
    "## Defining robust data"
   ]
  },
  {
   "cell_type": "markdown",
   "metadata": {},
   "source": [
    "While the need for quality data may be apparent, what attributes such data would possess is not immediately obvious. \n",
    "\n",
    "What would an \"ideal\" dataset look like to you? How would you collect it? \n",
    "\n",
    "[comment]: <> (Break for Zoom discussion)"
   ]
  },
  {
   "cell_type": "markdown",
   "metadata": {},
   "source": [
    "<div>\n",
    "<img src=\"../imgs/datacollection.png\" width=\"750\"/>\n",
    "<div>"
   ]
  },
  {
   "cell_type": "markdown",
   "metadata": {},
   "source": [
    "When we look to describe the robustness of a dataset, it can be useful to think about what that data will be used for. Data may be used to: \n",
    "\n",
    "- Run experiments\n",
    "- Validate hypotheses\n",
    "- Draw inferences\n",
    "- Make decisions\n",
    "\n",
    "etc. These usages are all common and critical applications of data, and they all share a foundational element: they employ or rely on *data analysis.* \n",
    "\n",
    "Then, when we think about data robustness, it can be useful to think about it as being \"robust to analysis\" or not. When we define data robustness this way, are there additional ideal dataset qualities you can think of?\n",
    "\n",
    "[comment]: <> (Break for Zoom discussion)"
   ]
  },
  {
   "cell_type": "markdown",
   "metadata": {},
   "source": [
    "## A working definition"
   ]
  },
  {
   "cell_type": "markdown",
   "metadata": {},
   "source": [
    "Ultimately, the exact definition of robust data are going to be dependent on your field of research and/or your particular application. However, some key considerations in any defintion include: \n",
    "\n",
    "- Data sourcing (which can lead to biased data, as previously dicussed)\n",
    "- Data continuity \n",
    "- Data timeliness \n",
    "\n",
    "In this workshop, we're going to be exploring how each one of these considerations can impact the creation and analysis of US GDP (**G**ross **D**omestic **P**roduct) data. For some quick interactive definitions of these terms, take a look at the code blocks below. Otherwise, feel free to move onto the next chapter to learn some more about GDP and typical GDP data before jumping in. \n",
    "\n",
    "[comment]: <> (Allow time for code block running before moving onto the next chapter)"
   ]
  },
  {
   "cell_type": "markdown",
   "metadata": {},
   "source": [
    "#### ***Data sourcing example:*** "
   ]
  },
  {
   "cell_type": "markdown",
   "metadata": {},
   "source": [
    "\n",
    "*Data sourcing* refers to the process of finding, assessing, and ultimately selecting a data resource to work with (be it a specific dataset, a wider database, or a third-party data vendor). Decisions by the curator of a data resource can impact the availability, representativeness, structure, and other critical attributes of your employed data — which ultimately can influence analysis . Let's see an example: "
   ]
  },
  {
   "cell_type": "code",
   "execution_count": 2,
   "metadata": {},
   "outputs": [],
   "source": [
    "\"\"\" DATA SOURCING INTERACTIVE DEFINITION \"\"\"\n",
    "# importing some libraries: \n",
    "import os                           # use: file management and access \n",
    "import pandas as pd                 # use: data intake and manipulation \n",
    "import matplotlib.pyplot as plt     # use: custom data visualization \n",
    "\n",
    "# retrieving the data - this is a dataset detailing data science job salaries: \n",
    "# source: https://www.kaggle.com/datasets/ruchi798/data-science-job-salaries?resource=download\n",
    "home_dir  = os.path.dirname(os.getcwd())\n",
    "data_path = os.sep + 'sample_datasets' + os.sep + 'ds_salaries.csv'\n",
    "data = pd.read_csv(home_dir + data_path, encoding='utf-8')"
   ]
  },
  {
   "cell_type": "code",
   "execution_count": 3,
   "metadata": {},
   "outputs": [
    {
     "name": "stdout",
     "output_type": "stream",
     "text": [
      "   work_year experience_level employment_type                   job_title  \\\n",
      "0       2020        Mid-level              FT              Data Scientist   \n",
      "1       2020     Senior-level              FT  Machine Learning Scientist   \n",
      "2       2020     Senior-level              FT           Big Data Engineer   \n",
      "3       2020        Mid-level              FT        Product Data Analyst   \n",
      "4       2020     Senior-level              FT   Machine Learning Engineer   \n",
      "\n",
      "   salary salary_currency  salary_in_usd employee_residence  remote_ratio  \\\n",
      "0   70000             EUR          79833                 DE             0   \n",
      "1  260000             USD         260000                 JP             0   \n",
      "2   85000             GBP         109024                 GB            50   \n",
      "3   20000             USD          20000                 HN             0   \n",
      "4  150000             USD         150000                 US            50   \n",
      "\n",
      "  company_location company_size  \n",
      "0               DE            L  \n",
      "1               JP            S  \n",
      "2               GB            M  \n",
      "3               HN            S  \n",
      "4               US            L  \n",
      "['work_year', 'experience_level', 'employment_type', 'job_title', 'salary', 'salary_currency', 'salary_in_usd', 'employee_residence', 'remote_ratio', 'company_location', 'company_size']\n"
     ]
    }
   ],
   "source": [
    "# let's get a quick look at a few entries: \n",
    "print(data.head(5))\n",
    "\n",
    "# what different fields does this dataset possess for each entry? \n",
    "print(list(data.columns))"
   ]
  },
  {
   "cell_type": "code",
   "execution_count": 4,
   "metadata": {},
   "outputs": [
    {
     "data": {
      "text/plain": [
       "[Text(0, 0, '280'), Text(0, 0, '213'), Text(0, 0, '26'), Text(0, 0, '88')]"
      ]
     },
     "execution_count": 4,
     "metadata": {},
     "output_type": "execute_result"
    },
    {
     "data": {
      "image/png": "[encoded data removed]",
      "text/plain": [
       "<Figure size 432x288 with 1 Axes>"
      ]
     },
     "metadata": {
      "filenames": {
       "image/png": "C:\\Users\\ad2we\\Desktop\\SSDS Consultancy\\GearUp_Fall_2022\\GearUp-MessyData\\_build\\jupyter_execute\\fall_2022\\chapters\\chp0_motivation_17_1.png"
      },
      "needs_background": "light"
     },
     "output_type": "display_data"
    }
   ],
   "source": [
    "# let's see how many entries we have in the dataset for each experience level: \n",
    "expr_lvl_data = data['experience_level'].value_counts().sort_index(ascending=False)\n",
    "bars = plt.bar(expr_lvl_data.index, expr_lvl_data.values)\n",
    "plt.bar_label(bars)"
   ]
  },
  {
   "cell_type": "markdown",
   "metadata": {},
   "source": [
    "**Discussion**: Based on the generated chart, if we were to compute the mean/median salary for a data science job in 2020, what kind of issues might we be overlooking? Is there anything fundamentally wrong with a mean/median calculation, or is there an issue with the dataset we chose to use? How might a different data source rectify these issues? "
   ]
  },
  {
   "cell_type": "markdown",
   "metadata": {},
   "source": [
    "#### ***Data continuity example:***"
   ]
  },
  {
   "cell_type": "markdown",
   "metadata": {},
   "source": [
    "*Data continuity* refers the completeness of the chosen data source across a given dimension of analysis. A common dimension for evaluating data continuity is time as with time series data — if we would like to conduct biweekly analysis for a given metric for a specific year, a dataset with 26 appropriately-spaced and populated entries would be continuous with respect to time. \n",
    "\n",
    "Although time is an intuitive dimension, it is not the only one. Datasets can be continuous with respect to color, location, price, etc. — the evaluation depends on your desired criteria of analysis. Incomplete data can limit the scope and representativeness of your analysis, and methods to rectify incomplete data (e.g., impute missing values) can also impact your analysis. Let's see an example: "
   ]
  },
  {
   "cell_type": "code",
   "execution_count": 5,
   "metadata": {},
   "outputs": [],
   "source": [
    "\"\"\" DATA CONTINUITY INTERACTIVE DEFINITION \"\"\"\n",
    "# importing some libraries: \n",
    "import os                           # use: file management and access \n",
    "import pandas as pd                 # use: data intake and manipulation \n",
    "import matplotlib.pyplot as plt     # use: custom data visualization \n",
    "\n",
    "# retrieving the data - this is a dataset detailing time series climate data in Delhi:  \n",
    "# source: https://www.kaggle.com/datasets/sumanthvrao/daily-climate-time-series-data\n",
    "home_dir  = os.path.dirname(os.getcwd())\n",
    "data_path = os.sep + 'sample_datasets' + os.sep + 'daily_delhi_climate.csv'\n",
    "data = pd.read_csv(home_dir + data_path, encoding='utf-8')"
   ]
  },
  {
   "cell_type": "code",
   "execution_count": 6,
   "metadata": {},
   "outputs": [
    {
     "name": "stdout",
     "output_type": "stream",
     "text": [
      "       date   meantemp   humidity  wind_speed  meanpressure\n",
      "0  1/1/2013  10.000000  84.500000    0.000000   1015.666667\n",
      "1  1/2/2013   7.400000  92.000000    2.980000   1017.800000\n",
      "2  1/3/2013   7.166667  87.000000    4.633333   1018.666667\n",
      "3  1/4/2013   8.666667  71.333333    1.233333   1017.166667\n",
      "4  1/5/2013   6.000000  86.833333    3.700000   1016.500000\n",
      "<class 'pandas.core.frame.DataFrame'>\n",
      "RangeIndex: 1401 entries, 0 to 1400\n",
      "Data columns (total 5 columns):\n",
      " #   Column        Non-Null Count  Dtype  \n",
      "---  ------        --------------  -----  \n",
      " 0   date          1401 non-null   object \n",
      " 1   meantemp      1395 non-null   float64\n",
      " 2   humidity      1401 non-null   float64\n",
      " 3   wind_speed    1401 non-null   float64\n",
      " 4   meanpressure  1401 non-null   float64\n",
      "dtypes: float64(4), object(1)\n",
      "memory usage: 54.9+ KB\n",
      "None\n",
      "          meantemp     humidity   wind_speed  meanpressure\n",
      "count  1395.000000  1401.000000  1401.000000   1401.000000\n",
      "mean     25.445653    60.764961     6.742006   1011.243842\n",
      "std       7.466152    16.985743     4.459586    184.112354\n",
      "min       6.000000    13.428571     0.000000     -3.041667\n",
      "25%      18.519231    50.187500     3.475000   1001.375000\n",
      "50%      27.714286    62.777778     6.166667   1008.625000\n",
      "75%      31.433036    72.375000     9.133333   1015.000000\n",
      "max      38.714286   100.000000    34.487500   7679.333333\n"
     ]
    }
   ],
   "source": [
    "# let's check out the data structure:\n",
    "print(data.head(5)) \n",
    "\n",
    "# .info() provides a concise summary of a dataframe: \n",
    "print(data.info())\n",
    "\n",
    "# .describe() provides insight into the dispersion & shape of a dataframe's distribution: \n",
    "print(data.describe())"
   ]
  },
  {
   "cell_type": "code",
   "execution_count": 7,
   "metadata": {},
   "outputs": [],
   "source": [
    "# let's take a look at the mean temperature in april: \n",
    "\n",
    "# subset just the date and temperature columns: \n",
    "data = data[['date', 'meantemp']]\n",
    "\n",
    "# filter rows for just the dates occurring in april: \n",
    "april_start_end_idxs = data.index[(data['date'] == \"4/1/2013\") | (data['date'] == \"4/30/2013\")].tolist()\n",
    "april_only_data = data[(april_start_end_idxs[0]) : (april_start_end_idxs[1] + 1)]"
   ]
  },
  {
   "cell_type": "code",
   "execution_count": 8,
   "metadata": {},
   "outputs": [
    {
     "data": {
      "image/png": "[encoded data removed]",
      "text/plain": [
       "<Figure size 432x288 with 1 Axes>"
      ]
     },
     "metadata": {
      "filenames": {
       "image/png": "C:\\Users\\ad2we\\Desktop\\SSDS Consultancy\\GearUp_Fall_2022\\GearUp-MessyData\\_build\\jupyter_execute\\fall_2022\\chapters\\chp0_motivation_24_0.png"
      },
      "needs_background": "light"
     },
     "output_type": "display_data"
    }
   ],
   "source": [
    "# are any dates missing? let's make a scatterplot to see: \n",
    "plt.plot(april_only_data['date'], april_only_data['meantemp'])\n",
    "\n",
    "# some formatting options to make the plot readable: \n",
    "plt.xticks(rotation = 45, fontsize = 6)\n",
    "plt.ylim((20,35))\n",
    "plt.xlabel(\"Date\")\n",
    "plt.ylabel(\"Temperature (°C)\")\n",
    "\n",
    "# display the plot: \n",
    "plt.show()"
   ]
  },
  {
   "cell_type": "markdown",
   "metadata": {},
   "source": [
    "**Discussion**: Based on the scatter plot, is the April temperature data continuous? If we were trying to conduct some analysis on the April temperature data, how might the (lack of) data continuity affect us? Could we impute the points of discontinuity? How? Would one imputation method be better than others? Why? "
   ]
  },
  {
   "cell_type": "markdown",
   "metadata": {},
   "source": [
    "#### ***Data timeliness example:***"
   ]
  },
  {
   "cell_type": "markdown",
   "metadata": {},
   "source": [
    "*Data timeliness* refers to the proximity of utilized data to the present moment and relevant analysis and projections. Establishing data timeliness means utlizing datasets that are near-contemporaneous with your timeframe of analysis; i.e., NLP analysis on the most prominent topics in 1970's science textbooks should not use a text corpus of 1950's science textbooks. \n",
    "\n",
    "In the case of research motivating predictions and decision-making, data timeliness is especially relevant — e.g., predicting potential wildfire hotspots demands continuously-updated and near real-time data. To that end, data sourcing and data continuity assessments of available resources become particularly important. \n",
    "\n",
    "Although data timeliness may appear to be a structural product of data sourcing and continuity, we'll later discuss methods to guarantee data timeliness (like developing a coincident/leading indicators) to ensure your data and analytic products are up-to-date. "
   ]
  },
  {
   "cell_type": "code",
   "execution_count": 9,
   "metadata": {},
   "outputs": [],
   "source": [
    "\"\"\" DATA CONTINUITY INTERACTIVE DEFINITION \"\"\"\n",
    "# importing some libraries: \n",
    "import os                           # use: file management and access \n",
    "import pandas as pd                 # use: data intake and manipulation \n",
    "import matplotlib.pyplot as plt     # use: custom data visualization \n",
    "\n",
    "# retrieving the data - this is a dataset detailing hospital capacity in SF for COVID-19:  \n",
    "# source: https://catalog.data.gov/dataset/covid-19-hospital-capacity\n",
    "home_dir  = os.path.dirname(os.getcwd())\n",
    "data_path = os.sep + 'sample_datasets' + os.sep + 'covid19_hospital_capacity.csv'\n",
    "data = pd.read_csv(home_dir + data_path, encoding='utf-8')"
   ]
  },
  {
   "cell_type": "code",
   "execution_count": 10,
   "metadata": {},
   "outputs": [
    {
     "name": "stdout",
     "output_type": "stream",
     "text": [
      "                 Hospital      Date              Bed Type  \\\n",
      "0  All SF Acute Hospitals  4/1/2020  Intensive Care Surge   \n",
      "1  All SF Acute Hospitals  4/1/2020      Acute Care Surge   \n",
      "2  All SF Acute Hospitals  4/1/2020            Acute Care   \n",
      "3  All SF Acute Hospitals  4/1/2020        Intensive Care   \n",
      "4  All SF Acute Hospitals  4/1/2020        Intensive Care   \n",
      "\n",
      "                             Status  Count  \n",
      "0                         Available    312  \n",
      "1                         Available    846  \n",
      "2                         Available    846  \n",
      "3                         Available    125  \n",
      "4  COVID-19 (Confirmed & Suspected)     50  \n",
      "<class 'pandas.core.frame.DataFrame'>\n",
      "RangeIndex: 4514 entries, 0 to 4513\n",
      "Data columns (total 5 columns):\n",
      " #   Column    Non-Null Count  Dtype \n",
      "---  ------    --------------  ----- \n",
      " 0   Hospital  4514 non-null   object\n",
      " 1   Date      4514 non-null   object\n",
      " 2   Bed Type  4514 non-null   object\n",
      " 3   Status    4514 non-null   object\n",
      " 4   Count     4514 non-null   int64 \n",
      "dtypes: int64(1), object(4)\n",
      "memory usage: 176.5+ KB\n",
      "None\n"
     ]
    }
   ],
   "source": [
    "# always explore the data before processing it!\n",
    "# sample entries: \n",
    "print(data.head(5)) \n",
    "\n",
    "# info on the dataset columns and types: \n",
    "print(data.info())"
   ]
  },
  {
   "cell_type": "code",
   "execution_count": 11,
   "metadata": {},
   "outputs": [
    {
     "data": {
      "image/png": "[encoded data removed]",
      "text/plain": [
       "<Figure size 432x288 with 1 Axes>"
      ]
     },
     "metadata": {
      "filenames": {
       "image/png": "C:\\Users\\ad2we\\Desktop\\SSDS Consultancy\\GearUp_Fall_2022\\GearUp-MessyData\\_build\\jupyter_execute\\fall_2022\\chapters\\chp0_motivation_30_0.png"
      },
      "needs_background": "light"
     },
     "output_type": "display_data"
    }
   ],
   "source": [
    "# suppose we're only concerned with 'Available,' 'Intensive Care' beds: \n",
    "avail_ic_beds = data[(data['Bed Type'] == 'Intensive Care') & (data['Status'] == 'Available')]\n",
    "\n",
    "# sort the dataset by date: \n",
    "avail_ic_beds = avail_ic_beds.sort_values(by='Date', ignore_index=True)\n",
    "\n",
    "# let's get just the latest data: \n",
    "avail_ic_beds = avail_ic_beds.tail(15)\n",
    "\n",
    "# visualize the data: \n",
    "plt.plot(avail_ic_beds['Date'], avail_ic_beds['Count'])\n",
    "plt.xticks(rotation = 45, fontsize = 8)\n",
    "plt.xlabel(\"Date\")\n",
    "plt.ylabel(\"# Available Beds\")\n",
    "plt.show()"
   ]
  },
  {
   "cell_type": "markdown",
   "metadata": {},
   "source": [
    "**Discussion**: Where does this dataset end? Would this data be useful for predicting the number of available beds *today*? If no, what might be an alternative solution for this prediction task? If we can't find a better dataset for this exact metric, can we approximate it somehow? "
   ]
  },
  {
   "cell_type": "markdown",
   "metadata": {},
   "source": [
    "## Workshop essentials: GDP definitions & datasets"
   ]
  },
  {
   "cell_type": "markdown",
   "metadata": {},
   "source": [
    "<div>\n",
    "<img src=\"../imgs/gdp_calculation.gif\" width=\"350\"/>\n",
    "<figcaption><em>One of economics' greatest hits!</em><figcaption>\n",
    "</div>"
   ]
  },
  {
   "cell_type": "markdown",
   "metadata": {},
   "source": [
    "#### ***Defintion and usage:***"
   ]
  },
  {
   "cell_type": "markdown",
   "metadata": {},
   "source": [
    "For the rest of this workshop, we'll be exploring topics in the context of US GDP (**G**ross **D**omestic **P**roduct) data. In case you haven't worked with GDP data before, or you just want a quick refresher, here's a rundown:  \n",
    "\n",
    "* *Definition:* GDP is \"the total monetary or market value of all the finished goods and services produced within a country's borders in a specific time period. \n",
    "\n",
    "* *Use:* general indicator of a country's overall productivity and/or economic health (useful for large-scale social inquiries)\n",
    "\n",
    "* *Common forms:* \n",
    "  * nominal GDP - GDP as measured with contemporaneous prices of goods\n",
    "  * real GDP - GDP as measured with a fixed year's prices of goods\n",
    "  * potential GDP - an estimate of a country's GDP under ideal economic conditions (e.g., steady currency value, low inflation, full employment)\n",
    "  * GDP per capita - GDP divided by the population of a country, productivity per person"
   ]
  },
  {
   "cell_type": "markdown",
   "metadata": {},
   "source": [
    "#### ***Your \"typical\" GDP dataset:*** "
   ]
  },
  {
   "cell_type": "markdown",
   "metadata": {},
   "source": [
    "What makes GDP an ideal statistic to wrangle with when learning to deal with \"real-life\" data? Let's take a look: \n",
    "\n",
    "* *Qualities of GDP Data(sets):*\n",
    "\n",
    "  * Typically presented as **timeseries** data, a common data type for longitudinal studies. \n",
    "\n",
    "  * Usually published with a **lag** - e.g., 2013 Q2 GDP data wasn't officially released until the end of 2013 Q3.\n",
    "\n",
    "  * Computed and posted by **numerous** agencies and entities, typically government-related.\n",
    "\n",
    "  * **Multiple** approaches available for calculation (e.g., expenditure, production, and income approaches)\n",
    "\n",
    "As we'll soon find out, each of these qualities can lend itself to inherent issues in the sourcing and use of GDP data! When you're ready, move on to Chapter 1 ⏩!"
   ]
  }
 ],
 "metadata": {
  "kernelspec": {
   "display_name": "Python 3.9.12 ('base')",
   "language": "python",
   "name": "python3"
  },
  "language_info": {
   "codemirror_mode": {
    "name": "ipython",
    "version": 3
   },
   "file_extension": ".py",
   "mimetype": "text/x-python",
   "name": "python",
   "nbconvert_exporter": "python",
   "pygments_lexer": "ipython3",
   "version": "3.9.12"
  },
  "vscode": {
   "interpreter": {
    "hash": "16c684165a00eba53f696e92e1de76bb4a10a33402bb31cdf5ab4f07210fc261"
   }
  }
 },
 "nbformat": 4,
 "nbformat_minor": 2
}