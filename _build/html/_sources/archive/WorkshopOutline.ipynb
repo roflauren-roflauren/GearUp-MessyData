{
 "cells": [
  {
   "cell_type": "markdown",
   "metadata": {},
   "source": [
    "## **SSDS's Grappling with GDP** (GearUp Messy Data Workshop Series)\n",
    "\n",
    "<div>\n",
    "<img src=\"imgs/gdp_headerimage.png\" width=\"1000\"/>\n",
    "<div>"
   ]
  },
  {
   "cell_type": "markdown",
   "metadata": {},
   "source": [
    "#### *0. Preparatory Work/Prerequisites:* \n",
    "\n",
    "* Python installation & usage: \n",
    "\n",
    "    * Accessing local Python install/JupyterBooks \n",
    "\n",
    "    * Python basics crashcourse: variables, variable types, data containers, functions, packages & importing\n",
    "\n",
    "    * Resources for learning more about Python & troubleshooting "
   ]
  },
  {
   "cell_type": "markdown",
   "metadata": {},
   "source": [
    "#### *0. Motivating the Need for Robust Data:*\n",
    "\n",
    "* Robust data acts as the foundation for robust results.\n",
    "\n",
    "* Depending on your application/research, the robust-ness of data may be defined by some/all of the following considerations: data source, continuity, and timeliness. \n",
    "\n",
    "* Workshop centers on understanding these issues in the context of generating a timeseries US GDP dataset."
   ]
  },
  {
   "cell_type": "markdown",
   "metadata": {},
   "source": [
    "#### *1. GDP Background*\n",
    "\n",
    "What is GDP? Definition and example. \n",
    "  \n",
    "  * Why do we care about GDP? Useful \"big picture\" stat (analogs used for large-scale social inquiries). \n",
    "\n",
    "  * Qualities of GDP data: computed and published by government agencies, multiple approaches for calculation, *laggy* \n",
    "\n",
    "  * GDP as an example of timeseries data. Why timeseries data more generally? Can evaluate changes and continuities through time. Not the only kind of messy data though!\n",
    "\n",
    "  * Okay, so GDP is a useful indicator. How do we got about obtaining/creating a GDP dataset in practice? "
   ]
  },
  {
   "cell_type": "markdown",
   "metadata": {},
   "source": [
    "#### *2. Issues in Data Sourcing*\n",
    "  \n",
    "* If there are multiple datasets reporting the same statistic/indicator, whose dataset are you going to use? \n",
    "\n",
    "    * E.g., multiple agencies produce GDP data (local Fed's, BEA, World Bank)."
   ]
  },
  {
   "cell_type": "markdown",
   "metadata": {},
   "source": [
    "* For each data author, what incentives are they/their organization subject to? How could those manifest in the data? \n",
    "\n",
    "    * Incentives for misreporting? E.g., misclassifying a job/industry to inflate production in a specific sector to incentivize future funding?  "
   ]
  },
  {
   "cell_type": "markdown",
   "metadata": {},
   "source": [
    "* What approach is used to compute/generate the dataset? Is this approach supported/resonable? Is it transparent? Can you or another individual replicate the data generation process to check? \n",
    "\n",
    "    * E.g., expenditure, production, and income approach. "
   ]
  },
  {
   "cell_type": "markdown",
   "metadata": {},
   "source": [
    "#### *3. Issues in Data Continuity*\n",
    "\n",
    "Primary issue with data continuity: missing data/data gaps. In the context of timeseries: "
   ]
  },
  {
   "cell_type": "markdown",
   "metadata": {},
   "source": [
    "\n",
    "* Identification: How do you know if your dataset has gaps? How are data gaps represented in your dataset (could be dependent on data author)? How many data gaps are there? How long are they? "
   ]
  },
  {
   "cell_type": "markdown",
   "metadata": {},
   "source": [
    "* Comprehension: Why are the gaps there/where do they come from? Is one of the constituent datasets missing? Do any gaps overlap with your scope of analysis? "
   ]
  },
  {
   "cell_type": "markdown",
   "metadata": {},
   "source": [
    "* Remediation: How can you deal with these data gaps? Should you exclude any points with gaps from your analysis? Should you fill the data gaps in? If so, what method should you use to fill in those gaps? "
   ]
  },
  {
   "cell_type": "markdown",
   "metadata": {},
   "source": [
    "**Note:** Timeseries data is not the only data format! Other datasets and formats are also susceptible to continuity breaks. \n",
    "\n",
    "* Classification data - evaluating different groups, and a group of interest isn't represented. \n",
    "\n",
    "* Cross-sectional data, etc.\n"
   ]
  },
  {
   "cell_type": "markdown",
   "metadata": {},
   "source": [
    "#### **3.1 CODING SESSION: DATA FILL METHODS** "
   ]
  },
  {
   "cell_type": "markdown",
   "metadata": {},
   "source": [
    "Exogenous fill methods - filling in gaps in your working dataset with points from another dataset. \n",
    "\n",
    "Endogenous fill methods - using existing points in the working dataset to estimate missing values. "
   ]
  },
  {
   "cell_type": "markdown",
   "metadata": {},
   "source": [
    "* Issues with exogenous fill methods: \n",
    "\n",
    "  * Need for resampling \n",
    "\n",
    "  * Mis-alignment of data point occurence \n",
    "\n",
    "  * ***Key: Addressing both of these concerns by considering data sourcing and authorship. GDP as a monthly/quarterly measure, collection dates, etc. \n",
    "\n",
    "  * *Code demonstration of different results using different methods* "
   ]
  },
  {
   "cell_type": "markdown",
   "metadata": {},
   "source": [
    "* Issues with endogenous fill methods: \n",
    "\n",
    "    * Determining the best interpolation methods: mean, median, min/max, knn, glrm. \n",
    "\n",
    "    * Determining the interpolation scope: how many surrounding datapoints do we estimate from? \n",
    "\n",
    "    * *Code demonstration of different results using different methods* "
   ]
  },
  {
   "cell_type": "markdown",
   "metadata": {},
   "source": [
    "*Consequences of Data Filling* \n",
    "\n",
    "* Consider a downstream use of GDP data: maybe built into a regression, maybe used as filter, etc. \n",
    "\n",
    "* Craft and present example of how using different fill methods would lead to different results/conclusions in downstream analysis. "
   ]
  },
  {
   "cell_type": "markdown",
   "metadata": {},
   "source": [
    "#### **3.2 CODING SESSION: DATA FILL OPTIMIZATION - VECTORIZATION**\n",
    "\n",
    "* What is vectorizing/vectorization? \n",
    "  \n",
    "* When can we vectorize/under what conditions? (Order-dependent or independent operations)\n",
    "  \n",
    "* In Python, what tools do we use to vectorize?\n",
    "   \n",
    "* How do we vectorize? *Coding demonstration* \n",
    "  \n",
    "* Enjoy making your code run faster? Stay posted for the SSDS MOPS Workshop (**M**anaging & **O**ptimizing **P**erformance and **S**calability - and Memory!)"
   ]
  },
  {
   "cell_type": "markdown",
   "metadata": {},
   "source": [
    "#### *4. Issues in Data Timeliness*\n",
    "\n",
    "Consider your research application - are you trying to build a time-sensitive indicator? Derive some key statistic to motivate decisions? Make a real-time estimation/prediction? "
   ]
  },
  {
   "cell_type": "markdown",
   "metadata": {},
   "source": [
    "* If yes, data timeliness can become an issue. With GDP, it's often reported quarterly, but with a quarter lag - i.e., data for 2004 Q2 GDP is published at the end of 2004 Q3. \n",
    "\n",
    "* *Maybe a review exercise?*: address data timeliness issues by building a coincident timely estimate. A mini re-hash of the entire workshop where you have to consider what estimator to use, identify a data source for it, consider its authorship, working on filling gaps, "
   ]
  }
 ],
 "metadata": {
  "kernelspec": {
   "display_name": "Python 3.10.6 64-bit",
   "language": "python",
   "name": "python3"
  },
  "language_info": {
   "name": "python",
   "version": "3.10.6"
  },
  "orig_nbformat": 4,
  "vscode": {
   "interpreter": {
    "hash": "de65b0f014eaa4e91eb08470e9da2c68e352502ee239b0d825d97d29c2332a57"
   }
  }
 },
 "nbformat": 4,
 "nbformat_minor": 2
}
