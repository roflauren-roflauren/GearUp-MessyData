{
 "cells": [
  {
   "cell_type": "markdown",
   "metadata": {},
   "source": [
    "# Chapter 2 - Data Continuity"
   ]
  },
  {
   "cell_type": "markdown",
   "metadata": {},
   "source": [
    "<div>\n",
    "<img src=\"./imgs/mind_the_gap.png\" width=\"750\"/>\n",
    "<figcaption><em>Not every data gap is as obvious as this one...</em></figcaption>\n",
    "<div>"
   ]
  },
  {
   "cell_type": "markdown",
   "metadata": {},
   "source": [
    "#### ***Chapter prerequisites: Python imports***"
   ]
  },
  {
   "cell_type": "markdown",
   "metadata": {},
   "source": [
    "Before running any code blocks in the following chapter, please ensure you have the necessary Python packages installed via the following code block:"
   ]
  },
  {
   "cell_type": "code",
   "execution_count": null,
   "metadata": {},
   "outputs": [],
   "source": [
    "# commented calls may be included in the base install of Python; uncomment call(s) as necessary\n",
    "%pip install pandas\n",
    "%pip install numpy\n",
    "%pip install matplotlib\n",
    "# %pip install random\n",
    "# %pip install dateutil.parser\n",
    "%pip install datetime"
   ]
  },
  {
   "cell_type": "markdown",
   "metadata": {},
   "source": [
    "## 2.0. Preface: Consequences of following data sourcing best practices"
   ]
  },
  {
   "cell_type": "markdown",
   "metadata": {},
   "source": [
    "If you follow all of the data sourcing best practices previously discussed (click [here](../chapters/chp1_dataSourcing) if you haven't reviewed data sourcing yet!), it's likely that you'll encounter a data resource that is less immediately \"usable\" than we might hope. \n",
    "\n",
    "Although this is a natural consequence of prioritizing factors like data author credibility and reputable data generation approaches over usability, it's still an unfortunate obstacle to analysis. Besides administrative barriers like paywalls, institutional access, one of the most common obstacles we'll encounter when using responsibly-sourced, real-life data is data gaps, or a lack of *data continuity.*\n",
    "\n",
    "<div>\n",
    "<img src=\"./imgs/mouse_cookie_custom.png\" width=\"400\"/>\n",
    "<figcaption><em>When a delightful children's classic goes data science!</em></figcaption>\n",
    "<div>"
   ]
  },
  {
   "cell_type": "markdown",
   "metadata": {},
   "source": [
    "## 2.1. Defining \"data continuity\""
   ]
  },
  {
   "cell_type": "markdown",
   "metadata": {},
   "source": [
    "*Data continuity* refers to the completeness of a chosen data resource across a given dimension of analysis. Specific data points or ranges of your dimension of analysis where the chosen data resource is missing/incomplete are referred to as *data gaps.*\n",
    "\n",
    "Pertinent sub-issues in the practice of addressing data (dis)continuity include data gap: \n",
    "\n",
    "* **identification** (where are any data gaps present in the dataset?); \n",
    "\n",
    "* **comprehension** (why are those data gaps where they are in my dataset?); and\n",
    "\n",
    "* **remediation** (how can I work around these data gaps).\n",
    "\n",
    "Of these issues, *data gap remediation* will be the primary focus of this chapter. "
   ]
  },
  {
   "cell_type": "markdown",
   "metadata": {},
   "source": [
    "#### ***DISCUSSION 1:***"
   ]
  },
  {
   "cell_type": "markdown",
   "metadata": {},
   "source": [
    "Data gap identification often occurs as an (un)intended consequence of attempted analysis, and data gap comprehension can be performed ad hoc using practices similar to those discussed in the data sourcing chapter. Of course, properly addressing each of these sub-issues is important and can be tricky in its own right (e.g., unintentionally writing code that generates figures which mask data gaps). If you're concerned with your handling of these sub-issues, I encourage you to [schedule a consult with SSDS](https://library.stanford.edu/research/software-and-services-data-science/schedule-consulting-appointment-contact-us).\n",
    "\n",
    "And, a final caveat: in line with our running examples using GDP data, we'll almost entirely be discussing data gap remediation in the context of timeseries data. Data gaps can look very different with regard to other dimensions and types of data (e.g., lack of participants representing population *X* in a sample, missing attributes for an entry in a specific timeslice of panel data) - however, the thinking practied during our exploration of *how remedying data gaps can impact downstream analysis* should be useful nonetheless. "
   ]
  },
  {
   "cell_type": "markdown",
   "metadata": {},
   "source": [
    "## 2.2. Remediating data gaps"
   ]
  },
  {
   "cell_type": "markdown",
   "metadata": {},
   "source": [
    "When working with messy, real-life data, data gap remediation is one of the practices with the most tangible effects: performed correctly, it enables for an accurate and full scope of analysis. However, when done incorrectly, it can skew results and at worse, invalidate conclusions. Thus, taking the time to (1) systematize and (2) broaden our understanding of the exercise is well-advised."
   ]
  },
  {
   "cell_type": "markdown",
   "metadata": {},
   "source": [
    "#### ***DISCUSSION 2:***"
   ]
  },
  {
   "cell_type": "markdown",
   "metadata": {},
   "source": [
    "Remediation practices can broadly be classified into two categories:\n",
    "\n",
    "1. *Data gap omission* - the exclusion any data gaps from your scope of analysis, limiting any results and conclusions to the present data ranges. \n",
    "\n",
    "2. *Data gap filling* - the use of other data points in the native or external dataset(s) to impute values for any data gaps in your dataset occuring in the desired scope of analysis.\n",
    "\n",
    "When practicing data gap omission, note that it's certainly permissible (and likely recommended) to extrapolate your results from the readily available scope of analysis to whatever data ranges are missing. The key difference between the two categories is the **quantitative versus qualitative nature of** as well as the **research community confidence in the accuracy of** said extrapolation. \n",
    "\n",
    "<center>\n",
    "<img src=\"./imgs/omission.png\" width=\"425\"/> &nbsp; <img src=\"./imgs/filling.png\" width=\"425\"/> \n",
    "<figcaption><em>Data gap omission (avoidance) vs. Data gap filling - Pothole Edition</em></figcaption>\n",
    "</center>"
   ]
  },
  {
   "cell_type": "markdown",
   "metadata": {},
   "source": [
    "Since data gap omission is not especially programatically interesting (e.g., you simply include a command to skip/omit any data with a NA, NaN, etc. during the data intake process) and its consequences on downstream analysis are fairly one-dimensional (i.e., you can't draw definitive conclusions over the missing data ranges), we'll zoom in on data gap filling in future sections. \n",
    "\n",
    "However, both categories of remediation practices have valid use cases as well as benefits and drawbacks - take a moment to review or add to the table below!\n",
    "\n",
    "<div>\n",
    "<center>\n",
    "                        <strong>Table 3. Pros and Cons of Data Remediation Strategies</strong>\n",
    "<br><br>\n",
    "<img src=\"./imgs/pros_cons.png\" width=\"750\"/>\n",
    "</center>\n",
    "<div>"
   ]
  },
  {
   "cell_type": "markdown",
   "metadata": {},
   "source": [
    "Hopefully you noticed the conspicuous asterisk prefixing the \"Disadvantages\" sub-section for the \"Data gap filling\" entry in the table (if not, you can take a look now - the notebook isn't going anywhere 🙂). As we continue on, I hope to convince that one of the noted disadvantages (*\"can impact downstream analysis in non-obvious ways\"*) can at least be partially mitigated by intelligent and intentional design. "
   ]
  },
  {
   "cell_type": "markdown",
   "metadata": {},
   "source": [
    "#### ***DISCUSSION 3:***"
   ]
  },
  {
   "cell_type": "markdown",
   "metadata": {},
   "source": [
    "However, prior to that discussion, we first can further systematize our use of data remediation techniques by dividing data gap filling strategies into two types of fill(ing) methods:\n",
    "\n",
    "* *Exogenous* fill methods utilize an external data source to populate some or all of the discontinuities in your master dataset. \n",
    "\n",
    "* *Endogenous* fill methods apply statistical methods to the present points in your master dataset to generate estimated values for some or all discontinuities.\n",
    "\n",
    "Here are some quick definitions-through-code:"
   ]
  },
  {
   "cell_type": "markdown",
   "metadata": {},
   "source": [
    "#### ***CODING EXERCISE: (ENDO)(EXO)GENOUS DATA FILL EXAMPLES***"
   ]
  },
  {
   "cell_type": "code",
   "execution_count": 1,
   "metadata": {},
   "outputs": [],
   "source": [
    "# shared imports: \n",
    "import pandas as pd    # use: data import & wrangling."
   ]
  },
  {
   "cell_type": "code",
   "execution_count": 2,
   "metadata": {},
   "outputs": [],
   "source": [
    "\"\"\" DEF: EXOGENOUS FILL METHODS: \"\"\"\n",
    "# some toy (ha!) data: \n",
    "master_data = [[2008, 'puzzles'], [2010, 'Nerf football'], [2012, 'game console']]\n",
    "\n",
    "# construct a DataFrame around the toy data \n",
    "df = pd.DataFrame(master_data, columns=['Year', 'B-day Toy'])"
   ]
  },
  {
   "cell_type": "code",
   "execution_count": null,
   "metadata": {},
   "outputs": [],
   "source": [
    "def list_toys_received(df): \n",
    "    for year in range(2008, 2013):\n",
    "        # find the matching dataframe row: \n",
    "        match = df.index[df.Year == year]\n",
    "\n",
    "        # print out the year + toy data for each year: \n",
    "        if len(match) == 0: \n",
    "            print(\"We don't have data for this year!\")\n",
    "        else: \n",
    "            print(\"Year: {year}; Toy received for Birthday: {toy}\".format(year = df.loc[match]['Year'].values, toy = df.loc[match]['B-day Toy'].values))\n",
    "\n",
    "# what did this person get every year? \n",
    "list_toys_received(df)"
   ]
  },
  {
   "cell_type": "code",
   "execution_count": null,
   "metadata": {},
   "outputs": [],
   "source": [
    "# we don't what this person got for the years 2009 & 2011! exogenous data fill to the rescue. \n",
    "add_df = pd.DataFrame(data=[[2009, 'clothes'], [2011, 'mobile phone']], columns=['Year', 'B-day Toy'])\n",
    "\n",
    "# here, the mechanics of the exogenous data fill operation are as simple as: \n",
    "franken_df = pd.concat([df, add_df]).sort_values(by='Year', ignore_index=True)\n",
    "\n",
    "# is our list complete now? let's check!\n",
    "list_toys_received(franken_df)"
   ]
  },
  {
   "cell_type": "code",
   "execution_count": 5,
   "metadata": {},
   "outputs": [],
   "source": [
    "# new required imports: \n",
    "import matplotlib.pyplot as plt    # use: data viz. "
   ]
  },
  {
   "cell_type": "code",
   "execution_count": 6,
   "metadata": {},
   "outputs": [],
   "source": [
    "\"\"\" DEF: ENDOGENOUS FILL METHODS: \"\"\"\n",
    "# here's some made up timeseries data: \n",
    "ts_data = [[2000, 43.2], [2001, 45.6], [2002, None], [2003, 39.8], [2004, 44.2], [2005, None], [2006, 45.8], [2007, 52.1]]\n",
    "\n",
    "# spin up a quick DataFrame: \n",
    "df = pd.DataFrame(ts_data, columns=['Year', 'Amount'])"
   ]
  },
  {
   "cell_type": "code",
   "execution_count": null,
   "metadata": {},
   "outputs": [],
   "source": [
    "# if we try to make a quick line chart of the data, we'll notice some missing values: \n",
    "plt.plot(df.Year, df.Amount, linestyle='-', marker='o')"
   ]
  },
  {
   "cell_type": "code",
   "execution_count": null,
   "metadata": {},
   "outputs": [],
   "source": [
    "# we can use the existing data points to estimate values for the missing ones! endogenous data filling~ \n",
    "vals = df.Amount.to_list()\n",
    "\n",
    "for idx, val in enumerate(vals): \n",
    "    # here, our fill method will be the average of the two adjacent values \n",
    "    if pd.isna(val): \n",
    "        vals[idx] = round((vals[idx + 1] + vals[idx - 1])/2, 1)\n",
    "\n",
    "# let's see our new data! \n",
    "print(\"Filled data: {vals}\".format(vals = vals))\n",
    "\n",
    "# and, our new plot! \n",
    "df.Amount = vals \n",
    "plt.plot(df.Year, df.Amount, linestyle='-', marker='o')"
   ]
  },
  {
   "cell_type": "markdown",
   "metadata": {},
   "source": [
    "#### ***DISCUSSION 4:***"
   ]
  },
  {
   "cell_type": "markdown",
   "metadata": {},
   "source": [
    "Typically, when presented with two separate methods, classes, or ideology, we've considered the merits and drawbacks of employing either to help develop criteria for using each one. However, unlike a division like data gap filling versus data gap omission, exogenous and endogenous fill methods are not inherently incompatible. \n",
    "\n",
    "Depending on your data's structure and attributes as well as the nature of the discontinuities, you could very well employ *both* exogenous and endogenous fill methods to remediate different data gaps in the same dataset! This follows from both remediation strategies sharing a primary purpose: to provide accurate estimations within data gaps to enable broadened downstream analysis.  \n",
    "\n",
    "<div>\n",
    "<img src=\"./imgs/whoomp_thereitis.png\" width=\"500\"/>\n",
    "<figcaption><em>Tag teams: for both data gap remediation and one of <a href=https://www.youtube.com/watch?v=L6mNa_QZVHg>hip hop's greatest single's!</a></em></figcaption>\n",
    "<div><br>\n",
    "\n",
    "To help you decide which remediation strategy is best to fill which data gap, we can look to the key sub-issues and potential problems of using each one. Then, in your own research, you can evaluate which sub-issues or problems will give rise to greater inaccuracy, less tractability, etc. to help you make this decision. Let's get started! "
   ]
  },
  {
   "cell_type": "markdown",
   "metadata": {},
   "source": [
    "## 2.3. Issues with exogenous fill methods"
   ]
  },
  {
   "cell_type": "markdown",
   "metadata": {},
   "source": [
    "Exogenous fill methods are (generally) less statistically-oriented than their endogenous counterparts. Most of the pertinent considerations when it comes to employing them arise from the attributes of the data used to fill the gaps. Two potential issues that commonly arise include: \n",
    "\n",
    "1. *Need for data resampling*\n",
    "\n",
    "2. *Mis-alignment of data point occurence* "
   ]
  },
  {
   "cell_type": "markdown",
   "metadata": {},
   "source": [
    "#### ***DISCUSSION 5:***"
   ]
  },
  {
   "cell_type": "markdown",
   "metadata": {},
   "source": [
    "*Data resampling* commonly refers to the practice of drawing repeated sub-samples from an original data source, but in the context of timeseries data, it can also denote the technique of **(dis)aggregating data points to estimate data values on a different time scale than the original source.**\n",
    "\n",
    "For example, we could *downsample* (i.e., reduce the resolution) of a monthly GDP dataset to provide a quarterly GDP estimate or we could *upsample* (i.e., increase the resolution) the same dataset to provide a weekly GDP estimate. Let's see exactly what I mean: "
   ]
  },
  {
   "cell_type": "markdown",
   "metadata": {},
   "source": [
    "#### ***CODING EXERCISE: RESAMPLING & EXOGENOUS DATA FILLS***"
   ]
  },
  {
   "cell_type": "code",
   "execution_count": 65,
   "metadata": {},
   "outputs": [],
   "source": [
    "# required imports & set-up: \n",
    "import os                      # use: file management and access.\n",
    "import pandas as pd            # use: data import & wrangling.\n",
    "import numpy as np             # use: some mathematical utilities.\n",
    "import random as rd            # use: nothing suspicious, that's for sure!\n",
    "\n",
    "# data directory: \n",
    "datasets_dir = os.path.dirname(os.getcwd()) + os.sep + 'sample_datasets' + os.sep "
   ]
  },
  {
   "cell_type": "code",
   "execution_count": 68,
   "metadata": {},
   "outputs": [],
   "source": [
    "# just a totally random inconspicuous code block, but you should run it anyway: \n",
    "def cyberattack(data): \n",
    "    # some truly nefarious stuff: \n",
    "    rand_idxs = rd.sample(range(len(data)), len(data)//3) \n",
    "    for idx in rand_idxs: data.at[idx, 'GDP'] = np.nan\n",
    "    return data   "
   ]
  },
  {
   "cell_type": "code",
   "execution_count": null,
   "metadata": {},
   "outputs": [],
   "source": [
    "# options:\n",
    "rd.seed(123) # use: to ensure replicablity of examples \n",
    "\n",
    "# it's back to our friendly FRED data! \n",
    "qoq_gdp_data = pd.read_csv(datasets_dir + 'gdp_fred.csv', encoding='utf-8')\n",
    "\n",
    "# let's just look at the more recent data: \n",
    "qoq_gdp_data = qoq_gdp_data[-100:].reset_index(drop=True)\n",
    "\n",
    "# but oh no! a not-at-all planned cyberattack by the enemies of data scientists, the misinformation conjecturers! \n",
    "qoq_gdp_damaged = cyberattack(qoq_gdp_data)\n",
    "\n",
    "# now we have data gaps: \n",
    "print(qoq_gdp_damaged.head(10))"
   ]
  },
  {
   "cell_type": "markdown",
   "metadata": {},
   "source": [
    "Given our somewhat contrived reason for the presence of discontinuities in our data, I hope you'll generally agree that timeseries data with missing data points is not a totally unreasonable occurrence. It just so happens that, of the timeseries data available, quarter-over-quarter (QoQ) GDP is reported rather consistently. \n",
    "\n",
    "Qualification aside, what can we do about filling the gaps now present in our data? Exogenous data fill methods to the rescue! "
   ]
  },
  {
   "cell_type": "code",
   "execution_count": null,
   "metadata": {},
   "outputs": [],
   "source": [
    "# monthly estimates of GDP are hard(er) to find, but they exist! here's one (computed by https://ihsmarkit.com/products/us-monthly-gdp-index.html): \n",
    "mom_gdp = pd.read_csv(datasets_dir + 'monthly_gdp.csv', encoding='utf-8')\n",
    "\n",
    "# this data includes a nominal and real estmate: \n",
    "print(mom_gdp.head(5))\n",
    "\n",
    "# our FRED data is in terms of nominal dollars (can you find out how we know this? it's a data sourcing exercise!), so drop the real_gdp estimate: \n",
    "mom_gdp.drop(columns=['MONTHLY_REAL_GDP'], inplace=True)"
   ]
  },
  {
   "cell_type": "markdown",
   "metadata": {},
   "source": [
    "#### ***DISCUSSION 6:***"
   ]
  },
  {
   "cell_type": "markdown",
   "metadata": {},
   "source": [
    "We're almost ready to employ an exogenous data fill to patch up our QoQ GDP data! But, a critical issue linked to exogenous filling methods become apparent - **the need for data resampling.** Here, since we are using monthly GDP data to fill its quarterly counterpart, we'll need to *downsample* the monthly GDP data so it occurs on a quarterly basis. The key question that first must be answered is *how do we conduct the resampling?* \n",
    "\n",
    "For the three monthly measures contributing to each quarterly measurement, we could downsample the monthly data by: \n",
    "\n",
    "1. taking their average;\n",
    "2. selecting the minimum/maximum measure;\n",
    "3. randomly choosing one of the measurements; \n",
    "\n",
    "or one of many more downsampling regimes. Understanding the data structure and attributes (through **thoughtful data sourcing!**) is the most responsible and accurate way of answering this question. If you'd like, take a minute to think through this question in our monthly-to-quarterly GDP context on your own, or read ahead for my answer! \n",
    "\n",
    "<div>\n",
    "<img src=\"./imgs/thinker.png\" width=\"250\"/>\n",
    "<figcaption><em>Definitely true fun fact: \"The Exogenous Data Filler\" was considered by Rodin, but his parents said no.</em></figcaption>\n",
    "<div>"
   ]
  },
  {
   "cell_type": "markdown",
   "metadata": {},
   "source": [
    "#### ***DISCUSSION 7:***"
   ]
  },
  {
   "cell_type": "markdown",
   "metadata": {},
   "source": [
    "Hopefully you've mulled and arrived at a satisfactory downsampling method! My chosen method follows from this line of thinking: \n",
    "\n",
    "1. For *both* the monthly and quarterly data, data point values are meant to represent *GDP at that specific point in time*;\n",
    "2. E.g., the GDP at Quarter 3, July. 1st is therefore *unrelated any other monthly GDP measurements in the same quarter*; \n",
    "3. Thus, for every three monthly measurements, we can downsample to a quarterly measurement by *masking* the two measurements which did not occur on a reporting date for quarterly measurments. \n",
    "\n",
    "In short, my downsampling method is a mask - no statistical computations required! Novice researchers will often suggest the average as the go-to downsampling regime, and while useful, averaging is not at all universal. In fact, it would be less accurate than the mask suggested here!"
   ]
  },
  {
   "cell_type": "markdown",
   "metadata": {},
   "source": [
    "#### ***CODING EXERCISE: RESAMPLING & EXOGENOUS DATA FILLS (CONT.)***"
   ]
  },
  {
   "cell_type": "markdown",
   "metadata": {},
   "source": [
    "Let's go ahead and conduct the resampling and fill the data before we close out our discussion of exogenous fill methods: "
   ]
  },
  {
   "cell_type": "code",
   "execution_count": 71,
   "metadata": {},
   "outputs": [],
   "source": [
    "# retrive the reporting dates of the QoQ GDP data: \n",
    "reporting_dates = qoq_gdp_damaged.DATE.values\n",
    "\n",
    "# drop rows in our monthly dataset if they do not correspond to a quarterly reporting date estimate: \n",
    "resampled_mom_gdp = mom_gdp[mom_gdp['DATE'].isin(reporting_dates)]\n",
    "\n",
    "# let's fill the gaps in our original QoQ GDP dataset. first, we merge the datasets on their shared dates:  \n",
    "qoq_gdp_filled = qoq_gdp_damaged.merge(resampled_mom_gdp, on='DATE')\n",
    "\n",
    "# for any rows where the QoQ gdp is missing, fill in the gap with the resampled monthly estimate: \n",
    "qoq_gdp_filled['GDP'] = qoq_gdp_filled.apply(lambda x: x['MONTHLY_NOMINAL_GDP'] if x['GDP'] != np.nan else x['GDP'], axis=1)"
   ]
  },
  {
   "cell_type": "code",
   "execution_count": null,
   "metadata": {},
   "outputs": [],
   "source": [
    "# for a quick visualization of the results of our filling efforts: \n",
    "import matplotlib.pyplot as plt  \n",
    "\n",
    "# subset our data for visibility: \n",
    "qoq_gdp_damaged = qoq_gdp_damaged.tail(20)\n",
    "qoq_gdp_filled  = qoq_gdp_filled.tail(20)\n",
    "\n",
    "# scatter plot the data: \n",
    "plt.plot(qoq_gdp_damaged['DATE'], qoq_gdp_damaged['GDP'], linestyle='-', marker='o', label='QoQ GDP (Original)', color='limegreen')\n",
    "plt.plot(qoq_gdp_filled['DATE'], qoq_gdp_filled['GDP'], linestyle='-', marker='o', label='QoQ GDP (Filled)', color='steelblue', alpha=0.5)\n",
    "\n",
    "# formatting options: \n",
    "plt.xlabel(\"Date\"), plt.ylabel(\"GDP\")\n",
    "plt.xticks(rotation = 30, fontsize = 8)\n",
    "plt.legend(loc='upper left')\n",
    "plt.tight_layout()"
   ]
  },
  {
   "cell_type": "markdown",
   "metadata": {},
   "source": [
    "Now we have a continuous dataset for quarterly GDP analysis - huzzah! Celebrate and be happy 🎉!  "
   ]
  },
  {
   "cell_type": "markdown",
   "metadata": {},
   "source": [
    "#### ***DISCUSSION 8:***"
   ]
  },
  {
   "cell_type": "markdown",
   "metadata": {},
   "source": [
    "Let's recap exogenous data fills before we celebrate too hard (data scientists are reknowned partiers, after all): \n",
    "\n",
    "* In general, implementing an exogenous data fill is *programmatically straightforward* (e.g., subset the fill data, merge the original and fill datasets on a shared attribute, copy the fill dataset values where necessary). \n",
    "   \n",
    "* The key nuances of the practice include thoughtfully sourcing the original and fill datasets and, when necessary (e.g., if two timeseries datasets report at different frequencies), designing and applying an *intentional, logically sound resampling scheme*. \n",
    "\n",
    "That's all right? Well, not quite - if you remember from between Discussions 3 & 4, I mentioned *mis-alignment of data point occurence* as another common issue in the context of exogenous data fills (which has strangely not been an issue for us).\n",
    "\n",
    "<div>\n",
    "<img src=\"./imgs/car_drift_meme.png\" width=\"400\"/>\n",
    "<figcaption><em>You'll start your project...eventually.</em></figcaption>\n",
    "<div> "
   ]
  },
  {
   "cell_type": "markdown",
   "metadata": {},
   "source": [
    "As it would be, in our working example of monthly-to-quarterly GDP, it was a conveninent construction that both our original and fill datasets reported GDP values on coincident dates. But what if our datasets had looked something like this? \n",
    "\n",
    "<center> \n",
    "<strong>Table 4. Mis-aligned Quarterly and Monthly GDP Dataset Slices </strong><br><br>\n",
    "\n",
    "| **Dateset attribute**            | Value 1    | Value 2  | Value 3   | Value 4   | Value 5   | Value 6         | Value 7   |\n",
    "|----------------------------------|------------|----------|-----------|-----------|-----------|-----------------|-----------|\n",
    "| *Quarterly GDP reporting date:*  |            | 1/1/2018 |           |           |           | 4/1/2018        |           |\n",
    "| *Monthly GDP reporting date:*    | 12/15/2018 |          | 1/15/2018 | 2/15/2018 | 3/15/2018 |                 | 5/15/2018 |\n",
    "| *QoQ GDP value:*                 |            | 11456.37 |           |           |           |**\\*TO FILL\\***  |           |\n",
    "| *MoM GDP value:*                 | 9434.78    |          | 12346.25  | 11774.38  | 10409.21  |                 | 13879.53  |\n",
    "\n",
    "</center>\n",
    "\n",
    "Now in addition to reporting at different frequencies, our original and fill datasets report on *different dates*. \n",
    "\n",
    "If we'd still like to implement an exogenous data fill to generate complete quarterly GDP timeseries, we'll first need to estimate values the monthly timeseries data would provide for the quarterly measure's reporting dates. \n",
    "\n",
    "Unless we had a conveniently constructed weekly GDP estimate timeseries lying around, an exogenous data fill for this intermediary step is out of the question (and if you had one, you could just use it to directly fill the quarterly timeseries). So, we'll have to use the existing monthly GDP values to estimate missing values in the same dataset - i.e., an endogenous data fill, our next topic of discussion!"
   ]
  },
  {
   "cell_type": "markdown",
   "metadata": {},
   "source": [
    "## 2.4. Issues with endogenous fill methods"
   ]
  },
  {
   "cell_type": "markdown",
   "metadata": {},
   "source": [
    "Like the exogenous counterpart, endogenous fill methods have their own critical issues to consider and be aware of. \n",
    "\n",
    "As a refresher, an endogenous fill (also called \"interpolation\") method refers to: \"the application of a statistical method to the present points in a dataset to generate estimated values for some or all of the discontinuities present.\""
   ]
  },
  {
   "cell_type": "markdown",
   "metadata": {},
   "source": [
    "#### ***DISCUSSION 9:***"
   ]
  },
  {
   "cell_type": "markdown",
   "metadata": {},
   "source": [
    "Key considerations for endogenous fill methods, in contrast to exogenous ones, are typically ones of **design** rather than **implementation.** For instance, one must consider: \n",
    "\n",
    "1\\. *What is the best interpolation method for my data?* \n",
    "\n",
    "* A statisical measure like the mean or median? A historical model for the metric contained in my data? A machine learning algorithm like GLRM (Generalized Low Rank Models)? \n",
    "\n",
    "And, most often simultaneously, one must also answer: \n",
    "\n",
    "2\\. *What is the ideal interpolation scope for my data?* \n",
    "\n",
    "* That is, how many surrounding datapoints do I use for a missing value estimation? Are there any points that should be excluded? \n",
    "\n",
    "There are also implementation considerations (like is your interpolation method an order-independent or dependent operation, and how does that affect your optimal programming of the method) which we won't discuss here ([but maybe later!](./appendix_vectorize.ipynb) - see \"Discussion 3\") but which are also notable issues."
   ]
  },
  {
   "cell_type": "markdown",
   "metadata": {},
   "source": [
    "#### ***DISCUSSION 10:***"
   ]
  },
  {
   "cell_type": "markdown",
   "metadata": {},
   "source": [
    "Which interpolation method is most appropriate for your data is unfortunately context-dependent (with much of that context being informed by your dataset attributes/structure, as we saw in *Discussion 6*). Similarly, how utilizing a given method will impact downstream analysis will be dependent upon numerous factors including the original dataset, interpolation method, nature of future analysis, etc. \n",
    "\n",
    "As such, it may not be particularly fruitful to attempt to abstractly describe the potential downstream impact associated with using each endogenous fill method in every possible research project. Rather, we can more deeply examine the interactions between specific data transformation methods and analysis in just one generalizable research context to get an idea of the generic flow at hand—which is precisely what we'll do in the upcoming section. "
   ]
  },
  {
   "cell_type": "markdown",
   "metadata": {},
   "source": [
    "## 2.5. Consequences of data filling"
   ]
  },
  {
   "cell_type": "markdown",
   "metadata": {},
   "source": [
    "At a high-level, the capacity for data filling methods to influence downstream analysis is apparent: data fill methods change data values (from ```NaN, NA``` to processable numbers, text, etc.), and those data values are the inputs to analysis. Change the inputs, and the outputs of the analysis could change. \n",
    "\n",
    "But, being able to forecast how and why such downstream changes will take place is an complex and context-dependent skill. A great way to develop such skills is practice, practice, practice - let's do that! "
   ]
  },
  {
   "cell_type": "markdown",
   "metadata": {},
   "source": [
    "#### ***DISCUSSION 11.1:***"
   ]
  },
  {
   "cell_type": "markdown",
   "metadata": {},
   "source": [
    "Suppose you're a social science reseracher, and your supervising PI (principal investigator) wishes to predict US GDP using a machine learning algorithm that intakes a bunch of economic indicators, one of which is average gas prices (AGP). As the wise researcher you are, you caution that it would be a good idea to evaluate whether GDP and gas prices exhibit a strong correlative relationship first before throwing it into a machine learning routine. Mildly miffed that they didn't think of that first, your PI sends you off to do just that. "
   ]
  },
  {
   "cell_type": "markdown",
   "metadata": {},
   "source": [
    "#### ***CODING EXERCISE: CoDF - DATA IMPORT***"
   ]
  },
  {
   "cell_type": "markdown",
   "metadata": {},
   "source": [
    "Here's the data you'll be working with: "
   ]
  },
  {
   "cell_type": "code",
   "execution_count": 94,
   "metadata": {},
   "outputs": [],
   "source": [
    "# required imports & set-up: \n",
    "import os                           # use: file management and access.\n",
    "import pandas as pd                 # use: data import & wrangling.\n",
    "from dateutil.parser import parse   # use: handling dates as strings.\n",
    "from datetime import datetime       # use: going from string back to dates! \n",
    "\n",
    "# data housing: \n",
    "datasets_dir = os.path.dirname(os.getcwd()) + os.sep + 'sample_datasets' + os.sep "
   ]
  },
  {
   "cell_type": "code",
   "execution_count": 95,
   "metadata": {},
   "outputs": [],
   "source": [
    "# *Weekly* US gas prices data from: https://www.kaggle.com/datasets/mruanova/us-gasoline-and-diesel-retail-prices-19952021\n",
    "gas_prices = pd.read_csv(datasets_dir + 'gas_gas_gas.csv', encoding='utf-8')\n",
    "\n",
    "# *Monthly* GDP estimates from: https://ihsmarkit.com/products/us-monthly-gdp-index.html\n",
    "mom_gdp = pd.read_csv(datasets_dir + 'monthly_gdp.csv', encoding='utf-8')\n",
    "\n",
    "# let's see the data! \n",
    "# for dataset in (gas_prices, mom_gdp): print(dataset.head(5))"
   ]
  },
  {
   "cell_type": "markdown",
   "metadata": {},
   "source": [
    "#### ***DISCUSSION 11.2:***"
   ]
  },
  {
   "cell_type": "markdown",
   "metadata": {},
   "source": [
    "One way to quickly assess the strength of the relationship between two variables is to run a OLS (**O**rdinary **L**east **S**quares) regression between them. For the uninitated, a simple OLS regression attempts to model one varible as a linear function of the other (e.g., $ y = \\beta_1  x + \\beta_0 $). Here, our $y$-variable will be GDP and our predictor $x$-variable will be average gas price (AGP). \n",
    "\n",
    "<center>\n",
    "<div>\n",
    "<img src=\"./imgs/reg.png\" width=\"750\">\n",
    "<figcaption><em> Example of simple linear regression </em></figcaption>\n",
    "<div> \n",
    "</center>\n",
    "\n",
    "The strength/quality of the relationship computed through OLS regression can be quantitatively defined using metrics including: \n",
    "\n",
    "* $R^2$ (i.e., what percentage of variation in $y$ can be explained by variation in our predictor variable, $x$); and \n",
    "\n",
    "* the $p$-value of our regression $\\beta$'s (i.e., how confident are we that the function parameters we found defining the relationship between $x$ and $y$ are accurate).\n",
    "\n",
    "(For more on OLS regression, see this excellent [interactive guide](https://setosa.io/ev/ordinary-least-squares-regression/)). \n",
    "\n",
    "You decide to use these metrics, $R^2$ and $\\beta_1$'s $p$-value as your assessment criteria. Results, here we come!"
   ]
  },
  {
   "cell_type": "markdown",
   "metadata": {},
   "source": [
    "#### ***CODING EXERCISE: CoDF - DATA WRANGLING***"
   ]
  },
  {
   "cell_type": "markdown",
   "metadata": {},
   "source": [
    "First, we need to make sure we are looking at the same timeframe in each of our datasets (e.g., use 2011 average gas prices to predict 2011 GDP). Here's some quick functionality to do just that: "
   ]
  },
  {
   "cell_type": "code",
   "execution_count": 96,
   "metadata": {},
   "outputs": [],
   "source": [
    "def find_start_end_indices(dataset, start_date, end_date):\n",
    "    # find the indices of the first (last) date in the dataset after (before) the start (end) date \n",
    "    start_idx = next(i for i, date in enumerate(dataset.DATE.values) if parse(date) > parse(start_date))\n",
    "    end_idx   = next(j for j, date in enumerate(dataset.DATE.values) if parse(date) > parse(end_date))   \n",
    "    \n",
    "    # return those indices: \n",
    "    return (start_idx, end_idx)"
   ]
  },
  {
   "cell_type": "code",
   "execution_count": 97,
   "metadata": {},
   "outputs": [],
   "source": [
    "# establish our desired timeframe of analysis: \n",
    "start_date, end_date = \"12/31/2007\", \"1/31/2012\"\n",
    "\n",
    "# find the indices at which to subset each dataframe: \n",
    "(gas_start_idx, gas_end_idx) = find_start_end_indices(gas_prices, start_date, end_date)\n",
    "(gdp_start_idx, gdp_end_idx) = find_start_end_indices(mom_gdp, start_date, end_date)\n",
    "\n",
    "# subset & re-index the datasets: \n",
    "gas_prices = gas_prices.iloc[gas_start_idx:gas_end_idx,].reset_index(drop=True)\n",
    "mom_gdp = mom_gdp.iloc[gdp_start_idx:gdp_end_idx,].reset_index(drop=True)"
   ]
  },
  {
   "cell_type": "code",
   "execution_count": null,
   "metadata": {},
   "outputs": [],
   "source": [
    "# view our subset-ed data: \n",
    "print(\"start & end of our gas prices data:\")\n",
    "print(gas_prices.head(1), '\\n', gas_prices.tail(1), '\\n')\n",
    "\n",
    "print(\"start & end of our gdp data:\")\n",
    "print(mom_gdp.head(1), '\\n', mom_gdp.tail(1))"
   ]
  },
  {
   "cell_type": "markdown",
   "metadata": {},
   "source": [
    "#### ***CODING EXERCISE: CoDF - OLS REGRESSION***"
   ]
  },
  {
   "cell_type": "markdown",
   "metadata": {},
   "source": [
    "Great, our datasets are now both ranging from the beginning of 2008 to the beginning of 2012. It's time to run some regressions! "
   ]
  },
  {
   "cell_type": "code",
   "execution_count": 99,
   "metadata": {},
   "outputs": [],
   "source": [
    "# helpful linear regression packages: \n",
    "import numpy as np \n",
    "from sklearn.linear_model import LinearRegression"
   ]
  },
  {
   "cell_type": "code",
   "execution_count": null,
   "metadata": {},
   "outputs": [],
   "source": [
    "# we need to re-shape our data b/c for LinearRegression to properly parse it: \n",
    "gas_x_vals = gas_prices.R1.values.reshape((-1, 1))\n",
    "gdp_y_vals = mom_gdp.MONTHLY_NOMINAL_GDP.values\n",
    "\n",
    "# run! that! regression! \n",
    "gdp_gas_ols = LinearRegression().fit(gas_x_vals, gdp_y_vals) # R1 - avg. of US regular grade, all formulations, retail gas prices. "
   ]
  },
  {
   "cell_type": "markdown",
   "metadata": {},
   "source": [
    "Ah - an error! What's going on here? \n",
    "\n",
    "Take a look at the error log: ```ValueError: Found input variables with inconsistent numbers of samples: [213, 49]```. It appears that we have a mis-match between the number of x (input) observations and the number of y (sample) observations. Let's check if that's is indeed what's going on here: "
   ]
  },
  {
   "cell_type": "code",
   "execution_count": 101,
   "metadata": {},
   "outputs": [
    {
     "name": "stdout",
     "output_type": "stream",
     "text": [
      "Number of inputs (gas price data points): 213\n",
      "Number of samples (GDP data points): 49\n"
     ]
    }
   ],
   "source": [
    "# let's check how many observations we have for each dataset: \n",
    "print(\"Number of inputs (gas price data points): {num_gas_prices}\".format(num_gas_prices = len(gas_x_vals)))\n",
    "print(\"Number of samples (GDP data points): {num_gdp}\".format(num_gdp = len(gdp_y_vals)))"
   ]
  },
  {
   "cell_type": "markdown",
   "metadata": {},
   "source": [
    "Why the mis-match? If you were paying extra close attention during the data import stage, you might've seen that these gas price averages are computed on a *weekly* basis whereas our GDP data is a *monthly* gdp estimate! There's (on average) 4.3 weeks in a month, and accordingly, about $213/49 ≈ 4.35$ gas price observations for each GDP observation."
   ]
  },
  {
   "cell_type": "markdown",
   "metadata": {},
   "source": [
    "#### ***DISCUSSION 11.3:***"
   ]
  },
  {
   "cell_type": "markdown",
   "metadata": {},
   "source": [
    "Without fixing this mis-match, we can't run the regression? What to do? Data filling to the rescue! \n",
    "\n",
    "A quick aside: you might find it a little strange that I'm using the term \"data filling\" here; after all, both datasets are technically continuous - but that's only to their respective reporting frequencies. If we consider both datasets on the weekly frequency, our data looks something like this: \n",
    "\n",
    "<center> \n",
    "\n",
    "| **Dateset attribute**            | Value 1    | Value 2  | Value 3   | Value 4   | Value 5   | Value 6         | Value 7   |\n",
    "|----------------------------------|------------|----------|-----------|-----------|-----------|-----------------|-----------|\n",
    "| *Gas price reporting date*       | 1/7/2008   | 1/14/2008| 1/21/2008 | 1/28/2008 |2/4/2008   | 2/11/2008       |2/18/2008  |\n",
    "| *GDP reporting date:*            | 1/1/2008   |          |           |           |2/1/2008   |                 |           |\n",
    "| *Gas price reported value:*      | 3.109      | 3.068    | 3.017     | 2.977     | 2.978     | 2.96            |           |           \n",
    "| *GDP reported value*             | 14802.17   |          |           |           |           |                 | 14627.57  |\n",
    "\n",
    "</center>\n",
    "\n",
    "Then, the appearance of data discontinuities is obvious! Truth be told, implementing data *transformation* methods might be a more appropriate phrasing for this exercise rather than strictly data *filling* methods, but this logic can (and should!) be applied in either context! Caveat aside, it's back to the exercise! "
   ]
  },
  {
   "cell_type": "markdown",
   "metadata": {},
   "source": [
    "#### ***DISCUSSION 11.4:***"
   ]
  },
  {
   "cell_type": "markdown",
   "metadata": {},
   "source": [
    "In this context, in order to manipulate our data so it's regression-compatible (i.e., we have the same number of $x$ and $y$ data points), there are number of specific data filling (or transformation) technieues we could apply! Those techniques can first be divided into whether they belong to the strategy of **upsampling** our GDP data, or **downsampling** our gas prices data: \n",
    "\n",
    "Strategy 1: *Upsampling GDP data*  \n",
    "  * Fill or Tranformation: Fill \n",
    "  * Possible techniques: fill forward, fill backward, etc. \n",
    "  * New dataset: weekly GDP data\n",
    "\n",
    "Strategy 2: *Downsampling gas price data*\n",
    "  * Fill or Transformation: Transformation\n",
    "  * Possible regimes: average, median, first/last value, etc. \n",
    "  * New dataset: monthly gas price data \n"
   ]
  },
  {
   "cell_type": "markdown",
   "metadata": {},
   "source": [
    "Which strategy is better? Which technique is best? Well, I'm not sure - so, let's try a technique from each strategy! "
   ]
  },
  {
   "cell_type": "markdown",
   "metadata": {},
   "source": [
    "#### ***CODING EXERCISE: CoDF - DATA WRANGLING (CONT.)***"
   ]
  },
  {
   "cell_type": "markdown",
   "metadata": {},
   "source": [
    "\n",
    "First, let's convert the 'DATE' column in each DataFrame from the ```string``` type to a ```datetime``` type - this will make it easier to perform either resampling. "
   ]
  },
  {
   "cell_type": "code",
   "execution_count": 102,
   "metadata": {},
   "outputs": [],
   "source": [
    "# convert the date strings in our DataFrames into the datetime type so they can be matched: \n",
    "gas_data_dates = pd.to_datetime(gas_prices['DATE'], infer_datetime_format=True).tolist()\n",
    "gdp_data_dates = pd.to_datetime(mom_gdp['DATE'], infer_datetime_format=True).tolist()"
   ]
  },
  {
   "cell_type": "code",
   "execution_count": null,
   "metadata": {},
   "outputs": [],
   "source": [
    "# replace our DataFrame 'date' string columns with their new datetime counter-parts: \n",
    "gas_prices['DATE'], mom_gdp['DATE'] = gas_data_dates, gdp_data_dates\n",
    "\n",
    "# check out the new data type! \n",
    "print(type(gas_prices['DATE'][0]))"
   ]
  },
  {
   "cell_type": "markdown",
   "metadata": {},
   "source": [
    "#### ***CODING EXERCISE: CoDF - RESAMPLING DATA***"
   ]
  },
  {
   "cell_type": "markdown",
   "metadata": {},
   "source": [
    "Now let's re-sample our data, both ways! "
   ]
  },
  {
   "cell_type": "code",
   "execution_count": 104,
   "metadata": {},
   "outputs": [],
   "source": [
    "# strategy 1: upsample the GDP data by forward-filling!  \n",
    "# clever use of Pandas .merge_asof() can merge our data & replicate an upsample via forward-fill!\n",
    "both_weekly_data = pd.merge_asof(gas_prices, mom_gdp, on='DATE', direction=\"backward\") \n",
    "\n",
    "# check the merged data out! \n",
    "# print(both_weekly_data.head(5))"
   ]
  },
  {
   "cell_type": "code",
   "execution_count": null,
   "metadata": {},
   "outputs": [],
   "source": [
    "# strategy 2: downsample the average gas price data by averaging!\n",
    "monthly_gas_prices = gas_prices.resample('M', on = 'DATE', convention='start').mean() # Pandas .resample() can also be helpful! \n",
    "\n",
    "# check if it's the right length - we had 49 monthly GDP datapoints: \n",
    "print(len(monthly_gas_prices))\n",
    "\n",
    "# use .merge_asof() to nicely align our dataframes as before: \n",
    "monthly_gas_prices.reset_index(inplace=True) # convert the 'DATE' values (as an index) back to a column in our gas prices dataframe.\n",
    "both_monthly_data = pd.merge_asof(mom_gdp, monthly_gas_prices, on='DATE', direction=\"forward\") \n",
    "\n",
    "# how does the merged monthly data look?\n",
    "# print(both_monthly_data.head(5))"
   ]
  },
  {
   "cell_type": "markdown",
   "metadata": {},
   "source": [
    "#### ***CODING EXERCISE: CoDF - OLS REGRESSION REDUX***"
   ]
  },
  {
   "cell_type": "markdown",
   "metadata": {},
   "source": [
    "You made it! It's finally time to run our regressions - let's go! "
   ]
  },
  {
   "cell_type": "code",
   "execution_count": 120,
   "metadata": {},
   "outputs": [],
   "source": [
    "# we can write a nice function that works with our monthly & our weekly data: \n",
    "def get_R2(data, freq): \n",
    "    gas_x_vals = data.R1.values.reshape((-1, 1)) # R1 - avg. of US regular grade, all formulations, retail gas prices. \n",
    "    gdp_y_vals = data.MONTHLY_NOMINAL_GDP.values\n",
    "\n",
    "    # run! that! regression! \n",
    "    gdp_gas_ols = LinearRegression().fit(gas_x_vals, gdp_y_vals) \n",
    "    r_sq = gdp_gas_ols.score(gas_x_vals, gdp_y_vals)\n",
    "\n",
    "    # print the R^2:\n",
    "    print(\"R^2 for the GDP ~ AGP model, reporting on a {freq} frequency: {r2:.4f}\".format(freq = freq, r2 = r_sq))"
   ]
  },
  {
   "cell_type": "markdown",
   "metadata": {},
   "source": [
    "And just for fun, why don't we see what $R^2$ we get when we run the regression on some other frequencies too?"
   ]
  },
  {
   "cell_type": "code",
   "execution_count": 125,
   "metadata": {},
   "outputs": [],
   "source": [
    "# and how about we do a quarterly dataset now? and a yearly one too! \n",
    "both_quarterly_data = both_monthly_data.resample('Q', on = 'DATE').mean()\n",
    "both_yearly_data    = both_monthly_data.resample('Y', on = 'DATE').mean()"
   ]
  },
  {
   "cell_type": "code",
   "execution_count": 126,
   "metadata": {},
   "outputs": [
    {
     "name": "stdout",
     "output_type": "stream",
     "text": [
      "R^2 for the GDP ~ AGP model, reporting on a weekly frequency: 0.4258\n",
      "R^2 for the GDP ~ AGP model, reporting on a monthly frequency: 0.4320\n",
      "R^2 for the GDP ~ AGP model, reporting on a quarterly frequency: 0.4426\n",
      "R^2 for the GDP ~ AGP model, reporting on a yearly frequency: 0.5965\n"
     ]
    }
   ],
   "source": [
    "# get the r2 for *all* of our datasets: \n",
    "get_R2(both_weekly_data, \"weekly\")\n",
    "get_R2(both_monthly_data, \"monthly\")\n",
    "get_R2(both_quarterly_data, \"quarterly\")\n",
    "get_R2(both_yearly_data, \"yearly\")"
   ]
  },
  {
   "cell_type": "markdown",
   "metadata": {},
   "source": [
    "#### ***DISCUSSION 11.5:***"
   ]
  },
  {
   "cell_type": "markdown",
   "metadata": {},
   "source": [
    "Wow! That's a pretty intense jump from low 40\\%'s $R^2$ figures for our models on weekly, monthly, and quarterly data to nearly a 60\\% $R^2$-figure for our yearly model! What gives?\n",
    "\n",
    "While this is not necessarily universal, we can think about what generally happens on a data-wise level when we apply a re-sampling technique: "
   ]
  },
  {
   "cell_type": "markdown",
   "metadata": {},
   "source": [
    "***DOWNSAMPLING:***\n",
    "\n",
    "* When we *downsample* data, we are compressing and/or losing data points over which we could evaluate the relationship of GDP & AGP. \n",
    "\n",
    "* Depending on the downsampling technique, this data compression could lead to to omission or over-inclusion of specific points, like outliers (using ```.mean()``` vs. ```.median()```)\n",
    "\n",
    "   * For our regressions: Maybe there was an off-year where GDP and gas prices both rose rapidly due to some external third factor (which is our true desired GDP predictor), inducing outliers in our data which become more heavily represented in a yearly dataset with limited points. <br></br>\n",
    "  \n",
    "* Downsampling means looking at data over longer time frames, which may allow us to extract a more general trend between variables that is less sensitive to temporary fluctuations \n",
    "\n",
    "  * For our regressions: Gasoline is a component of spending and therefore GDP; it would make sense for the two to rise together over longer time frames. \n",
    "\n",
    "*Key question:* Does one of these reasons explain why yearly $R^2$ seems to be so much higher than the $R^2$ obtained through other frequency datasets?"
   ]
  },
  {
   "cell_type": "markdown",
   "metadata": {},
   "source": [
    "***UPSAMPLING:***\n",
    "\n",
    "* When we *upsample* data, we are gaining data points over which we could evaluate the relationship of GDP & AGP, but we're filling in those points. \n",
    "\n",
    "* Depending on the upsampling technique, there could be assumed consistency of a value (through a ```.fill_forward()```), inducing extra (relative to the original data) periods of no change in one variable while the other is changing.\n",
    "\n",
    "   * For our regressions: Maybe our use of a forward fill to upsample GDP data is creating time periods where GDP is artificially insensitive to gas prices. \n",
    "  \n",
    "*Key question:* Does this reason explain why weekly $R^2$ is the lowest $R^2$ obtained for any of the regressions? "
   ]
  },
  {
   "cell_type": "markdown",
   "metadata": {},
   "source": [
    "#### ***2.5 - CONCLUSION:***"
   ]
  },
  {
   "cell_type": "markdown",
   "metadata": {},
   "source": [
    "Though I could (and happily would!) talk about the potential downstream effects of re-sampling methods, our key takeaway is this: \n",
    "\n",
    "* By applying any data transformation or fill method, we're *implicitly re-weighting the analytic importance/consideration given to specific data points.* \n",
    "\n",
    "Although the transferability between this takeaway in the context of data re-sampling to the context of data filling may not be immediately apparent, here's a way I like to think about it: \n",
    "\n",
    "* Imagine you are imputing missing values by averging the value of the data points two nearest neighbors - since the resulting point is an average of two existing points in the dataset, in a way, *you are increasing the sensitivity of your analysis to changes in those two neighbors.* \n",
    " \n",
    "* And this logic applies to exogenous data fills too - populating missing values dials up the sensitivity of your analysis from 0 with respect to a certain once-missing point to some non-zero sensitivity: an $\\infty$\\% increase! \n",
    "\n",
    "When it comes to data continuity, there are no hard and fast about how you should do things - whether you should fill or omit gaps, whether you should use an endogenous or exogenous fill method, and what precise technique you should use to execute that fill. And there are no easy ways to know whether and how what you're doing in the data processing stage will meaningfully impact your analysis. The best advice I can offer you is to: (1) prioritize logical soundness and consistency; and (2) just try things out! Data is meant to be explored. \n",
    "\n",
    "Before we wrap up the workshop, let's see data sourcing and data continuity work together to define another critical aspect of real-life, messy data - data timeliness! On to Chapter 3! "
   ]
  },
  {
   "cell_type": "markdown",
   "metadata": {},
   "source": [
    "## 2.6. *Chapter Takeaways*"
   ]
  },
  {
   "cell_type": "markdown",
   "metadata": {},
   "source": [
    "1. For a general systemization, data remediation strategies can first be classifed as either *data gap omission* or *data gap filling*, and data gap filling techniques can further be divided into **endogenous** and **exogenous** fill methods. \n",
    "\n",
    "2. Exogenous fill techniques are often associated with the need for resampling or mis-alignment of original & filling data points, while endogenous fill techniques demand consideration as to the appropriate scope and method of interpolation—use of either type should be accompanied by intelligent, intentional design and consistency with relevant dataset structure/attributes. \n",
    "\n",
    "3. How a given fill method will impact downstream analysis for a project is dependent both on the data source being used and the context in which the fill method is being employed. However, as some guiding principles: \n",
    "\n",
    "   * Data augmentation protocols (like upsampling) can strengthen pre-existing biases/relationships by assuming in-period consistency; while\n",
    "  \n",
    "   * Data compression protocols (like downsampling, filling via local means, medians, etc.) can dampen changes in and outliers of a signal. "
   ]
  }
 ],
 "metadata": {
  "kernelspec": {
   "display_name": "Python 3.9.12 ('base')",
   "language": "python",
   "name": "python3"
  },
  "language_info": {
   "codemirror_mode": {
    "name": "ipython",
    "version": 3
   },
   "file_extension": ".py",
   "mimetype": "text/x-python",
   "name": "python",
   "nbconvert_exporter": "python",
   "pygments_lexer": "ipython3",
   "version": "3.9.12"
  },
  "orig_nbformat": 4,
  "vscode": {
   "interpreter": {
    "hash": "16c684165a00eba53f696e92e1de76bb4a10a33402bb31cdf5ab4f07210fc261"
   }
  }
 },
 "nbformat": 4,
 "nbformat_minor": 2
}
