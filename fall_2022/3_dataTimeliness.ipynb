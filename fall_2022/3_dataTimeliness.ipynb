{
 "cells": [
  {
   "cell_type": "markdown",
   "metadata": {},
   "source": [
    "# Chapter 3 - Data Timeliness"
   ]
  },
  {
   "cell_type": "markdown",
   "metadata": {},
   "source": [
    "<a target=\"_blank\" href=\"https://colab.research.google.com/github/roflauren-roflauren/GearUp-MessyData/blob/main/fall_2022/3_dataTimeliness.ipynb\">\n",
    "  <img src=\"https://colab.research.google.com/assets/colab-badge.svg\" alt=\"Open In Colab\"/>\n",
    "</a>"
   ]
  },
  {
   "cell_type": "markdown",
   "metadata": {},
   "source": [
    "![timeliness](./imgs/timeliness.png)"
   ]
  },
  {
   "cell_type": "markdown",
   "metadata": {},
   "source": [
    "## *Chapter preview*"
   ]
  },
  {
   "cell_type": "markdown",
   "metadata": {},
   "source": [
    "### Learning objectives\n",
    "\n",
    "- [ ] Define data timeliness and identify data timeliness practices.\n",
    "\n",
    "- [ ] Contextualize data timeliness as an intersection of prior data robustness dimensions. \n",
    "\n",
    "*Key question:* When is data present-ness important, and how do we manufacture it when not readily available? "
   ]
  },
  {
   "cell_type": "markdown",
   "metadata": {},
   "source": [
    "### Chapter prerequisites: Python imports"
   ]
  },
  {
   "cell_type": "markdown",
   "metadata": {},
   "source": [
    "No coding (or associated imports) is required for this chapter."
   ]
  },
  {
   "cell_type": "markdown",
   "metadata": {},
   "source": [
    "## 3.0. Defining \"data timeliness\""
   ]
  },
  {
   "cell_type": "markdown",
   "metadata": {},
   "source": [
    "As a final consideration, let's briefly discuss data timeliness: \n",
    "\n",
    "Data timeliness refers to the **proximity** of utilized data to the present moment and/or relevant analysis and projections. \n",
    "\n",
    "In general (can you think of exceptions?), more timely data is preferred; e.g., an NLP analysis on the most promient topics in 1970's highschool science textbooks should avoid use of a text corpus of 1950's textbooks. \n",
    "\n",
    "*Note: The following discussion of data timeliness is most relevant to time series data. Limited applicability to other types of data should be noted.*"
   ]
  },
  {
   "cell_type": "markdown",
   "metadata": {},
   "source": [
    "#### *DISCUSSION 1: TYPES OF DATA TIMELINESS PRACTICES*"
   ]
  },
  {
   "cell_type": "markdown",
   "metadata": {},
   "source": [
    "Data timeliness practices can broadly be divided into two categories: \n",
    "\n",
    "1. *assessing* data timeliness; and \n",
    "\n",
    "2. *constructing* data timeliness.\n",
    "\n",
    "The former category, while important, is mostly an exercise in identifying the structural qualities of potential datasets and is highly related to data sourcing and continuity; e.g., \n",
    "\n",
    "- Do you opt for data resource A or data resource B when resource B is more reputable but less timely? \n",
    "\n",
    "- Is it better to use data resource X or data resource Y when resource Y is more timely but also subject to more frequent data gaps? \n",
    "\n",
    "Assessing data timeliness is usually a qualitative, ad hoc practice, so there are limited hard-and-fast rules to apply when selecting between more or less timely datasets. \n",
    "\n",
    "However, constructing data timeliness for a given data resource is a means to mitigate some potential tradeoffs associated with using that resource — and it's what we'll be discussing next!"
   ]
  },
  {
   "cell_type": "markdown",
   "metadata": {},
   "source": [
    "## 3.1. Constructing data timeliness "
   ]
  },
  {
   "cell_type": "markdown",
   "metadata": {},
   "source": [
    "Consider the applications of your project are research - are you trying to build a time-sensitive indicator? Derive a key statistic to motivate decisions? Make a near real-time prediction? \n",
    "\n",
    "In such scenarios, data timeliness is especially crucial. Utilizing data resources that are frequently updated is a must. But, if such data resources do not exist, timeliness can be *constructed:* \n",
    "\n",
    "* For instance, consider GDP. The most accurate GDP data is published a quarter after the relevant point of measurement (e.g., final 2021 Q3 measurements are published at the end of 2021 Q4).\n",
    "\n",
    "* If official advance measurements weren't published (though they are), you could construct your own by estimating GDP from a more timely data resource; e.g., credit card spending. \n",
    "\n",
    "Constructing a more timely estimate in this way is essentially an exercise in identifying a leading indicator and quantifying its relationship with your metric of interest:\n",
    "\n",
    "\n",
    "![leading](./imgs/leading_indicator.png)\n",
    "\n",
    "*Leading indicators predict changes in a given signal.*"
   ]
  },
  {
   "cell_type": "markdown",
   "metadata": {},
   "source": [
    "And best of all, this exercise is one we already have familiarity with! \n",
    "\n",
    "* Selecting and sourcing an indicator is an iteration of the *data sourcing* process; and\n",
    "   \n",
    "* Quantifying the relationship between the indicator and metric of interest is a type of present-moment *data (dis)continuity* remediation. "
   ]
  },
  {
   "cell_type": "markdown",
   "metadata": {},
   "source": [
    "## 3.2. *Chapter Takeaways*"
   ]
  },
  {
   "cell_type": "markdown",
   "metadata": {},
   "source": [
    "If you want to develop experience with all of the practices reviewed in this workshop—data sourcing, data continuity, and data timeliness—attempting to construct your own timely estimate of GDP data is highly recommended!\n",
    "\n",
    "Otherwise, this chapter concludes the initial GearUp workshop materials! Stay posted for more workshops from SSDS, and please [schedule a consult with SSDS](https://library.stanford.edu/research/software-and-services-data-science/schedule-consulting-appointment-contact-us) to further explore data best practices or for any other of your data science needs. Thank you 😊!"
   ]
  }
 ],
 "metadata": {
  "kernelspec": {
   "display_name": "Python 3.9.12 ('base')",
   "language": "python",
   "name": "python3"
  },
  "language_info": {
   "codemirror_mode": {
    "name": "ipython",
    "version": 3
   },
   "file_extension": ".py",
   "mimetype": "text/x-python",
   "name": "python",
   "nbconvert_exporter": "python",
   "pygments_lexer": "ipython3",
   "version": "3.9.12"
  },
  "vscode": {
   "interpreter": {
    "hash": "16c684165a00eba53f696e92e1de76bb4a10a33402bb31cdf5ab4f07210fc261"
   }
  }
 },
 "nbformat": 4,
 "nbformat_minor": 2
}
