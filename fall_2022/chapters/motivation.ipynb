{
 "cells": [
  {
   "cell_type": "markdown",
   "metadata": {},
   "source": [
    "# Chapter 0 - Why do we need robust data? \n",
    "\n",
    "<div>\n",
    "<img src=\"../imgs/mind_the_gap.png\" width=\"750\"/>\n",
    "<figcaption><em>Sometimes, data gaps aren't this obvious.</em></figcaption>\n",
    "<div>"
   ]
  },
  {
   "cell_type": "markdown",
   "metadata": {},
   "source": [
    "## What's the deal with data? \n",
    "\n",
    "Before we start exploring how to wrangle real-life, messy data, it's key to understand why we would want to do so. Motivating the need for robust data can help us make decisions on how to generate, process, and interpret data. \n",
    "\n",
    "Nowadays, we often hear stories of analysis gone awry. Misapplication of cutting-edge technologies is all too common (e.g., machine learning's [reproducibility crisis](https://www.wired.com/story/machine-learning-reproducibility-crisis/)), but proper analytic techniques implemented in the context of flawed data can also lead to faulty conclusions throughout a research pipeline. \n",
    "\n",
    "Data can be flawed in many ways. A particularly salient example of data flaws are *biased datasets*. Some of the most common biases you'll find in data include: \n",
    "\n",
    "- Selection bias \n",
    "  - Ex: a test population not being representative of the whole by excluding a key minority group.\n",
    "- Historical bias \n",
    "  - Ex: NLP word embedding models replicating gender-biased analogies like 'man::doctor, woman::nurse' due to historical disparities in opportunity.\n",
    "- Survivorship bias \n",
    "  - Ex: evaluating performance of hedge funds from 1990 to 2010 - only those hedge which still exist in 2010 will be present, which already implies a certain degree of monetary sucess.\n",
    "- Availability bias \n",
    "  - Ex: anytime we use a convenient data source instead of the best one.\n",
    "- Outlier bias \n",
    "  - Ex: employing summary statistics which mask or are overly-sensitive to outliers to make conclusions and drive decisions.\n",
    "\n",
    "For more on data bias: \n",
    "1. [Types of Biases in Data](https://towardsdatascience.com/types-of-biases-in-data-cafc4f2634fb)\n",
    "2. [Statistical Bias Types explained](https://data36.com/statistical-bias-types-explained/)\n",
    "3. [Fairness in Machine Learning](https://developers.google.com/machine-learning/crash-course/fairness/types-of-bias)\n",
    "\n",
    "Data bias is just one of many ways a dataset can lack robustness. But, before we learn how to create robust datasets, we need to define what robust data is."
   ]
  },
  {
   "cell_type": "markdown",
   "metadata": {},
   "source": [
    "## Defining robust data \n",
    "\n",
    "While the need for quality data may be apparent, what attributes such data would possess is not immediately obvious. \n",
    "\n",
    "What would an \"ideal\" dataset look like to you? How would you collect it? \n",
    "\n",
    "[comment]: <> (Break for Zoom discussion)"
   ]
  },
  {
   "cell_type": "markdown",
   "metadata": {},
   "source": [
    "<div>\n",
    "<img src=\"../imgs/datacollection.png\" width=\"750\"/>\n",
    "<div>"
   ]
  },
  {
   "cell_type": "markdown",
   "metadata": {},
   "source": [
    "When we look to describe the robustness of a dataset, it can be useful to think about what that data will be used for. Data may be used to: \n",
    "\n",
    "- Run experiments\n",
    "- Validate hypotheses\n",
    "- Draw inferences\n",
    "- Make decisions\n",
    "\n",
    "etc. These usages are all common and critical applications of data, and they all share a foundational element: they employ or rely on *data analysis.* \n",
    "\n",
    "Then, when we think about data robustness, it can be useful to think about it as being \"robust to analysis\" or not. When we define data robustness this way, are there additional ideal dataset qualities you can think of?\n",
    "\n",
    "[comment]: <> (Break for Zoom discussion)"
   ]
  },
  {
   "cell_type": "markdown",
   "metadata": {},
   "source": [
    "## A working definition \n",
    "\n",
    "Ultimately, the exact definition of robust data are going to be dependent on your field of research and/or your particular application. However, some key considerations in any defintion include: \n",
    "\n",
    "- Data sourcing (which can lead to biased data, as previously dicussed)\n",
    "- Data continuity \n",
    "- Data timeliness \n",
    "\n",
    "In this workshop, we're going to be exploring how each one of these considerations can impact the creation and analysis of US GDP (**G**ross **D**omestic **P**roduct) data. For some quick interactive definitions of these terms, take a look at the code blocks below. Otherwise, feel free to move onto the next chapter to learn some more about GDP and typical GDP data before jumping in. \n",
    "\n",
    "[comment]: <> (Allow time for code block running before moving onto the next chapter)"
   ]
  },
  {
   "cell_type": "markdown",
   "metadata": {},
   "source": []
  }
 ],
 "metadata": {
  "kernelspec": {
   "display_name": "Python 3.10.6 64-bit",
   "language": "python",
   "name": "python3"
  },
  "language_info": {
   "name": "python",
   "version": "3.10.6"
  },
  "orig_nbformat": 4,
  "vscode": {
   "interpreter": {
    "hash": "de65b0f014eaa4e91eb08470e9da2c68e352502ee239b0d825d97d29c2332a57"
   }
  }
 },
 "nbformat": 4,
 "nbformat_minor": 2
}
