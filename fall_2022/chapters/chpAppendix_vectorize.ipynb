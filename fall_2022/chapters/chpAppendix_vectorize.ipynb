{
 "cells": [
  {
   "cell_type": "markdown",
   "metadata": {},
   "source": [
    "## Appendix: Optimizing data filling via Vectorization \n",
    "\n",
    "<div>\n",
    "<img src=\"../imgs/vectorization.png\" width=\"500\"/>\n",
    "<figcaption><em>If you're too busy to read the chapter, this is basically it!</em></figcaption>\n",
    "<div>"
   ]
  },
  {
   "cell_type": "markdown",
   "metadata": {},
   "source": [
    "### ***PREFACE:***\n",
    "\n",
    "In our running examples with GDP data, we've typically dealt with datasets that are fairly small by data science standards (~1000 rows or less). \n",
    "\n",
    "Modern personal machines and shared computing resources (like Stanford's [Sherlock](https://www.sherlock.stanford.edu/)) are ridiculously powerful, and they can quickly chew through almost any code that you write - even if it has zero optimization.\n",
    "\n",
    "But what happens if you're dealing with truly massive datasets with hundreds of thousands of rows? With such datasets, code runtime can actually become a constraint on research progression and completion if processing scripts are written suboptimally.\n",
    "\n",
    "Although the defintion of optimal code and the processing of writing it varies with context, here we're going to learn a technique that can be applied in many situations: *vectorization.*"
   ]
  },
  {
   "cell_type": "markdown",
   "metadata": {},
   "source": [
    "### ***DISCUSSION 1:***\n",
    "\n",
    "A natural first question to ask is, *what is vectorizing/vectorization?* You may have heard of vectors before in a mathematics class, where vectors are a series of ordered values like this: [3, 2, 5] or [4, 7, 11, 8]. \n",
    "\n",
    "In computer science, vectorization is a technique related to the mathematical definition of a vector - it's the process of converting an algorithm from a scalar implementation (which performs operations on, at most, a pair of operands at once) to a vectorized one (which performs operations on a series of values at once). For a quick example: \n",
    "\n",
    "The processing of a scalar implementation of the instruction, \"add two to every element in this list,\" would look like: \n",
    "\n",
    "$$input: [3, 2, 5] → [3 + 2 = 5, 2, 5] → [5, 2 + 2 = 4, 5] → [5, 4, 5 + 2 = 7] → output: [5, 4, 7]$$\n",
    "\n",
    "while the processing of a vectorized implementation of the same instruction would look like: \n",
    "\n",
    "$$input: [3, 2, 5] → [3 + 2 = 5, 2 + 2 = 4, 5 + 2 = 7] → output: [5, 4, 7]$$\n",
    "\n",
    "(where different processors in your machine carry out the '+2' instruction on each element concurrently.)\n",
    "\n",
    "If the previous example makes sense to you, congratulations! You understand vectorization. Feel free to come up with your own quicker working definition (mine is, \"make computer do same thing to many things at same time instead of on things one-by-one.\" "
   ]
  },
  {
   "cell_type": "markdown",
   "metadata": {},
   "source": [
    "### ***DISCUSSION 2:***\n",
    "\n",
    "In Python, (almost) any looped operation can be vectorized, but why do we need vectorization in the first place? \n",
    "\n",
    "<div>\n",
    "<img src=\"../imgs/pythonloop.png\" width=\"500\"/>\n",
    "<div>"
   ]
  },
  {
   "cell_type": "markdown",
   "metadata": {},
   "source": [
    "\n",
    "While loops are a wonderful and flexible programatic idiom, they're also inherently slow due to the **dynamically typed nature of Python.** What does this mean? Let's take a look in the context of executing a program:\n",
    "\n",
    "When you execute a program in Python, Python:\n",
    "\n",
    "* First goes line-by-line through your code;\n",
    "\n",
    "* Compiles it into a machine-readable version of itself called bytecod*; and\n",
    "\n",
    "* Then this bytecode is executed to actually run the program. \n",
    "\n",
    "Suppose your code has a block where you loop over and perform some operation on the elements in a list. As Python is dynamically typed, *it does not know the type of the objects present in the list until it accesses each element.*"
   ]
  },
  {
   "cell_type": "code",
   "execution_count": null,
   "metadata": {},
   "outputs": [],
   "source": [
    "# nothing about the variable name 'a' denotes the type of the contained value. it could be: \n",
    "a = 5\n",
    "print(type(a)) # an int\n",
    "\n",
    "a = \"vectorization rocks!\" \n",
    "print(type(a)) # a string \n",
    "\n",
    "a = dict({\"vectorization\" : \"rocks!\"})\n",
    "print(type(a)) # a dictionary of strings"
   ]
  },
  {
   "cell_type": "markdown",
   "metadata": {},
   "source": [
    "For any object in Python, the typing information is stored in the the object itself. Therefore, for each iteration in the loop, Python has to perform a series of overhead operations (like determining element type, resolving scope, checking for invalid operations, etc.) until it can carry out the actual operation you instructed it to. As you might imagine, repeatedly performing these overhead operations on massive datasets results in a significantly increased runtime. "
   ]
  },
  {
   "cell_type": "markdown",
   "metadata": {},
   "source": [
    "*A quick aside:* A **statically typed** programming language like C avoids this recurring overhead cost by compelling programmers to explicitly denote the type of every object you use. But, these languages come with their own drawbacks. For example, if two external libraries provide functionality for the same concept with differently-typed implementations, library users will have to provide their own translation layer to allow the two libraries to interoperate. In Python, no/few such interoperability issues arise:"
   ]
  },
  {
   "cell_type": "code",
   "execution_count": 26,
   "metadata": {},
   "outputs": [
    {
     "name": "stdout",
     "output_type": "stream",
     "text": [
      "The conductor says: [1 2 3 4]\n",
      "And then: [5 6 7 8]\n",
      "And the band goes: 🎶🎷🎶! 🎶🎹🎶! 🎶🎻🎶!\n"
     ]
    }
   ],
   "source": [
    "# both pandas and numpy implement an array-type collection\n",
    "import pandas as pd\n",
    "import numpy as np \n",
    "\n",
    "# instantiating a numpy array and a pandas Series: \n",
    "a = np.array([1, 2, 3, 4])\n",
    "b = pd.Series([5, 6, 7, 8])\n",
    "\n",
    "# we can use both array variables at the same time, with no confusion from Python!\n",
    "print(\"The conductor says: \" + str(a))\n",
    "print(\"And then: \" + str(b.values))\n",
    "print(\"And the band goes: 🎶🎷🎶! 🎶🎹🎶! 🎶🎻🎶!\")"
   ]
  },
  {
   "cell_type": "markdown",
   "metadata": {},
   "source": [
    "### ***DISCUSSION 3:***\n",
    "\n",
    "As we continue to run through our list of interrogatives, we've learned the *what* and *why* of vectorization - now it's time to learn the *when!* \n",
    "\n",
    "If you recall, we earlier learned that almost any looped operation in Python can be vectorized. To understand the exceptions, we can first classify all looped operations into two types: \n",
    "\n",
    "1. Order-dependent operations; and\n",
    "\n",
    "2. Order-independent operations. \n",
    "\n",
    "As the names suggest, the required order (or lack thereof) of the iterations of a looped operation determines its eligibility for vectorization. Consider the following example: "
   ]
  },
  {
   "cell_type": "code",
   "execution_count": 20,
   "metadata": {},
   "outputs": [
    {
     "name": "stdout",
     "output_type": "stream",
     "text": [
      "After imputing the 1994 data point:[(1990, 45), (1991, 46), (1992, 48), (1993, 52), (1994, 48), (1995, 55), (1996, 60), (1997, 63), (1999, 67)]\n",
      "After imputing the 1998 data point:[(1990, 45), (1991, 46), (1992, 48), (1993, 52), (1994, 48), (1995, 55), (1996, 60), (1997, 63), (1998, 56), (1999, 67)]\n",
      "Average % increase in GDP: 3.94\n"
     ]
    }
   ],
   "source": [
    "# suppose we have a Anthony-Land GDP dataset with some discontinuities: \n",
    "gdp_data = [(1990, 45), (1991, 46), (1992, 48), (1993, 52), (1995, 55), (1996, 60), (1997, 63), (1999, 67)] # data for the years 1994 and 1998 are missing! \n",
    "\n",
    "# if we want to calculate average % increase in gdp from 1990-1999, we have to fill these gaps first! \n",
    "#   fill method: gdp_X = avg. of past four years' GDP measurements. \n",
    "\n",
    "# 1994 data fill: \n",
    "gdp_data.insert(4, (1994, round((gdp_data[0][1] + gdp_data[1][1] + gdp_data[2][1] + gdp_data[3][1])/4))) \n",
    "print(\"After imputing the 1994 data point:\" + str(gdp_data))\n",
    "\n",
    "# 1998 data fill: \n",
    "gdp_data.insert(8, (1998, round((gdp_data[4][1] + gdp_data[5][1] + gdp_data[6][1] + gdp_data[7][1])/4)))\n",
    "print(\"After imputing the 1998 data point:\" + str(gdp_data))\n",
    "\n",
    "# avg % increase in gdp: \n",
    "percent_increase = []\n",
    "for i in range(len(gdp_data)): \n",
    "    if i != 0: percent_increase.append((gdp_data[i][1] - gdp_data[i-1][1])/gdp_data[i][1])\n",
    "\n",
    "print (\"Average % increase in GDP: \" + str(round(sum(percent_increase)/len(percent_increase), 4) * 100))"
   ]
  },
  {
   "cell_type": "markdown",
   "metadata": {},
   "source": [
    "What if we computed filled the two data points in reverse-order? "
   ]
  },
  {
   "cell_type": "code",
   "execution_count": 21,
   "metadata": {},
   "outputs": [
    {
     "name": "stdout",
     "output_type": "stream",
     "text": [
      "After imputing the 1998 data point:[(1990, 45), (1991, 46), (1992, 48), (1993, 52), (1995, 55), (1996, 60), (1997, 63), (1998, 58), (1999, 67)]\n",
      "After imputing the 1994 data point:[(1990, 45), (1991, 46), (1992, 48), (1993, 52), (1994, 48), (1995, 55), (1996, 60), (1997, 63), (1998, 58), (1999, 67)]\n",
      "Average % increase in GDP: 4.04\n"
     ]
    }
   ],
   "source": [
    "# same data: \n",
    "gdp_data = [(1990, 45), (1991, 46), (1992, 48), (1993, 52), (1995, 55), (1996, 60), (1997, 63), (1999, 67)] # data for the years 1994 and 1998 are missing! \n",
    "\n",
    "# same fill method: gdp_X = avg. of past four years' GDP measurements. \n",
    "\n",
    "# 1998 data fill: \n",
    "gdp_data.insert(7, (1998, round((gdp_data[3][1] + gdp_data[4][1] + gdp_data[5][1] + gdp_data[6][1])/4)))\n",
    "print(\"After imputing the 1998 data point:\" + str(gdp_data))\n",
    "\n",
    "# 1994 data fill: \n",
    "gdp_data.insert(4, (1994, round((gdp_data[0][1] + gdp_data[1][1] + gdp_data[2][1] + gdp_data[3][1])/4))) \n",
    "print(\"After imputing the 1994 data point:\" + str(gdp_data))\n",
    "\n",
    "# avg % increase in gdp: \n",
    "percent_increase = []\n",
    "for i in range(len(gdp_data)): \n",
    "    if i != 0: percent_increase.append((gdp_data[i][1] - gdp_data[i-1][1])/gdp_data[i][1])\n",
    "\n",
    "print (\"Average % increase in GDP: \" + str(round(sum(percent_increase)/len(percent_increase), 4) * 100))"
   ]
  },
  {
   "cell_type": "markdown",
   "metadata": {},
   "source": [
    "A-ha! As you can see, reversing the order that the datapoints were filled in does change the final resulting figure. This is because filling the 1994 data point first makes a 1994 GDP value available as a sample datapoint for imputing the 1998 GDP value, whereas reversing the order of imputation does not. \n",
    "\n",
    "As such, the operation we just performed is order-dependent (i.e., the final result is contingent upon the order in which any sub-operations are performed) and ineligible for vectorization. Reason being, *when an operation is vectorized, Python provides no constraints on the order in which the sub-operations are carried out.*"
   ]
  },
  {
   "cell_type": "markdown",
   "metadata": {},
   "source": [
    "<div>\n",
    "<img src=\"../imgs/analogy.png\" width=\"500\"/>\n",
    "<figcaption><em>Vectorized operations are to sets, as scalar looped operations are to lists!</em></figcaption>\n",
    "<div><br>\n",
    "\n",
    "Expanding upon our \"add 2 to every element in this list\" example from before, suppose our input now was much longer: $[3, 2, 5, 4, 6, 11, 14, 8, 1, 37, ... (100,000 \\text{ more numbers}) ..., 24, 2].$ Since our computer likely does not have enough processing units to add 2 to every element concurrently, it'll perform the vectorized operation in chunks. We can't guarantee that the first chunk of say, 1000 inputs, coincides with the first 1000 elements in the list. \n",
    "\n",
    "But, in cases like these, where the final result will be independent of the order of the sub-operations, this random chunking is totally fine! And for that reason, we say *order-independent* operations can be vectorized. \n",
    "\n",
    "*Note:* Determining order-independence (or lack thereof) for any particular operation is a nonstandardized task, but reference to other objects being changed by the same loop is a usually a good sign that order-dependence is present. When in doubt, work with a subset of your data and try switching up the processing order of the loop! Does the result change? "
   ]
  },
  {
   "cell_type": "markdown",
   "metadata": {},
   "source": [
    "### ***DISCUSSION 4:***\n",
    "\n",
    "Now that we've understood the theory, it's time to tackle the practice! Here are the relevant tools:\n",
    "\n",
    "* *Libraries:*\n",
    "  * Pandas - the premier Python package for importing, wrangling, and manipulating tabular data. \n",
    "  * NumPy - Python's fundamental package for scientific computing, but useful for vectorization due to its vectorization-optimized ndarray. <br></br>\n",
    "\n",
    "* *Timer:*\n",
    "  * %timeit - in IPython and Jupyter Notebooks, simply call the magic command '%timeit' suffixed with a function name, and Python will repeatedly run and time the function's execution to generate runtime statistics. <br></br>\n",
    "\n",
    "* *Other useful resources (not used here):*\n",
    "  * line_profiler - an external magic command (requires pip install) which offers a more verbose runtime analysis, including line-by-line hit counts, time per hit, and % total time spent on a line. \n",
    "  * Cython - yet another external magic command which converts Python code into more loop-friendly C code and supports use of C functions and declaring C types. \n",
    "\n",
    "(*Note on magic commands:* Magic commands are those suffixed by the '%' symbol in IPython or Jupyter Notebooks. If you're using Python through a local installation or IDE, packaged versions of the same tools exist for your import and use.)"
   ]
  },
  {
   "cell_type": "markdown",
   "metadata": {},
   "source": [
    "### ***CODING EXERCISE:***\n",
    "\n",
    "With our tools in hand, let's go try some vectorization! "
   ]
  },
  {
   "cell_type": "code",
   "execution_count": 1,
   "metadata": {},
   "outputs": [],
   "source": [
    "# required imports: \n",
    "import pandas as pd            # use: data intake and wranglnig\n",
    "import numpy as np             # use: computing and data structures\n",
    "import os                      # use: file access and management \n",
    "\n",
    "# our sample data: \n",
    "datasets_dir = os.path.dirname(os.getcwd()) + os.sep + 'sample_datasets' + os.sep \n",
    "song_df = pd.read_csv(datasets_dir + 'unpopular_songs.csv' , encoding='utf-8')"
   ]
  },
  {
   "cell_type": "markdown",
   "metadata": {},
   "source": [
    "For our vectorization exercises, we're going to be taking a quick break from GDP data and instead we'll be using [this dataset](https://www.kaggle.com/datasets/estienneggx/spotify-unpopular-songs?resource=download) which contains information about more than 10,000 of the most unpopular songs on Spotify. This information includes the track name, artist, ID, and more subjective measures like danceability, energy, etc. "
   ]
  },
  {
   "cell_type": "code",
   "execution_count": 2,
   "metadata": {},
   "outputs": [
    {
     "name": "stdout",
     "output_type": "stream",
     "text": [
      "   danceability  energy  key  loudness  mode  speechiness  acousticness  \\\n",
      "0         0.530   0.770    4    -6.633     0       0.0389         0.284   \n",
      "1         0.565   0.730    1    -6.063     1       0.0730         0.365   \n",
      "2         0.427   0.546    4    -8.727     1       0.0849         0.539   \n",
      "3         0.421   0.531    7    -5.516     1       0.0262         0.706   \n",
      "4         0.537   0.804    8    -7.378     0       0.1570         0.379   \n",
      "\n",
      "   instrumentalness  liveness  valence    tempo  duration_ms  explicit  \\\n",
      "0          0.501000     0.744    0.623  120.144       225696     False   \n",
      "1          0.000000     0.237    0.511  130.026       158093     False   \n",
      "2          0.015200     0.368    0.435   78.345       167262     False   \n",
      "3          0.000208     0.110    0.383   85.080       236832     False   \n",
      "4          0.000489     0.323    0.543  139.950       239400     False   \n",
      "\n",
      "   popularity       track_name  track_artist                track_id  \n",
      "0           2       No Regrets  James Reeder  6f2c4a9lNx8aowZJngv7cJ  \n",
      "1           2        Wild Life  James Reeder  3fTs52jsDzSuVLsifxNKO8  \n",
      "2           2            Fangs  James Reeder  6NPafqavrv0icaIHMQnXDy  \n",
      "3           2      Afterburner  James Reeder  3vGmhxveURgmlZStvo0uc1  \n",
      "4           2  Hellfire Rising  James Reeder  4O2qRbfCHzMMgfbw9DBdGf  \n"
     ]
    },
    {
     "data": {
      "text/html": [
       "<div>\n",
       "<style scoped>\n",
       "    .dataframe tbody tr th:only-of-type {\n",
       "        vertical-align: middle;\n",
       "    }\n",
       "\n",
       "    .dataframe tbody tr th {\n",
       "        vertical-align: top;\n",
       "    }\n",
       "\n",
       "    .dataframe thead th {\n",
       "        text-align: right;\n",
       "    }\n",
       "</style>\n",
       "<table border=\"1\" class=\"dataframe\">\n",
       "  <thead>\n",
       "    <tr style=\"text-align: right;\">\n",
       "      <th></th>\n",
       "      <th>danceability</th>\n",
       "      <th>energy</th>\n",
       "      <th>key</th>\n",
       "      <th>loudness</th>\n",
       "      <th>mode</th>\n",
       "      <th>speechiness</th>\n",
       "      <th>acousticness</th>\n",
       "      <th>instrumentalness</th>\n",
       "      <th>liveness</th>\n",
       "      <th>valence</th>\n",
       "      <th>tempo</th>\n",
       "      <th>duration_ms</th>\n",
       "      <th>popularity</th>\n",
       "    </tr>\n",
       "  </thead>\n",
       "  <tbody>\n",
       "    <tr>\n",
       "      <th>count</th>\n",
       "      <td>10877.000000</td>\n",
       "      <td>10877.000000</td>\n",
       "      <td>10877.000000</td>\n",
       "      <td>10877.000000</td>\n",
       "      <td>10877.000000</td>\n",
       "      <td>10877.000000</td>\n",
       "      <td>10877.000000</td>\n",
       "      <td>10877.000000</td>\n",
       "      <td>10877.000000</td>\n",
       "      <td>10877.000000</td>\n",
       "      <td>10877.000000</td>\n",
       "      <td>1.087700e+04</td>\n",
       "      <td>10877.000000</td>\n",
       "    </tr>\n",
       "    <tr>\n",
       "      <th>mean</th>\n",
       "      <td>0.572519</td>\n",
       "      <td>0.549771</td>\n",
       "      <td>5.223315</td>\n",
       "      <td>-11.359059</td>\n",
       "      <td>0.640986</td>\n",
       "      <td>0.137965</td>\n",
       "      <td>0.354163</td>\n",
       "      <td>0.232943</td>\n",
       "      <td>0.212137</td>\n",
       "      <td>0.464579</td>\n",
       "      <td>117.827552</td>\n",
       "      <td>2.055782e+05</td>\n",
       "      <td>3.078974</td>\n",
       "    </tr>\n",
       "    <tr>\n",
       "      <th>std</th>\n",
       "      <td>0.203501</td>\n",
       "      <td>0.257469</td>\n",
       "      <td>3.620319</td>\n",
       "      <td>6.788808</td>\n",
       "      <td>0.479733</td>\n",
       "      <td>0.160087</td>\n",
       "      <td>0.340914</td>\n",
       "      <td>0.369040</td>\n",
       "      <td>0.190303</td>\n",
       "      <td>0.273150</td>\n",
       "      <td>31.193596</td>\n",
       "      <td>1.067631e+05</td>\n",
       "      <td>4.007018</td>\n",
       "    </tr>\n",
       "    <tr>\n",
       "      <th>min</th>\n",
       "      <td>0.000000</td>\n",
       "      <td>0.000020</td>\n",
       "      <td>0.000000</td>\n",
       "      <td>-51.808000</td>\n",
       "      <td>0.000000</td>\n",
       "      <td>0.000000</td>\n",
       "      <td>0.000000</td>\n",
       "      <td>0.000000</td>\n",
       "      <td>0.000000</td>\n",
       "      <td>0.000000</td>\n",
       "      <td>0.000000</td>\n",
       "      <td>4.693000e+03</td>\n",
       "      <td>0.000000</td>\n",
       "    </tr>\n",
       "    <tr>\n",
       "      <th>25%</th>\n",
       "      <td>0.442000</td>\n",
       "      <td>0.379000</td>\n",
       "      <td>2.000000</td>\n",
       "      <td>-13.796000</td>\n",
       "      <td>0.000000</td>\n",
       "      <td>0.038400</td>\n",
       "      <td>0.036500</td>\n",
       "      <td>0.000000</td>\n",
       "      <td>0.099300</td>\n",
       "      <td>0.238000</td>\n",
       "      <td>92.996000</td>\n",
       "      <td>1.511520e+05</td>\n",
       "      <td>1.000000</td>\n",
       "    </tr>\n",
       "    <tr>\n",
       "      <th>50%</th>\n",
       "      <td>0.602000</td>\n",
       "      <td>0.569000</td>\n",
       "      <td>5.000000</td>\n",
       "      <td>-9.450000</td>\n",
       "      <td>1.000000</td>\n",
       "      <td>0.058900</td>\n",
       "      <td>0.233000</td>\n",
       "      <td>0.000133</td>\n",
       "      <td>0.129000</td>\n",
       "      <td>0.468000</td>\n",
       "      <td>117.141000</td>\n",
       "      <td>1.975220e+05</td>\n",
       "      <td>2.000000</td>\n",
       "    </tr>\n",
       "    <tr>\n",
       "      <th>75%</th>\n",
       "      <td>0.730000</td>\n",
       "      <td>0.745000</td>\n",
       "      <td>9.000000</td>\n",
       "      <td>-6.726000</td>\n",
       "      <td>1.000000</td>\n",
       "      <td>0.188000</td>\n",
       "      <td>0.657000</td>\n",
       "      <td>0.517000</td>\n",
       "      <td>0.268000</td>\n",
       "      <td>0.685000</td>\n",
       "      <td>138.934000</td>\n",
       "      <td>2.444280e+05</td>\n",
       "      <td>3.000000</td>\n",
       "    </tr>\n",
       "    <tr>\n",
       "      <th>max</th>\n",
       "      <td>0.986000</td>\n",
       "      <td>1.000000</td>\n",
       "      <td>11.000000</td>\n",
       "      <td>3.108000</td>\n",
       "      <td>1.000000</td>\n",
       "      <td>0.962000</td>\n",
       "      <td>0.996000</td>\n",
       "      <td>1.000000</td>\n",
       "      <td>0.999000</td>\n",
       "      <td>0.995000</td>\n",
       "      <td>239.500000</td>\n",
       "      <td>3.637277e+06</td>\n",
       "      <td>18.000000</td>\n",
       "    </tr>\n",
       "  </tbody>\n",
       "</table>\n",
       "</div>"
      ],
      "text/plain": [
       "       danceability        energy           key      loudness          mode  \\\n",
       "count  10877.000000  10877.000000  10877.000000  10877.000000  10877.000000   \n",
       "mean       0.572519      0.549771      5.223315    -11.359059      0.640986   \n",
       "std        0.203501      0.257469      3.620319      6.788808      0.479733   \n",
       "min        0.000000      0.000020      0.000000    -51.808000      0.000000   \n",
       "25%        0.442000      0.379000      2.000000    -13.796000      0.000000   \n",
       "50%        0.602000      0.569000      5.000000     -9.450000      1.000000   \n",
       "75%        0.730000      0.745000      9.000000     -6.726000      1.000000   \n",
       "max        0.986000      1.000000     11.000000      3.108000      1.000000   \n",
       "\n",
       "        speechiness  acousticness  instrumentalness      liveness  \\\n",
       "count  10877.000000  10877.000000      10877.000000  10877.000000   \n",
       "mean       0.137965      0.354163          0.232943      0.212137   \n",
       "std        0.160087      0.340914          0.369040      0.190303   \n",
       "min        0.000000      0.000000          0.000000      0.000000   \n",
       "25%        0.038400      0.036500          0.000000      0.099300   \n",
       "50%        0.058900      0.233000          0.000133      0.129000   \n",
       "75%        0.188000      0.657000          0.517000      0.268000   \n",
       "max        0.962000      0.996000          1.000000      0.999000   \n",
       "\n",
       "            valence         tempo   duration_ms    popularity  \n",
       "count  10877.000000  10877.000000  1.087700e+04  10877.000000  \n",
       "mean       0.464579    117.827552  2.055782e+05      3.078974  \n",
       "std        0.273150     31.193596  1.067631e+05      4.007018  \n",
       "min        0.000000      0.000000  4.693000e+03      0.000000  \n",
       "25%        0.238000     92.996000  1.511520e+05      1.000000  \n",
       "50%        0.468000    117.141000  1.975220e+05      2.000000  \n",
       "75%        0.685000    138.934000  2.444280e+05      3.000000  \n",
       "max        0.995000    239.500000  3.637277e+06     18.000000  "
      ]
     },
     "execution_count": 2,
     "metadata": {},
     "output_type": "execute_result"
    }
   ],
   "source": [
    "# a quick view into our data: \n",
    "print(song_df.head(5))\n",
    "\n",
    "# some summary statistics:\n",
    "song_df.describe()"
   ]
  },
  {
   "cell_type": "markdown",
   "metadata": {},
   "source": [
    "Although we could evaluate the performance of vectorization techniques just on data access and retrieval times, let's do something a little more involved. We're going to define a silly function that accesses a bunch of columns in our dataframe, performs some computations, and spits out some output: "
   ]
  },
  {
   "cell_type": "code",
   "execution_count": 8,
   "metadata": {},
   "outputs": [],
   "source": [
    "def anthony_score(danceability, energy, loudness, mode, tempo, speechiness): \n",
    "    # can the music replace coffee?:\n",
    "    caffeine_subscore = danceability * 0.3 + energy * 0.7\n",
    "\n",
    "    # loud is nice but worse for my ears:\n",
    "    eardrum_health = loudness/2  \n",
    "\n",
    "    # i like FAST songs:\n",
    "    vibe_subscore = (240 - tempo)/240 + mode/2 # and a bonus if they're in the major key! \n",
    "\n",
    "    # music without talking belongs in elevators: \n",
    "    talk_subscore = (speechiness + 12)/14 \n",
    "\n",
    "    # return the anthony score (proprietary stuff!): \n",
    "    return caffeine_subscore * 0.4 - eardrum_health * 0.15 + vibe_subscore * 0.25 + talk_subscore * 0.2 "
   ]
  },
  {
   "cell_type": "markdown",
   "metadata": {},
   "source": [
    "Let's establish a baseline: how quickly do things run when we naively loop through the data? "
   ]
  },
  {
   "cell_type": "markdown",
   "metadata": {},
   "source": [
    "##### **1. Looping with ```iterrows()```:**"
   ]
  },
  {
   "cell_type": "code",
   "execution_count": 9,
   "metadata": {},
   "outputs": [
    {
     "name": "stdout",
     "output_type": "stream",
     "text": [
      "786 ms ± 34.9 ms per loop (mean ± std. dev. of 7 runs, 1 loop each)\n"
     ]
    }
   ],
   "source": [
    "%%timeit # this is how you invoke the timeit magic command!\n",
    "\n",
    "anthony_scores = []\n",
    "\n",
    "# to loop through a dataframe, we can use the iterrows() function which returns a loopable (Index, Series) tuple: \n",
    "for index, row in song_df.iterrows(): \n",
    "    anthony_scores.append(anthony_score(row['danceability'], row['energy'], row['loudness'], row['mode'], row['tempo'], row['speechiness']))\n",
    "\n",
    "song_df['anthony_score'] = anthony_scores"
   ]
  },
  {
   "cell_type": "markdown",
   "metadata": {},
   "source": [
    "As you can see, things are pretty slow - at least half a second for each call of the function. We're not doing any particularly sophisticated when we access dataframe rows via the loop, so imagine the possible runtimes if we were! Let's try to speed things up."
   ]
  },
  {
   "cell_type": "markdown",
   "metadata": {},
   "source": [
    "##### **2. Better looping with ```apply()```:**\n",
    "\n",
    "```apply()``` is a Pandas built-in which allows you to apply a function along a specified axis (row or column). "
   ]
  },
  {
   "cell_type": "code",
   "execution_count": 10,
   "metadata": {},
   "outputs": [
    {
     "name": "stdout",
     "output_type": "stream",
     "text": [
      "350 ms ± 34 ms per loop (mean ± std. dev. of 7 runs, 1 loop each)\n"
     ]
    }
   ],
   "source": [
    "%%timeit\n",
    "\n",
    "# documentation on using apply(): https://pandas.pydata.org/docs/reference/api/pandas.DataFrame.apply.html\n",
    "song_df['anthony_score'] = song_df.apply(lambda row: anthony_score(row['danceability'], row['energy'], row['loudness'], row['mode'], row['tempo'], row['speechiness']), axis=1)"
   ]
  },
  {
   "cell_type": "markdown",
   "metadata": {},
   "source": [
    "As we can see, it's typically more efficient than ```iterrows()``` due to some under-the-hood optimizations with how ```apply()``` and ```iterrows()``` retrieve elements from a dataframe, but it still requires looping through rows. However, it can be a good option when your desired functionality is difficult to vectorize. "
   ]
  },
  {
   "cell_type": "markdown",
   "metadata": {},
   "source": [
    "And for those of you who want to keep score: \n",
    "\n",
    "<center>\n",
    "\n",
    "| **Method**         | **Avg. single runtime (ms)** | **Marginal improvement**  | **Absolute improvement** |\n",
    "|--------------------|------------------------------|---------------------------|--------------------------|\n",
    "| iterrows() looping | 786                          | -                         | -                        |\n",
    "| apply() looping    | 350                          | 2.18x                     | 2.18x                    |\n",
    "\n",
    "</center>"
   ]
  },
  {
   "cell_type": "markdown",
   "metadata": {},
   "source": [
    "##### **3. Basic vectorization:**\n",
    "\n",
    "In Pandas, the basic units of data storage are: \n",
    "\n",
    "* Series: a one-dimensional array with axis labels\n",
    "  \n",
    "* DataFrame: a 2-dimensional array with labeled axes (rows and columns)\n",
    "\n",
    "As such, many built-in Pandas functions are designed to operate directly on arrays rather than scalars—making them very conducive to being and faster when vectorized! How much faster? Let's see!  "
   ]
  },
  {
   "cell_type": "code",
   "execution_count": 12,
   "metadata": {},
   "outputs": [
    {
     "name": "stdout",
     "output_type": "stream",
     "text": [
      "1.83 ms ± 352 µs per loop (mean ± std. dev. of 7 runs, 1000 loops each)\n"
     ]
    }
   ],
   "source": [
    "%%timeit\n",
    "\n",
    "# for simple functions, vectorizing is as easy as calling the function on arrays of values rather than individual ones: \n",
    "song_df['anthony_score'] = anthony_score(song_df['danceability'], song_df['energy'], song_df['loudness'], song_df['mode'], song_df['tempo'], song_df['speechiness'])"
   ]
  },
  {
   "cell_type": "markdown",
   "metadata": {},
   "source": [
    "Our updated scoreboard:"
   ]
  },
  {
   "cell_type": "markdown",
   "metadata": {},
   "source": [
    "<center>\n",
    "\n",
    "| **Method**           | **Avg. single runtime (ms)** | **Marginal improvement**  | **Absolute improvement** |\n",
    "|----------------------|------------------------------|---------------------------|--------------------------|\n",
    "| iterrows() looping   | 786                          | -                         | -                        |\n",
    "| apply() looping      | 350                          | 2.18x                     | 2.18x                    |\n",
    "| pandas vectorization | 1.83                         | 191.26x                   | 429.51x                  |\n",
    "</center>"
   ]
  },
  {
   "cell_type": "markdown",
   "metadata": {},
   "source": [
    "##### **4. Vectorization with NumPy:**\n",
    "\n",
    "With just the base-level Pandas vectorization, we're achieving some serious speed (nearly a 500x improvement). But believe it or not, we can get even faster! \n",
    "\n",
    "How so? With the help of NumPy data structures! \n",
    "\n",
    "Of interest to us are **ndarray**s, NumPy's version of your classic array. Under the hood, the NumPy operations executed on these arrays are actually written in optimized, pre-compiled C code (one such optimization: known typings! C is a statically-type lanugage). Performing vectorized operations on NumPy arrays can cut down on the pre-execution overhead even Pandas must conduct (like Series-wise indexing, type checking, etc.)"
   ]
  },
  {
   "cell_type": "markdown",
   "metadata": {},
   "source": [
    "You can call the ```.values``` attribute on a Pandas Series or DataFrame to obtain its NumPy representation, and pass this to your vectorized functionality like so: "
   ]
  },
  {
   "cell_type": "code",
   "execution_count": 13,
   "metadata": {},
   "outputs": [
    {
     "name": "stdout",
     "output_type": "stream",
     "text": [
      "548 µs ± 100 µs per loop (mean ± std. dev. of 7 runs, 1000 loops each)\n"
     ]
    }
   ],
   "source": [
    "%%timeit\n",
    "\n",
    "# for simple functions, vectorizing is as easy as calling the function on arrays of values rather than individual ones: \n",
    "song_df['anthony_score'] = anthony_score(song_df['danceability'].values, song_df['energy'].values, song_df['loudness'].values, song_df['mode'].values, song_df['tempo'].values, song_df['speechiness'].values)"
   ]
  },
  {
   "cell_type": "markdown",
   "metadata": {},
   "source": [
    "Updating our scoreboard one last time: \n",
    "\n",
    "<center>\n",
    "\n",
    "| **Method**           | **Avg. single runtime (ms)** | **Marginal improvement**  | **Absolute improvement** |\n",
    "|----------------------|------------------------------|---------------------------|--------------------------|\n",
    "| iterrows() looping   | 786                          | -                         | -                        |\n",
    "| apply() looping      | 350                          | 2.18x                     | 2.18x                    |\n",
    "| pandas vectorization | 1.83                         | 191.26x                   | 429.51x                  |\n",
    "| vect. with ndarrays  | 0.548                        | 3.34x                     | 1434.31x                 |\n",
    "</center>"
   ]
  },
  {
   "cell_type": "markdown",
   "metadata": {},
   "source": [
    "### ***DISCUSSION 5:***\n",
    "\n",
    "If you leave this chapter with one conclusion, I hope it's that vectorization can make programs run really, really fast, and therefore it's worth looking into!\n",
    "\n",
    "Before you get started though, here are some important qualifications to keep in mind before you start adding ```.values()``` to all of your Pandas DataFrames: "
   ]
  },
  {
   "cell_type": "markdown",
   "metadata": {},
   "source": [
    "##### ***Vectorization frameworks:***\n",
    "\n",
    "Broadly speaking, there are two implementation frameworks being referenced when we say \"vectorize X:\" \n",
    "\n",
    "* Framework 1 (which I call the \"built-in's implementation\") is what we saw in the previous coding exercise. It consists of passing vectorized *inputs* to functions which can already handle such inputs as the program in question will utilize package built-in operations designed to process arrays as inputs (i.e., the operators are *overloaded* - having multiple definitions to accord with multiple types of inputs). \n",
    "\n",
    "* Framework 2 (which I call the \"custom implementation\") is what you may have to do more frequently as the functionality you are seeking to vectorize becomes more complex. In these situations, you will have to write your own functions which accept array inputs and process them by creatively using built-in (but not overloaded) functions offered by packages like NumPy or writing your own efficient operation functions. \n",
    "\n",
    "Framework 2 is almost always going to be more unwiedly and time-consuming, but it may become unavoidable as your processing becomes more sophisticated and your data diverges from purely numerics. Still, I would always try to make Framework 1 work first - vectorization is a well-developed practice and you'll likely be able to find some resource online seeking to accomplish the same generic task as you. "
   ]
  },
  {
   "cell_type": "markdown",
   "metadata": {},
   "source": [
    "##### ***Vectorization with non-numeric data:***\n",
    "\n",
    "Vectorization is (usually) most easily implemented in the context of numerical data, but can be adapted to non-numeric data types as well. Here's a quick example: "
   ]
  },
  {
   "cell_type": "code",
   "execution_count": 9,
   "metadata": {},
   "outputs": [],
   "source": [
    "import random as rd \n",
    "rd.seed(345)\n",
    "\n",
    "# wouldn't it be great if everything were named after me? this function makes it so it is! \n",
    "def anthony_ify(song_name): \n",
    "    # chop that song title up! \n",
    "    song_name_words = song_name.split()\n",
    "\n",
    "    # pick a random word and replace it with \"anthony\"\n",
    "    idx = rd.randint(0, len(song_name_words) - 1)\n",
    "    song_name_words[idx] = \"anthony\"\n",
    "\n",
    "    # string'em back together and return it! \n",
    "    better_song_name = ' '.join(song_name_words)\n",
    "\n",
    "    return better_song_name"
   ]
  },
  {
   "cell_type": "code",
   "execution_count": 10,
   "metadata": {},
   "outputs": [
    {
     "name": "stdout",
     "output_type": "stream",
     "text": [
      "Original song name: Space || Improved song name: anthony\n",
      "Original song name: Valse Reveuse || Improved song name: anthony Reveuse\n",
      "Original song name: Ocean Sounds Storm || Improved song name: anthony Sounds Storm\n"
     ]
    }
   ],
   "source": [
    "# let's see what my function does: \n",
    "test_nums = [1004, 7942, 8282]     # fun fact! these are korean texting codes (1004 -> angel, 7942 -> just friends, 8282 -> quick quick!)\n",
    "\n",
    "# all of the song names in our dataset as a list \n",
    "song_name_list = song_df['track_name'].tolist()\n",
    "\n",
    "# testing it out! \n",
    "for num in test_nums: \n",
    "    print(\"Original song name: {og_name} || Improved song name: {anthony_name}\".format(\n",
    "            og_name = song_name_list[num], \n",
    "            anthony_name = anthony_ify(song_name_list[num]))\n",
    "        )"
   ]
  },
  {
   "cell_type": "code",
   "execution_count": 11,
   "metadata": {},
   "outputs": [
    {
     "name": "stdout",
     "output_type": "stream",
     "text": [
      "167 ms ± 33.7 ms per loop (mean ± std. dev. of 7 runs, 10 loops each)\n"
     ]
    }
   ],
   "source": [
    "%%timeit\n",
    "\n",
    "# string processing is difficult to vectorize, so we'll use apply here: \n",
    "song_df['anthony_name'] = song_df.apply(lambda row: anthony_ify(row['track_name']), axis=1)"
   ]
  },
  {
   "cell_type": "code",
   "execution_count": 21,
   "metadata": {},
   "outputs": [
    {
     "name": "stdout",
     "output_type": "stream",
     "text": [
      "0         anthony Regrets\n",
      "1            Wild anthony\n",
      "2                 anthony\n",
      "3                 anthony\n",
      "4          anthony Rising\n",
      "               ...       \n",
      "10872      anthony n Toes\n",
      "10873    anthony Thoughts\n",
      "10874         anthony Bug\n",
      "10875             anthony\n",
      "10876             anthony\n",
      "Name: anthony_name, Length: 10877, dtype: object\n"
     ]
    }
   ],
   "source": [
    "# let's see the results:\n",
    "print(song_df['anthony_name'])"
   ]
  },
  {
   "cell_type": "markdown",
   "metadata": {},
   "source": [
    "Since we were using ```.apply()``` (which is often your best bet with complex string processing), the operation wasn't blazingly fast. We could have also tried to speed things up by decomposing our desired functionality into smaller processes, some of which could have been handled by Pandas built-in's: "
   ]
  },
  {
   "cell_type": "code",
   "execution_count": 37,
   "metadata": {},
   "outputs": [],
   "source": [
    "# this func. just replaces a word at a given index with anthony: \n",
    "def replace(words, index): \n",
    "    words[index] = \"anthony\"\n",
    "    return words  "
   ]
  },
  {
   "cell_type": "code",
   "execution_count": 38,
   "metadata": {},
   "outputs": [
    {
     "name": "stdout",
     "output_type": "stream",
     "text": [
      "196 ms ± 30.4 ms per loop (mean ± std. dev. of 7 runs, 10 loops each)\n"
     ]
    }
   ],
   "source": [
    "%%timeit \n",
    "\n",
    "# divide up each song name into its constituent words and compute word counts: \n",
    "song_df['name_words'] = song_df['track_name'].str.split()\n",
    "song_df['num_words']  = song_df['name_words'].str.len()\n",
    "\n",
    "word_counts = song_df['num_words'].tolist()\n",
    "# generate a new list with a random index for each word count: \n",
    "rand_idxs = [rd.randint(0, wc - 1) for wc in word_counts]\n",
    "song_df['rand_idxs'] = rand_idxs # add this list back to our dataframe\n",
    "\n",
    "# we end up using .apply() anyway, but do less in the apply()'ed function: \n",
    "song_df['name_words_w_anthony'] = song_df.apply(lambda row: replace(row['name_words'], row['rand_idxs']), axis=1)\n",
    "\n",
    "# reconstruct the new song name from their substring lists: \n",
    "song_df['anthony_name'] = [' '.join(map(str, l)) for l in song_df['name_words_w_anthony']]"
   ]
  },
  {
   "cell_type": "markdown",
   "metadata": {},
   "source": [
    "But as you can see, all this decomposition and attempted use of built-in's didn't offer any noticeable performance gain. So, while vectorization is possible with non-numeric data types, be aware that your mileage and benefits may vary. And speaking of which..."
   ]
  },
  {
   "cell_type": "markdown",
   "metadata": {},
   "source": [
    "##### ***Benefits of and improving looping:***"
   ]
  },
  {
   "cell_type": "markdown",
   "metadata": {},
   "source": [
    "With all this talk of the runtime benefits of vectorization, you may be tempted to vectorize every loop you see. However, vectorization is not always faster than looping, especially when: \n",
    "\n",
    "1. Your data is small (say, < 1000 rows); \n",
    "2. You're dealing with ```object```/mixed ```dtypes```; and/or\n",
    "3. You're using ```str```/regex functions. \n",
    "\n",
    "And even if vectorization will likely lead to a faster operation, you may still opt for looping due to the function being difficult to vectorize, desire to avoid vectorization's memory overhead, etc. In such cases, here are two tools you can use to improve the efficiency of your looping: \n",
    "\n",
    "1. [*List comprehensions*](https://realpython.com/list-comprehension-python/) - list comprehensions are a Python construct designed to create lists through ```for``` loops. Their general syntax is ```[f(x) for x in seq]```. List comprehensions are surprisingly flexible - and performant (they are *the* optimized iterative mechanism for list creation in Python)! \n",
    "\n",
    "2. [*Cython*](https://cython.readthedocs.io/en/latest/src/tutorial/cython_tutorial.html) - available as both a package and a magic command, Cython is a module which attempts to convert and compile your Python code as C code. C code is often faster than Python code due to C's statically-typed nature, and C usually being compiled (as opposed to interpreted).\n",
    "\n",
    "So, don't forget about the humble loop! Depending on how you use it, it may be more powerful than it initially seems!"
   ]
  },
  {
   "cell_type": "markdown",
   "metadata": {},
   "source": [
    "### ***CONCLUSION:***\n",
    "\n",
    "Before diving into the data processing stage of your project, please remember - vectorization is a wonderful and powerful tool, but every tool has its time and place. \n",
    "\n",
    "Before you try to vectorize any functionality, ask yourself *\"does this really need to be vectorized?\"* If it doesn't, you could waste more time trying to create an optimized implementation than if you just ran a slightly slower for-loop in the first place! \n",
    "\n",
    "But if you are going to vectorize, here's a (slightly modified) concise approach offered by Sofia Heisler in her [Pycon 2017 address](https://www.youtube.com/watch?v=HN5d490_KKk):\n",
    "\n",
    "1. Avoid loops, if called for and if you can. \n",
    "2. If you must loop, use ```.apply()``` or a list comprehension, not iteration functions. \n",
    "3. If you must ```.apply()``` or write a list comprehension, use Cython to make it faster. \n",
    "4. Vectorization is usually better than scalar operations. \n",
    "5. Vector operations on NumPy's ```ndarray```s are more efficient than on native Pandas Series. \n",
    "\n",
    "Did you enjoy making your code run faster? Add to your coding toolbox with some MOPS (**M**aking **O**ur **P**rograms **S**calable) - a future SSDS workshop on memory and runtime optimizations when working with massive datasets in Pandas! Stay posted for a release date. \n",
    "\n",
    "<div>\n",
    "<img src=\"../imgs/panda.gif\" width=\"500\"/>\n",
    "<figcaption><em>Was this chapter all a set-up so I could include this GIF? You'll never know...</em></figcaption>\n",
    "<div><br>"
   ]
  }
 ],
 "metadata": {
  "kernelspec": {
   "display_name": "Python 3.9.12 ('base')",
   "language": "python",
   "name": "python3"
  },
  "language_info": {
   "codemirror_mode": {
    "name": "ipython",
    "version": 3
   },
   "file_extension": ".py",
   "mimetype": "text/x-python",
   "name": "python",
   "nbconvert_exporter": "python",
   "pygments_lexer": "ipython3",
   "version": "3.9.12"
  },
  "orig_nbformat": 4,
  "vscode": {
   "interpreter": {
    "hash": "16c684165a00eba53f696e92e1de76bb4a10a33402bb31cdf5ab4f07210fc261"
   }
  }
 },
 "nbformat": 4,
 "nbformat_minor": 2
}
