{
 "cells": [
  {
   "cell_type": "markdown",
   "metadata": {},
   "source": [
    "## Chapter 1.2.1 - *Deciding between multiple data authors*\n",
    "\n",
    "Look up \"US GDP data\" in your web browser of choice. \n",
    "\n",
    "<div>\n",
    "<img src=\"../imgs/gdp_webquery.png\" width=\"500\"/>\n",
    "<div> \n",
    "<br>\n",
    "\n",
    "How many potential data sources can you find in just a minute? 10? 20? 100? Is one clearly better than the others? Despite looking up 'US GDP data,' are all sources providing you with the same values in their data stores? Which one would you use in what circumstances?\n",
    "\n",
    "In a way, all data sourcing practices are trying to solve this exact problem: reasonably decide between multiple data authors. The issues we'll talk about later in this chapter and others are all, in some way, shape, or form, determined by who the data author is (even if it's yourself) and what decisions they chose to make when collecting and crafting the dataset. \n",
    "\n",
    "For now, let's explore a few different GDP datasets and consider which one we might choose and why:"
   ]
  },
  {
   "cell_type": "markdown",
   "metadata": {},
   "source": [
    "### ***CODING EXERCISE:***"
   ]
  },
  {
   "cell_type": "code",
   "execution_count": 1,
   "metadata": {},
   "outputs": [],
   "source": [
    "# importing some libraries: \n",
    "import os                           # use: file management and access \n",
    "import pandas as pd                 # use: data intake and manipulation "
   ]
  },
  {
   "cell_type": "code",
   "execution_count": 2,
   "metadata": {},
   "outputs": [
    {
     "name": "stdout",
     "output_type": "stream",
     "text": [
      "  Table 2. Contributions to Percent Change in Real Gross Domestic Product  \\\n",
      "0                                               Line                        \n",
      "1                                               Line                        \n",
      "2                                               Line                        \n",
      "3                                                NaN                        \n",
      "4                                                  1                        \n",
      "5                                                NaN                        \n",
      "6                                                  2                        \n",
      "7                                                  3                        \n",
      "8                                                  4                        \n",
      "9                                                  5                        \n",
      "\n",
      "                           Unnamed: 1  Unnamed: 2  Unnamed: 3  Unnamed: 4  \\\n",
      "0                                 NaN     2019.00     2020.00     2021.00   \n",
      "1                                 NaN     2019.00     2020.00     2021.00   \n",
      "2                                 NaN     2019.00     2020.00     2021.00   \n",
      "3      Percent change at annual rate:         NaN         NaN         NaN   \n",
      "4              Gross domestic product        2.30       -3.40        5.70   \n",
      "5  Percentage points at annual rates:         NaN         NaN         NaN   \n",
      "6   Personal consumption expenditures        1.48       -2.55        5.27   \n",
      "7                               Goods        0.71        0.96        2.69   \n",
      "8                       Durable goods        0.30        0.54        1.39   \n",
      "9            Motor vehicles and parts       -0.03        0.08        0.37   \n",
      "\n",
      "                            Unnamed: 5                           Unnamed: 6  \\\n",
      "0  Seasonally adjusted at annual rates  Seasonally adjusted at annual rates   \n",
      "1                                 2018                                 2018   \n",
      "2                                   Q3                                   Q4   \n",
      "3                                  NaN                                  NaN   \n",
      "4                                  1.9                                  0.9   \n",
      "5                                  NaN                                  NaN   \n",
      "6                                 1.79                                 1.16   \n",
      "7                                 0.61                                 0.44   \n",
      "8                                 0.27                                 0.08   \n",
      "9                                 0.01                                -0.03   \n",
      "\n",
      "                            Unnamed: 7                           Unnamed: 8  \\\n",
      "0  Seasonally adjusted at annual rates  Seasonally adjusted at annual rates   \n",
      "1                                 2019                                 2019   \n",
      "2                                   Q1                                   Q2   \n",
      "3                                  NaN                                  NaN   \n",
      "4                                  2.4                                  3.2   \n",
      "5                                  NaN                                  NaN   \n",
      "6                                 0.43                                 2.37   \n",
      "7                                 0.29                                 1.42   \n",
      "8                                -0.05                                 0.73   \n",
      "9                                -0.37                                 0.19   \n",
      "\n",
      "                            Unnamed: 9  ...  \\\n",
      "0  Seasonally adjusted at annual rates  ...   \n",
      "1                                 2019  ...   \n",
      "2                                   Q3  ...   \n",
      "3                                  NaN  ...   \n",
      "4                                  2.8  ...   \n",
      "5                                  NaN  ...   \n",
      "6                                 2.12  ...   \n",
      "7                                 0.99  ...   \n",
      "8                                 0.58  ...   \n",
      "9                                 0.12  ...   \n",
      "\n",
      "                           Unnamed: 11                          Unnamed: 12  \\\n",
      "0  Seasonally adjusted at annual rates  Seasonally adjusted at annual rates   \n",
      "1                                 2020                                 2020   \n",
      "2                                   Q1                                   Q2   \n",
      "3                                  NaN                                  NaN   \n",
      "4                                 -5.1                                -31.2   \n",
      "5                                  NaN                                  NaN   \n",
      "6                                -4.79                               -24.10   \n",
      "7                                 0.04                                -1.89   \n",
      "8                                -0.89                                 0.01   \n",
      "9                                -0.80                                 0.12   \n",
      "\n",
      "                           Unnamed: 13                          Unnamed: 14  \\\n",
      "0  Seasonally adjusted at annual rates  Seasonally adjusted at annual rates   \n",
      "1                                 2020                                 2020   \n",
      "2                                   Q3                                   Q4   \n",
      "3                                  NaN                                  NaN   \n",
      "4                                 33.8                                  4.5   \n",
      "5                                  NaN                                  NaN   \n",
      "6                                25.51                                 2.26   \n",
      "7                                 9.92                                -0.07   \n",
      "8                                 5.49                                 0.10   \n",
      "9                                 1.89                                 0.06   \n",
      "\n",
      "                           Unnamed: 15                          Unnamed: 16  \\\n",
      "0  Seasonally adjusted at annual rates  Seasonally adjusted at annual rates   \n",
      "1                                 2021                                 2021   \n",
      "2                                   Q1                                   Q2   \n",
      "3                                  NaN                                  NaN   \n",
      "4                                  6.3                                  6.7   \n",
      "5                                  NaN                                  NaN   \n",
      "6                                 7.44                                 7.92   \n",
      "7                                 5.69                                 2.99   \n",
      "8                                 3.50                                 1.01   \n",
      "9                                 1.36                                 0.48   \n",
      "\n",
      "                           Unnamed: 17                          Unnamed: 18  \\\n",
      "0  Seasonally adjusted at annual rates  Seasonally adjusted at annual rates   \n",
      "1                                 2021                                 2021   \n",
      "2                                   Q3                                   Q4   \n",
      "3                                  NaN                                  NaN   \n",
      "4                                  2.3                                  6.9   \n",
      "5                                  NaN                                  NaN   \n",
      "6                                 1.35                                 1.76   \n",
      "7                                -2.21                                 0.28   \n",
      "8                                -2.52                                 0.22   \n",
      "9                                -2.18                                -0.13   \n",
      "\n",
      "                           Unnamed: 19                          Unnamed: 20  \n",
      "0  Seasonally adjusted at annual rates  Seasonally adjusted at annual rates  \n",
      "1                                 2022                                 2022  \n",
      "2                                   Q1                                   Q2  \n",
      "3                                  NaN                                  NaN  \n",
      "4                                 -1.6                                 -0.9  \n",
      "5                                  NaN                                  NaN  \n",
      "6                                 1.24                                 0.70  \n",
      "7                                -0.07                                -1.08  \n",
      "8                                 0.49                                -0.22  \n",
      "9                                 0.44                                -0.02  \n",
      "\n",
      "[10 rows x 21 columns]\n"
     ]
    }
   ],
   "source": [
    "\"\"\" DATA SOURCING: DIFFERENT DATA AUTHORS \"\"\"\n",
    "# when I look up 'US GDP data', the first result is from the Bureau of Economic Advisors (BEA): \n",
    "datasets_dir = os.path.dirname(os.getcwd()) + os.sep + 'sample_datasets' + os.sep \n",
    "bea_data = pd.read_csv(datasets_dir + 'gdp_bea_q2_2022_adv.csv' , encoding='utf-8')\n",
    "\n",
    "# how's it structured? is it usable?\n",
    "print(bea_data.head(10))"
   ]
  },
  {
   "cell_type": "code",
   "execution_count": 3,
   "metadata": {},
   "outputs": [
    {
     "name": "stdout",
     "output_type": "stream",
     "text": [
      "        DATE      GDP\n",
      "0   1/1/1947  243.164\n",
      "1   4/1/1947  245.968\n",
      "2   7/1/1947  249.585\n",
      "3  10/1/1947  259.745\n",
      "4   1/1/1948  265.742\n",
      "5   4/1/1948  272.567\n",
      "6   7/1/1948  279.196\n",
      "7  10/1/1948  280.366\n",
      "8   1/1/1949  275.034\n",
      "9   4/1/1949  271.351\n"
     ]
    }
   ],
   "source": [
    "# I can also find more GDP data through other official-sounding organizations: \n",
    "# e.g., GDP data from the St. Louis Federal Reserve (FRED): \n",
    "fred_data = pd.read_csv(datasets_dir + 'gdp_fred.csv' , encoding='utf-8')\n",
    "print(fred_data.head(10))"
   ]
  },
  {
   "cell_type": "code",
   "execution_count": 4,
   "metadata": {},
   "outputs": [
    {
     "name": "stdout",
     "output_type": "stream",
     "text": [
      "                           Macrotrends Data Download Unnamed: 1 Unnamed: 2  \\\n",
      "0                                                NaN        NaN        NaN   \n",
      "1                                 U.S. GDP 1960-2022        NaN        NaN   \n",
      "2                                                NaN        NaN        NaN   \n",
      "3                                                NaN        NaN        NaN   \n",
      "4  DISCLAIMER AND TERMS OF USE: HISTORICAL DATA I...        NaN        NaN   \n",
      "5  FOR INFORMATIONAL PURPOSES - NOT FOR TRADING P...        NaN        NaN   \n",
      "6  NEITHER MACROTRENDS LLC NOR ANY OF OUR INFORMA...        NaN        NaN   \n",
      "7  FOR ANY DAMAGES RELATING TO YOUR USE OF THE DA...        NaN        NaN   \n",
      "8                                                NaN        NaN        NaN   \n",
      "9                                                NaN        NaN        NaN   \n",
      "\n",
      "  Unnamed: 3  \n",
      "0        NaN  \n",
      "1        NaN  \n",
      "2        NaN  \n",
      "3        NaN  \n",
      "4        NaN  \n",
      "5        NaN  \n",
      "6        NaN  \n",
      "7        NaN  \n",
      "8        NaN  \n",
      "9        NaN  \n"
     ]
    }
   ],
   "source": [
    "# how about GDP data from a random website? here's some from macrotrends.net:\n",
    "macrotrends_data  = pd.read_csv(datasets_dir + 'gdp_macrotrends.csv', encoding='utf-8')\n",
    "print(macrotrends_data.head(10))"
   ]
  },
  {
   "cell_type": "markdown",
   "metadata": {},
   "source": [
    "Do these different data sources look even remotely similar? Despite all being search results for 'US GDP data,' what are some ways that these data sources are different? \n",
    "\n",
    "[comment]: <> (Go into Excel csv's. Have discussion - notable differences: structure, units frequency/time scale, commerical/gov't sourcing, advance/second/third/latest estimate)\n",
    "\n",
    "Among others, a key difference in these data resources is ***usability***. As provided, we can visualize and manipulate the FRED data most easily using code:"
   ]
  },
  {
   "cell_type": "code",
   "execution_count": 5,
   "metadata": {},
   "outputs": [
    {
     "data": {
      "text/plain": [
       "<matplotlib.collections.PathCollection at 0x1b4cc1cc3d0>"
      ]
     },
     "execution_count": 5,
     "metadata": {},
     "output_type": "execute_result"
    },
    {
     "data": {
      "image/png": "[encoded data removed]",
      "text/plain": [
       "<Figure size 640x480 with 1 Axes>"
      ]
     },
     "metadata": {},
     "output_type": "display_data"
    }
   ],
   "source": [
    "import matplotlib.pyplot as plt     # use: custom data visualization \n",
    "\n",
    "# generate a simple scatter plot of the GDP by date: \n",
    "plt.scatter(fred_data['DATE'], fred_data['GDP'])"
   ]
  },
  {
   "cell_type": "code",
   "execution_count": null,
   "metadata": {},
   "outputs": [],
   "source": [
    "# that's a lot of data - how about just the most recent observations? \n",
    "fred_data_subset = fred_data.tail(10)\n",
    "\n",
    "# let's make sure things are a litte more read-able on the x-axis:\n",
    "plt.xticks(rotation = 30, fontsize = 8)\n",
    "plt.scatter(fred_data_subset['DATE'], fred_data_subset['GDP'])"
   ]
  },
  {
   "cell_type": "markdown",
   "metadata": {},
   "source": [
    "### ***DISCUSSION 1:***\n",
    "\n",
    "From this quick exploration and visualization exercise, we can see that the FRED data is a timeseries dataset which appears relatively clean and ready for analysis - it contains only two columns: ```DATE``` and ```GDP```. You might be tempted to just go ahead and run with it. But, for official and/or frequently-used statistics in particular, it's worth taking a step back from usability during the data sourcing process. Why? \n",
    "\n",
    "1. Individuals and groups may publish their own versions of statistics which are usable, but perhaps not official. Using the official source can establish credibility for your research. \n",
    "\n",
    "2. Or, maybe these off-shoot datasets are based on the official version, but have been processed in a meaningful way. \n",
    "\n",
    "    * e.g., the FRED data (found [here](https://fred.stlouisfed.org/series/GDP)) is notated as 'GDP, Billions of Dollars, Seasonally Adjusted Annual Rate'. Maybe this adjustment isn't desirable for your research. <br></br>\n",
    "  \n",
    "3. Particular fields or subjects may have reputable and established datasets that not only can make your research more credible but also easier through the use of existing analytic tools and techniques others have developed for similar research! \n",
    "\n",
    "Point 1 (i.e., using official/licensed data authors for choice statistics) is especially key for social science research (where less direct experimentation and independent data collection may be performed). For US GDP data, a quick web query of *\"Who measures US GDP?\"* informs us that the Bureau of Economic Analysis (BEA) is responsible for its publication while the Bureau of Labor Statistics collects the raw data used for GDP calculation ([source 1](https://www.investopedia.com/ask/answers/031715/how-does-united-states-government-measure-economic-growth.asp#:~:text=The%20U.S.%20government%20collects%20and,GDP%20and%20the%20national%20income.), [source 2](https://www.commerce.gov/data-and-reports/economic-indicators)). "
   ]
  },
  {
   "cell_type": "markdown",
   "metadata": {},
   "source": [
    "### ***DISCUSSION 2:***\n",
    "\n",
    "One of our datasources was the BEA, but it's still a good idea to perform a trace and identify the most base-level resource used to generate each of our potential datasets. After all, multiple or all of them could be re-releases of BEA data, making them equally reputable! For our remaining datasets: \n",
    "\n",
    "* FRED GDP data is co-opted from the [BEA](https://fred.stlouisfed.org/series/GDP#:~:text=NOTES-,Source%3A%20U.S.%20Bureau%20of%20Economic%20Analysis,-Release%3A%20Gross)'s release; and\n",
    "\n",
    "* The GDP data from macrotrends.net is sourced from the [World Bank](https://www.macrotrends.net/countries/USA/united-states/gdp-gross-domestic-product#:~:text=Data%20Source%3A%20World%20Bank), which in turns computes their GDP measures from World Bank and OECD (Organisation for Economic Co-operation and Development) [national accounts data](https://data.worldbank.org/indicator/NY.GDP.MKTP.CD?end=2019&locations=US&start=1990#:~:text=Also%20Show,Details).\n",
    "\n",
    "If you're okay with it, go ahead and trust me that the BEA and World Bank are fairly reputable sources. Now that we've done some initial data exploration and sourcing inspections, let's summarize what we know and return to the original question underlying all data sourcing practices: *which dataset do we choose, and why?* \n",
    "\n",
    "<center>\n",
    "                                                   <strong>Table 1. GDP dataset characteristics</strong>\n",
    "<br><br>\n",
    "\n",
    "| Listed source | Base source     | Collecting organization | Data type       | Timeframe              | Notable features         |\n",
    "|---------------|-----------------|-------------------------|-----------------|------------------------|--------------------------|\n",
    "| BEA           | BEA             | Government              | Cross-sectional | Point-in-time, 2022 Q2 | GDP by sector            |\n",
    "| FRED          | BEA             | Government              | Timeseries      | Annual, 1947-2022      | Seasonally adjusted      | \n",
    "| MacroTrends   | Worldbank, OECD | International Body      | Timeseries      | Annual, 1960-2022      | Add. calcs like % change | \n",
    "\n",
    "</center>"
   ]
  },
  {
   "cell_type": "markdown",
   "metadata": {},
   "source": [
    "### ***DISCUSSION 3:***\n",
    "\n",
    "Considering that all of potential data sources come from similarly reputable authors, which one should we use? And by now, you may have noticed that I've been purposely vague as to what this data will be used for - intentionally, I promise! And that's because, if author credibility is established, which dataset you choose to use *ultimately depends on your specific application.* \n",
    "\n",
    "Perhaps you require a by-sector breakdown of GDP, and would like to opt for the BEA data (which can be transformed into cross-sectional timeseries data, aka panel data, by merging with other datasets). Or, if you just need some numbers to run a quick analysis for your own use, FRED data could be the best. And if you need slightly richer timeseries data, MacroTrends could be the ideal source. \n",
    "\n",
    "Other than original author credibility, here are some other metrics you may consider using when sourcing data: \n",
    "\n",
    "<br>\n",
    "<center>\n",
    "<strong>Figure 1. Data sourcing criteria</strong>\n",
    "<br><br>\n",
    "<img src=\"../imgs/datasource_criteria.svg\" width=\"700\"/>\n",
    "</center> "
   ]
  },
  {
   "cell_type": "markdown",
   "metadata": {},
   "source": [
    "### ***CONCLUSION:***\n",
    "\n",
    "Now you might be asking yourself, source tracebacks and verfication are well and good, but rather time-consuming. If you need to decide between only 3-10 datasets, this case-by-case assessment is feasible, but what if you're starting a project from the ground up? There could be hundreds if not thousands of datasets you need to evaluate. Surely there's a quicker way to do some sort of preliminary filtering of source viability..."
   ]
  }
 ],
 "metadata": {
  "kernelspec": {
   "display_name": "Python 3.10.6 64-bit",
   "language": "python",
   "name": "python3"
  },
  "language_info": {
   "codemirror_mode": {
    "name": "ipython",
    "version": 3
   },
   "file_extension": ".py",
   "mimetype": "text/x-python",
   "name": "python",
   "nbconvert_exporter": "python",
   "pygments_lexer": "ipython3",
   "version": "3.10.6"
  },
  "orig_nbformat": 4,
  "vscode": {
   "interpreter": {
    "hash": "de65b0f014eaa4e91eb08470e9da2c68e352502ee239b0d825d97d29c2332a57"
   }
  }
 },
 "nbformat": 4,
 "nbformat_minor": 2
}
