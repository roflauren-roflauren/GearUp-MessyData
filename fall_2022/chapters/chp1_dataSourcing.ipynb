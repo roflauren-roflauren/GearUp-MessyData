{
 "cells": [
  {
   "cell_type": "markdown",
   "metadata": {},
   "source": [
    "# Chapter 1 - Data Sourcing\n",
    "\n",
    "<div>\n",
    "<img src=\"../imgs/product-proliferation.png\" width=\"750\"/>\n",
    "<figcaption><em>The modern data landscape has so much data...no, really—SO much data. Which data should you use?</em></figcaption>\n",
    "<div>"
   ]
  },
  {
   "cell_type": "markdown",
   "metadata": {},
   "source": [
    "## 1.0. Preface: why source good data? \n",
    "\n",
    "* Analysis for any research project begins with data sourcing; without any data, there's no tests to run, no trends to identify, no hypotheses to validate, etc. \n",
    "\n",
    "* But, the modern data landscape is vast and can be overwhelming—look up \"X + dataset\" for almost topic, and you'll likely find a multitude of resources published by private organizations, government agencies, licensed data vendors, open-source groups, etc. Does it matter whose data you go with? \n",
    "\n",
    "* **Absolutely** — identifying and sourcing quality data is essential to the research process. If conducting analyses is like cooking, sourcing data is like acquiring ingredients—whether you're following a recipe or not, things will likely not turn out well if the base inputs are of poor quality. \n"
   ]
  },
  {
   "cell_type": "markdown",
   "metadata": {},
   "source": [
    "## 1.1. Defining \"data sourcing\"\n",
    "\n",
    "Data sourcing is the process of: \n",
    "\n",
    "* ***finding***; \n",
    "  \n",
    "* ***assessing***; and,\n",
    "  \n",
    "* ***selecting***\n",
    "\n",
    "a data resource to work with. Even for the same statistic, data resources can differ by basic attributes like values, author, purpose and more meta factors like availability, structure, representativeness, etc. \n",
    "\n",
    "Purposeful data sourcing is often overlooked in favor of convenience (i.e., using the first available and/or most popular dataset), but as we'll see, data sourcing decisions determine data attributes—which can ultimately impact downstream analysis. "
   ]
  },
  {
   "cell_type": "markdown",
   "metadata": {},
   "source": [
    "## 1.2. Issues in data sourcing\n",
    "\n",
    "### 1.2.1. *Deciding between multiple data authors*\n",
    "\n",
    "Look up \"US GDP data\" in your web browser of choice. \n",
    "\n",
    "<div>\n",
    "<img src=\"../imgs/gdp_webquery.png\" width=\"500\"/>\n",
    "<div> \n",
    "<br>\n",
    "\n",
    "How many potential data sources can you find in just a minute? 10? 20? 100? Is one clearly better than the others? Despite looking up 'US GDP data,' are all sources providing you with the same values in their data stores? Which one would you use in what circumstances?\n",
    "\n",
    "In a way, all data sourcing practices are trying to solve this exact problem: reasonably decide between multiple data authors. The issues we'll talk about later in this chapter and others are all, in some way, shape, or form, determined by who the data author is (even if it's yourself) and what decisions they chose to make when collecting and crafting the dataset. \n",
    "\n",
    "For now, let's explore a few different GDP datasets and consider which one we might choose and why:"
   ]
  },
  {
   "cell_type": "code",
   "execution_count": 1,
   "metadata": {},
   "outputs": [],
   "source": [
    "# importing some libraries: \n",
    "import os                           # use: file management and access \n",
    "import pandas as pd                 # use: data intake and manipulation "
   ]
  },
  {
   "cell_type": "code",
   "execution_count": 3,
   "metadata": {},
   "outputs": [
    {
     "name": "stdout",
     "output_type": "stream",
     "text": [
      "  Table 2. Contributions to Percent Change in Real Gross Domestic Product  \\\n",
      "0                                               Line                        \n",
      "1                                               Line                        \n",
      "2                                               Line                        \n",
      "3                                                NaN                        \n",
      "4                                                  1                        \n",
      "5                                                NaN                        \n",
      "6                                                  2                        \n",
      "7                                                  3                        \n",
      "8                                                  4                        \n",
      "9                                                  5                        \n",
      "\n",
      "                           Unnamed: 1  Unnamed: 2  Unnamed: 3  Unnamed: 4  \\\n",
      "0                                 NaN     2019.00     2020.00     2021.00   \n",
      "1                                 NaN     2019.00     2020.00     2021.00   \n",
      "2                                 NaN     2019.00     2020.00     2021.00   \n",
      "3      Percent change at annual rate:         NaN         NaN         NaN   \n",
      "4              Gross domestic product        2.30       -3.40        5.70   \n",
      "5  Percentage points at annual rates:         NaN         NaN         NaN   \n",
      "6   Personal consumption expenditures        1.48       -2.55        5.27   \n",
      "7                               Goods        0.71        0.96        2.69   \n",
      "8                       Durable goods        0.30        0.54        1.39   \n",
      "9            Motor vehicles and parts       -0.03        0.08        0.37   \n",
      "\n",
      "                            Unnamed: 5                           Unnamed: 6  \\\n",
      "0  Seasonally adjusted at annual rates  Seasonally adjusted at annual rates   \n",
      "1                                 2018                                 2018   \n",
      "2                                   Q3                                   Q4   \n",
      "3                                  NaN                                  NaN   \n",
      "4                                  1.9                                  0.9   \n",
      "5                                  NaN                                  NaN   \n",
      "6                                 1.79                                 1.16   \n",
      "7                                 0.61                                 0.44   \n",
      "8                                 0.27                                 0.08   \n",
      "9                                 0.01                                -0.03   \n",
      "\n",
      "                            Unnamed: 7                           Unnamed: 8  \\\n",
      "0  Seasonally adjusted at annual rates  Seasonally adjusted at annual rates   \n",
      "1                                 2019                                 2019   \n",
      "2                                   Q1                                   Q2   \n",
      "3                                  NaN                                  NaN   \n",
      "4                                  2.4                                  3.2   \n",
      "5                                  NaN                                  NaN   \n",
      "6                                 0.43                                 2.37   \n",
      "7                                 0.29                                 1.42   \n",
      "8                                -0.05                                 0.73   \n",
      "9                                -0.37                                 0.19   \n",
      "\n",
      "                            Unnamed: 9  ...  \\\n",
      "0  Seasonally adjusted at annual rates  ...   \n",
      "1                                 2019  ...   \n",
      "2                                   Q3  ...   \n",
      "3                                  NaN  ...   \n",
      "4                                  2.8  ...   \n",
      "5                                  NaN  ...   \n",
      "6                                 2.12  ...   \n",
      "7                                 0.99  ...   \n",
      "8                                 0.58  ...   \n",
      "9                                 0.12  ...   \n",
      "\n",
      "                           Unnamed: 11                          Unnamed: 12  \\\n",
      "0  Seasonally adjusted at annual rates  Seasonally adjusted at annual rates   \n",
      "1                                 2020                                 2020   \n",
      "2                                   Q1                                   Q2   \n",
      "3                                  NaN                                  NaN   \n",
      "4                                 -5.1                                -31.2   \n",
      "5                                  NaN                                  NaN   \n",
      "6                                -4.79                               -24.10   \n",
      "7                                 0.04                                -1.89   \n",
      "8                                -0.89                                 0.01   \n",
      "9                                -0.80                                 0.12   \n",
      "\n",
      "                           Unnamed: 13                          Unnamed: 14  \\\n",
      "0  Seasonally adjusted at annual rates  Seasonally adjusted at annual rates   \n",
      "1                                 2020                                 2020   \n",
      "2                                   Q3                                   Q4   \n",
      "3                                  NaN                                  NaN   \n",
      "4                                 33.8                                  4.5   \n",
      "5                                  NaN                                  NaN   \n",
      "6                                25.51                                 2.26   \n",
      "7                                 9.92                                -0.07   \n",
      "8                                 5.49                                 0.10   \n",
      "9                                 1.89                                 0.06   \n",
      "\n",
      "                           Unnamed: 15                          Unnamed: 16  \\\n",
      "0  Seasonally adjusted at annual rates  Seasonally adjusted at annual rates   \n",
      "1                                 2021                                 2021   \n",
      "2                                   Q1                                   Q2   \n",
      "3                                  NaN                                  NaN   \n",
      "4                                  6.3                                  6.7   \n",
      "5                                  NaN                                  NaN   \n",
      "6                                 7.44                                 7.92   \n",
      "7                                 5.69                                 2.99   \n",
      "8                                 3.50                                 1.01   \n",
      "9                                 1.36                                 0.48   \n",
      "\n",
      "                           Unnamed: 17                          Unnamed: 18  \\\n",
      "0  Seasonally adjusted at annual rates  Seasonally adjusted at annual rates   \n",
      "1                                 2021                                 2021   \n",
      "2                                   Q3                                   Q4   \n",
      "3                                  NaN                                  NaN   \n",
      "4                                  2.3                                  6.9   \n",
      "5                                  NaN                                  NaN   \n",
      "6                                 1.35                                 1.76   \n",
      "7                                -2.21                                 0.28   \n",
      "8                                -2.52                                 0.22   \n",
      "9                                -2.18                                -0.13   \n",
      "\n",
      "                           Unnamed: 19                          Unnamed: 20  \n",
      "0  Seasonally adjusted at annual rates  Seasonally adjusted at annual rates  \n",
      "1                                 2022                                 2022  \n",
      "2                                   Q1                                   Q2  \n",
      "3                                  NaN                                  NaN  \n",
      "4                                 -1.6                                 -0.9  \n",
      "5                                  NaN                                  NaN  \n",
      "6                                 1.24                                 0.70  \n",
      "7                                -0.07                                -1.08  \n",
      "8                                 0.49                                -0.22  \n",
      "9                                 0.44                                -0.02  \n",
      "\n",
      "[10 rows x 21 columns]\n"
     ]
    }
   ],
   "source": [
    "\"\"\" DATA SOURCING: DIFFERENT DATA AUTHORS \"\"\"\n",
    "# when I look up 'US GDP data', the first result is from the Bureau of Economic Advisors (BEA): \n",
    "datasets_dir = os.path.dirname(os.getcwd()) + os.sep + 'sample_datasets' + os.sep \n",
    "bea_data = pd.read_csv(datasets_dir + 'gdp_bea_q2_2022_adv.csv' , encoding='utf-8')\n",
    "\n",
    "# how's it structured? is it usable?\n",
    "print(bea_data.head(10))"
   ]
  },
  {
   "cell_type": "code",
   "execution_count": 4,
   "metadata": {},
   "outputs": [
    {
     "name": "stdout",
     "output_type": "stream",
     "text": [
      "        DATE      GDP\n",
      "0   1/1/1947  243.164\n",
      "1   4/1/1947  245.968\n",
      "2   7/1/1947  249.585\n",
      "3  10/1/1947  259.745\n",
      "4   1/1/1948  265.742\n",
      "5   4/1/1948  272.567\n",
      "6   7/1/1948  279.196\n",
      "7  10/1/1948  280.366\n",
      "8   1/1/1949  275.034\n",
      "9   4/1/1949  271.351\n"
     ]
    }
   ],
   "source": [
    "# I can also find more GDP data through other official-sounding organizations: \n",
    "# e.g., GDP data from the St. Louis Federal Reserve (FRED): \n",
    "fred_data = pd.read_csv(datasets_dir + 'gdp_fred.csv' , encoding='utf-8')\n",
    "print(fred_data.head(10))"
   ]
  },
  {
   "cell_type": "code",
   "execution_count": 5,
   "metadata": {},
   "outputs": [
    {
     "name": "stdout",
     "output_type": "stream",
     "text": [
      "                           Macrotrends Data Download Unnamed: 1 Unnamed: 2  \\\n",
      "0                                                NaN        NaN        NaN   \n",
      "1                                 U.S. GDP 1960-2022        NaN        NaN   \n",
      "2                                                NaN        NaN        NaN   \n",
      "3                                                NaN        NaN        NaN   \n",
      "4  DISCLAIMER AND TERMS OF USE: HISTORICAL DATA I...        NaN        NaN   \n",
      "5  FOR INFORMATIONAL PURPOSES - NOT FOR TRADING P...        NaN        NaN   \n",
      "6  NEITHER MACROTRENDS LLC NOR ANY OF OUR INFORMA...        NaN        NaN   \n",
      "7  FOR ANY DAMAGES RELATING TO YOUR USE OF THE DA...        NaN        NaN   \n",
      "8                                                NaN        NaN        NaN   \n",
      "9                                                NaN        NaN        NaN   \n",
      "\n",
      "  Unnamed: 3  \n",
      "0        NaN  \n",
      "1        NaN  \n",
      "2        NaN  \n",
      "3        NaN  \n",
      "4        NaN  \n",
      "5        NaN  \n",
      "6        NaN  \n",
      "7        NaN  \n",
      "8        NaN  \n",
      "9        NaN  \n"
     ]
    }
   ],
   "source": [
    "# how about GDP data from a random website? here's some from macrotrends.net:\n",
    "macrotrends_data  = pd.read_csv(datasets_dir + 'gdp_macrotrends.csv', encoding='utf-8')\n",
    "print(macrotrends_data.head(10))"
   ]
  },
  {
   "cell_type": "markdown",
   "metadata": {},
   "source": [
    "Do these different data sources look even remotely similar? Despite all being search results for 'US GDP data,' what are some ways that these data sources are different? \n",
    "\n",
    "[comment]: <> (Go into Excel csv's. Have discussion - notable differences: structure, units frequency/time scale, commerical/gov't sourcing, advance/second/third/latest estimate)\n",
    "\n",
    "Among others, a key difference in these data resources is ***usability***. As provided, we can visualize and manipulate the FRED data most easily using code:"
   ]
  },
  {
   "cell_type": "code",
   "execution_count": 6,
   "metadata": {},
   "outputs": [
    {
     "data": {
      "text/plain": [
       "<matplotlib.collections.PathCollection at 0x1567d8444c0>"
      ]
     },
     "execution_count": 6,
     "metadata": {},
     "output_type": "execute_result"
    },
    {
     "data": {
      "image/png": "[encoded data removed]",
      "text/plain": [
       "<Figure size 640x480 with 1 Axes>"
      ]
     },
     "metadata": {},
     "output_type": "display_data"
    }
   ],
   "source": [
    "import matplotlib.pyplot as plt     # use: custom data visualization \n",
    "\n",
    "# generate a simple scatter plot of the GDP by date: \n",
    "plt.scatter(fred_data['DATE'], fred_data['GDP'])"
   ]
  },
  {
   "cell_type": "code",
   "execution_count": 7,
   "metadata": {},
   "outputs": [
    {
     "data": {
      "text/plain": [
       "<matplotlib.collections.PathCollection at 0x1567fe2b3d0>"
      ]
     },
     "execution_count": 7,
     "metadata": {},
     "output_type": "execute_result"
    },
    {
     "data": {
      "image/png": "[encoded data removed]",
      "text/plain": [
       "<Figure size 640x480 with 1 Axes>"
      ]
     },
     "metadata": {},
     "output_type": "display_data"
    }
   ],
   "source": [
    "# that's a lot of data - how about just the most recent observations? \n",
    "fred_data_subset = fred_data.tail(10)\n",
    "\n",
    "# let's make sure things are a litte more read-able on the x-axis:\n",
    "plt.xticks(rotation = 30, fontsize = 8)\n",
    "plt.scatter(fred_data_subset['DATE'], fred_data_subset['GDP'])"
   ]
  },
  {
   "cell_type": "markdown",
   "metadata": {},
   "source": [
    "From this quick exploration and visualization exercise, we can see that the FRED data is a timeseries dataset which appears relatively clean and ready for analysis - it contains only two columns: ```DATE``` and ```GDP```. You might be tempted to just go ahead and run with it. But, for official and/or frequently-used statistics in particular, it's worth taking a step back from usability during the data sourcing process. Why? \n",
    "\n",
    "1. Individuals and groups may publish their own versions of statistics which are usable, but perhaps not official. Using the official source can establish credibility for your research. \n",
    "\n",
    "2. Or, maybe these off-shoot datasets are based on the official version, but have been processed in a meaningful way. \n",
    "\n",
    "    * e.g., the FRED data (found [here](https://fred.stlouisfed.org/series/GDP)) is notated as 'GDP, Billions of Dollars, Seasonally Adjusted Annual Rate'. Maybe this adjustment isn't desirable for your research. <br></br>\n",
    "  \n",
    "3. Particular fields or subjects may have reputable and established datasets that not only can make your research more credible but also easier through the use of existing analytic tools and techniques others have developed for similar research! \n",
    "\n",
    "Point 1 (i.e., using official/licensed data authors for choice statistics) is especially key for social science research (where less direct experimentation and independent data collection may be performed). For US GDP data, a quick web query of *\"Who measures US GDP?\"* informs us that the Bureau of Economic Analysis (BEA) is responsible for its publication while the Bureau of Labor Statistics collects the raw data used for GDP calculation ([source 1](https://www.investopedia.com/ask/answers/031715/how-does-united-states-government-measure-economic-growth.asp#:~:text=The%20U.S.%20government%20collects%20and,GDP%20and%20the%20national%20income.), [source 2](https://www.commerce.gov/data-and-reports/economic-indicators)). "
   ]
  },
  {
   "cell_type": "markdown",
   "metadata": {},
   "source": [
    "One of our datasources was the BEA, but it's still a good idea to perform a trace and identify the most base-level resource used to generate each of our potential datasets. After all, multiple or all of them could be re-releases of BEA data, making them equally reputable! For our remaining datasets: \n",
    "\n",
    "* FRED GDP data is co-opted from the [BEA](https://fred.stlouisfed.org/series/GDP#:~:text=NOTES-,Source%3A%20U.S.%20Bureau%20of%20Economic%20Analysis,-Release%3A%20Gross)'s release; and\n",
    "\n",
    "* The GDP data from macrotrends.net is sourced from the [World Bank](https://www.macrotrends.net/countries/USA/united-states/gdp-gross-domestic-product#:~:text=Data%20Source%3A%20World%20Bank), which in turns computes their GDP measures from World Bank and OECD (Organisation for Economic Co-operation and Development) [national accounts data](https://data.worldbank.org/indicator/NY.GDP.MKTP.CD?end=2019&locations=US&start=1990#:~:text=Also%20Show,Details).\n",
    "\n",
    "If you're okay with it, go ahead and trust me that the BEA and World Bank are fairly reputable sources. Now that we've done some initial data exploration and sourcing inspections, let's summarize what we know and return to the original question underlying all data sourcing practices: *which dataset do we choose, and why?* \n",
    "\n",
    "<center>\n",
    "                                                   <strong>Table 1. GDP dataset characteristics</strong>\n",
    "<br><br>\n",
    "\n",
    "| Listed source | Base source     | Collecting organization | Data type       | Timeframe              | Notable features         |\n",
    "|---------------|-----------------|-------------------------|-----------------|------------------------|--------------------------|\n",
    "| BEA           | BEA             | Government              | Cross-sectional | Point-in-time, 2022 Q2 | GDP by sector            |\n",
    "| FRED          | BEA             | Government              | Timeseries      | Annual, 1947-2022      | Seasonally adjusted      | \n",
    "| MacroTrends   | Worldbank, OECD | International Body      | Timeseries      | Annual, 1960-2022      | Add. calcs like % change | \n",
    "\n",
    "</center>"
   ]
  },
  {
   "cell_type": "markdown",
   "metadata": {},
   "source": [
    "Considering that all of potential data sources come from similarly reputable authors, which one should we use? And by now, you may have noticed that I've been purposely vague as to what this data will be used for - intentionally, I promise! And that's because, if author credibility is established, which dataset you choose to use *ultimately depends on your specific application.* \n",
    "\n",
    "Perhaps you require a by-sector breakdown of GDP, and would like to opt for the BEA data (which can be transformed into cross-sectional timeseries data, aka panel data, by merging with other datasets). Or, if you just need some numbers to run a quick analysis for your own use, FRED data could be the best. And if you need slightly richer timeseries data, MacroTrends could be the ideal source. \n",
    "\n",
    "Other than original author credibility, here are some other metrics you may consider using when sourcing data: \n",
    "\n",
    "<br>\n",
    "<center>\n",
    "<strong>Figure 1. Data sourcing criteria</strong>\n",
    "<br><br>\n",
    "<img src=\"../imgs/datasource_criteria.svg\" width=\"700\"/>\n",
    "</center> "
   ]
  },
  {
   "cell_type": "markdown",
   "metadata": {},
   "source": [
    "Now you might be asking yourself, source tracebacks and verfication are well and good, but rather time-consuming. If you need to decide between only 3-10 datasets, this case-by-case assessment is feasible, but what if you're starting a project from the ground up? There could be hundreds if not thousands of datasets you need to evaluate. Surely there's a quicker way to do some sort of preliminary filtering of source viability..."
   ]
  },
  {
   "cell_type": "markdown",
   "metadata": {},
   "source": [
    "### 1.2.2. *Understanding author incentives and purpose* \n",
    "\n",
    "...and wouldn't you believe it, there is! We can consider the research *intended purpose and incentives* of \"generic research entity types.\"\n",
    "\n",
    "Two quick notes before we dive in: \n",
    "\n",
    "1\\. What is a \"generic research entity type?\" Well, it's a (bit of an awkward) name for a type of individual/group that would conduct research and publish data. A non-exhaustive list includes:  \n",
    "  \n",
    "  - **Academic** - students, professors, research aides, organized labs and groups, reserach institutes, etc. \n",
    "\n",
    "  - **Governmental** - state and local governments, individual bureaucrats, federal departments and associations (e.g., Dept. of Defense, NASA), international bodies like the U.N.\n",
    "\n",
    "  - **Commerical** - companies and corporations (espeically advisory companies - e.g.,  management consulting firms)\n",
    "\n",
    "Going forward, I'll refer to these generics as \"reseacher types\" with the caveat that we aren't necessarily referring to individual researchers. Name suggestions for this concept are welcome! \n",
    "\n",
    "2\\. Also, we can certainly do the forthcoming data sourcing practice on a dataset-by-dataset level (and I would encourage you to do so)! \n",
    "\n",
    "  * But, applying this practice in the context of research entity-types rather than specific entities can be a useful way to expedite the data sourcing process, as different entities belonging to the same researcher type can have similar/shared purposes and incentives. \n",
    "\n",
    "Now we're ready to dive in! "
   ]
  },
  {
   "cell_type": "markdown",
   "metadata": {},
   "source": [
    "<div>\n",
    "<img src=\"../imgs/incentives.png\" width=\"500\"/>\n",
    "<div> \n",
    "<br>\n",
    "\n",
    "What does it mean to consider the intended purpose and incentives of a generic entity? For me, it's all about answering two key questions: \n",
    "\n",
    "* To identify an **intended purpose,** I ask myself: *\"How did the person/group/researcher type who published this data want it to be used?\"*\n",
    "\n",
    "* To identify **incentives,** I ask myself: *\"Why did this person/group/researcher type conduct the research that gave rise to this data resource in the first place?*\n",
    "\n",
    "Take a few minutes to brainstorm some potential answers to these questions in the context of researcher types, and then take a look at the following table! \n",
    "\n",
    "<center>\n",
    "                                                   <strong>Table 2. Research type incentives</strong> \n",
    "<br><br>\n",
    "\n",
    "| **Researcher type** | **Researcher sub-type**    | **Potential incentives**                                                  | **Potential intended purposes**                                |\n",
    "|---------------------|----------------------------|---------------------------------------------------------------------------|----------------------------------------------------------------|\n",
    "| Academic            | Professor                  | Boosting reputation, securing tenure, \"scooping\" competitors              | To suggest a causal relationship between ___ and ___           |\n",
    "| Academic            | Student                    | Jockeying for authorship position, ensuring lab employment                | (Commonly aligned with a supervising faculty/lab)              |\n",
    "| Governmental        | Department of Defense      | Lobbying for funding, influencing other dept.'s spending & efforts        | To demonstrate a security vulnerability to ___ from ___        |\n",
    "| Governmental        | U.N.                       | Motivating international sanctions, initiatives, coalition-building, etc. | To coordinate the policies of ___ and ___                      |\n",
    "| Commercial          | Financial Analyst          | Identifying investment opportunities, improving perceived performance     | To encourage/expedite internal or external financial decisions |\n",
    "| Commercial          | Management Consulting Firm | Generating & securing additional clientele through discovered needs       | To be read and create demand for their services                |\n",
    "\n",
    "\n",
    "</center>"
   ]
  },
  {
   "cell_type": "markdown",
   "metadata": {},
   "source": [
    "This is in no way a complete list (where would you make changes? additions? deletions?) - but hopefully it can help you see that researchers may be operating with conscious/unconscious biases when collecting the data that ultimately underpins their research. Then, how should this knowledge impact your data sourcing process? \n",
    "\n",
    "* Always keep in mind that most research (and supporting data) suffers from *publication bias,* or the failure to publish the results of a study on the basis of the direction and/or strength of the study findings. Relatedly, studies can suffer from a *\"newsworthy bias,\"* where individuals only publish research and accompanying data which demonstrates an interesting or notable result, which can already suggest anomalies in the collected data. \n",
    "\n",
    "* Opting for alternate researcher types when there are egregious conflicts on interest (e.g., climate studies data collected by petroleum companies) is a logical first step. Most of the time, maintaining a weak preference for academic & governmental sources is recommended.\n",
    "\n",
    "* More generally, you can select data sources such that the original dataset's intended purpose and related incentives are orthogonal to your current study's purpose; i.e., if you wanted to collect data on non-exercise cancer risk factors, you could think about using the covariates data from another study that proposes a link between cancer risk and being sedentary. "
   ]
  },
  {
   "cell_type": "markdown",
   "metadata": {},
   "source": [
    "Of special note is the fact that for both researcher types and specific researchers within a type, incentives and intended purpose of analogous studies (and their related data) *can change over time* - this is especially important to consider in the context of timeseries analysis. To understand how changing incentives and intended purpose can impact collected data, let's see an example: "
   ]
  },
  {
   "cell_type": "markdown",
   "metadata": {},
   "source": [
    "<div>\n",
    "<img src=\"../imgs/small_business.png\" width=\"500\"/>\n",
    "<div><br>\n",
    "\n",
    "We're going to zoom in on the contribution of portion of national GDP generated by small businesses. Essentially all of the recent studies and available data on small business GDP (SGDP) is spearheaded by one author within one organization, the federal government's Small Business Administration. Here's some info about two reports released by this same author: \n",
    "\n",
    "* [Report 1](http://www.richschwinn.com/index/sgdp_v1.8_SBA.pdf): \n",
    "\n",
    "  * Published: April 2007 \n",
    "  \n",
    "  * Data timeframe: 1998-2004\n",
    "\n",
    "* [Report 2](https://permanent.fdlp.gov/websites/www.sba.gov/advo/research/rs299.pdf): \n",
    "\n",
    "  * Published: December 2017\n",
    "\n",
    "  * Data timeframe: 1998-2014 \n",
    "\n",
    "*(Note: All data used in the following dicussion were sourced from these reports.)*\n",
    "\n",
    "As part of both reports, SGDP as a percentage of GDP (both nominal figures) is calculated. In the overlapping timeframes of the two reports (i.e., 1998-2004), would we expect there to be dramatic differences in the SGDP as a percentage of GDP data? Why? Could incentives and intended purpose changed - how so? \n",
    "\n",
    "Let's take a look with some code: "
   ]
  },
  {
   "cell_type": "code",
   "execution_count": 51,
   "metadata": {},
   "outputs": [],
   "source": [
    "# required imports: \n",
    "import os                           # use: file management and access \n",
    "import numpy as np                  # use: some calculations\n",
    "import pandas as pd                 # use: data intake and manipulation \n",
    "import matplotlib.pyplot as plt     # use: data viz. "
   ]
  },
  {
   "cell_type": "code",
   "execution_count": 85,
   "metadata": {},
   "outputs": [
    {
     "name": "stdout",
     "output_type": "stream",
     "text": [
      "year\n",
      "1998    49.2\n",
      "1999    49.1\n",
      "2000    48.5\n",
      "2001    48.8\n",
      "2002    47.1\n",
      "2003    47.0\n",
      "2004    46.5\n",
      "2005    45.5\n",
      "2006    45.4\n",
      "2007    45.4\n",
      "2008    45.0\n",
      "2009    44.7\n",
      "2010    44.4\n",
      "2011    44.3\n",
      "2012    44.2\n",
      "2013    43.6\n",
      "2014    43.5\n",
      "Name: 2017_report_sgdp_share, dtype: float64\n"
     ]
    }
   ],
   "source": [
    "\"\"\" DATA SOURCING: CHANGING INCENTIVES AND INTENDED PURPOSE \"\"\"\n",
    "# importing the data (index column has year values): \n",
    "datasets_dir = os.path.dirname(os.getcwd()) + os.sep + 'sample_datasets' + os.sep \n",
    "sgdp_data = pd.read_csv(datasets_dir + 'sgdp_sba.csv' , encoding='utf-8', header=0, index_col=0)\n",
    "\n",
    "# 2017 subset of data: \n",
    "print(sgdp_data['2017_report_sgdp_share'])"
   ]
  },
  {
   "cell_type": "code",
   "execution_count": 119,
   "metadata": {},
   "outputs": [
    {
     "data": {
      "image/png": "[encoded data removed]",
      "text/plain": [
       "<Figure size 640x480 with 1 Axes>"
      ]
     },
     "metadata": {},
     "output_type": "display_data"
    }
   ],
   "source": [
    "# some scatter plots of the data: \n",
    "plt.scatter(sgdp_data.index, sgdp_data['2007_report_sgdp_share'], label='2007: SGDP SHARE OF GDP (%)', color='limegreen')\n",
    "plt.scatter(sgdp_data.index, sgdp_data['2017_report_sgdp_share'], label='2017: SGDP SHARE OF GDP (%)', color='blue')\n",
    "\n",
    "# 2007 best fit line: \n",
    "xvals = [1998, 2004]\n",
    "yvals = [sgdp_data.loc[[1998]]['2007_report_sgdp_share'].values[0], sgdp_data.loc[[2004]]['2007_report_sgdp_share'].values[0]]\n",
    "plt.plot(xvals, yvals, linewidth=2, linestyle='--', color='seagreen')\n",
    "\n",
    "# 2017 best fit line: \n",
    "a, b = np.polyfit(sgdp_data.index, sgdp_data['2017_report_sgdp_share'], 1)\n",
    "plt.plot(sgdp_data.index, a*sgdp_data.index + b, linewidth=2, linestyle='--', color='steelblue')\n",
    "\n",
    "# formatting options: \n",
    "plt.title(\"SGDP DATA: 2007 vs. 2017 REPORT\")\n",
    "plt.xlabel(\"Year\"), plt.ylabel(\"SGDP SHARE OF NON-FARM GDP (%)\")\n",
    "plt.legend(loc='upper right')\n",
    "plt.tight_layout()"
   ]
  },
  {
   "cell_type": "markdown",
   "metadata": {},
   "source": [
    "Even from this quick visualization, major discrepancies are apparent: \n",
    "\n",
    "* The 2007 report contained only initial and ending figures for SGDP share as a % of GDP, while the 2017 report offered data points for all years reviewed in the report. \n",
    "\n",
    "* The trend in SGDP share is directionally opposite for the two reports. \n",
    "\n",
    "* The two reports aim to measure the same metric, but have differing figures for their shared years of measurement (1998, 2004). \n",
    "\n",
    "What might be the cause of the lack of granular data in the 2007 report? How about the apparent switch in the trend of SGDP share? Is there reason to suspect a shift in intended purpose and incentives (recall that both reports were sanctioned by the Small Business Administration, and their respective years of publication)?"
   ]
  },
  {
   "cell_type": "markdown",
   "metadata": {},
   "source": [
    "Ultimately, while we aren't here to play whistleblower, in this case and almost all others, it's worth noting that which dataset you elect to use may have great impact on your research results - especially when it comes to multiple data resources claiming to measure the same metric; i.e., suppose you wanted to investigate small business health in the decade before and after the Great Recession. How would which dataset you use impact your results? How so? \n",
    "\n",
    "In short, incentives & intended purposes of research can change across researcher types, for the same researcher type, and even for the same researcher. These changes may not give rise to drastically misreported or conflicting data - but in research, the details matter. So, it's always worth thinking about what incentives and intended purpose can imply for data resources, and your research. "
   ]
  },
  {
   "cell_type": "markdown",
   "metadata": {},
   "source": [
    "### 1.2.3. *Validating data and data generation approaches*\n",
    "\n",
    "The final issue in data sourcing we'll be discussing is the validation of data and its associated dataset generation approach: \n",
    "\n",
    "* A data generation approach is simply the methodology used to collect and compute a given data resource. In a way, this topic is best described as a data sourcing meta-issue since: \n",
    "\n",
    "  * Validating either data itself and/or its generation approach can lend additional credence to a data source (helping you to decide between multiple data authors); and \n",
    "\n",
    "  * Understanding which data generation approach was used and why can be informative as to research incentives and intended purpose. \n",
    "\n",
    "* And just like understanding data author incentives and intended purpose, grappling with this issue can be thought of answering two questions: \n",
    "\n",
    "  * Does the approach this researcher, agency, etc. uses to compute this metric or dataset commonly accepted and reasonable? \n",
    "\n",
    "  * If it is, does this data author provide the necessary data resources and instructions for you to re-generate the associated dataset? (If you do, does your dataset match theirs?) "
   ]
  },
  {
   "cell_type": "markdown",
   "metadata": {},
   "source": [
    "<div>\n",
    "<img src=\"../imgs/maze.png\" width=\"350\"/>\n",
    "<figcaption><em>Just like a maze can have multiple exits, there can be multiple valid ways of generating a dataset!</em></figcaption>\n",
    "<div> "
   ]
  },
  {
   "cell_type": "markdown",
   "metadata": {},
   "source": [
    "Let's explore this topic in the context of GDP data! "
   ]
  },
  {
   "cell_type": "markdown",
   "metadata": {},
   "source": [
    "GDP can be measured in [three different ways](https://www.imf.org/external/pubs/ft/fandd/basics/gdp.htm#:~:text=Theoretically%2C%20GDP%20can%20be%20viewed%20in%20three%20different%20ways%3A): \n",
    "\n",
    "* The *production approach* sums the value-added at each stage of production for all goods and services (where value-added is defined as the sales value minus the value of intermediate inputs);\n",
    "\n",
    "* The *expenditure approach* sums the value of all purchases made by final users (i.e., the consumption of households, the investment of companies, and the purchases of goods and services by goverment entities and foreign consumers).\n",
    "\n",
    "* The *income approach* sums all of the incomes generated by production (including but not limited to the compensation employees receive and the operating surplus of companies).\n",
    "\n",
    "In *theory*, each of these approaches should generate the same GDP figures/data: \n",
    "\n",
    "* Consider the expenditure and income approaches - in a simplified economy with  consumers and businesses, every dollar a consumer receives as income (income approach) will be accounted for as a dollar spent on a good or service from some business (expenditure approach). \n",
    "  \n",
    "* This relationship is neatly captured in a diagram shown in introductory economics classes across the world, the circular flow diagram: \n",
    "\n",
    "<div>\n",
    "<img src=\"../imgs/circularflow.png\" width=\"400\"/>\n",
    "<div> "
   ]
  },
  {
   "cell_type": "markdown",
   "metadata": {},
   "source": [
    "However, in *practice*, figures generate by these two approaches can differ substantially: \n",
    "\n",
    "<input type=\"checkbox\"> **\\*\\*INSERT CODE BLOCKS TO VIZ. DIFF'S IN GDP APPROACHES HERE\\*\\***\n",
    "\n",
    "In the case of GDP, the disparity between the measurements resulting from different approaches is generally the product of multiple factors: \n",
    "\n",
    "* Structural differences in how the approaches operate can contribute to the divergence - for instance, if an individual saves a portion of their income in cash, the value of these savings are reflected in the income approach data but not the expenditure approach data for the same year.\n",
    "\n",
    "* Meta-issues like differences in the accuracy and timeliness of contributing data resources can also give rise to meaningful differences.  "
   ]
  },
  {
   "cell_type": "markdown",
   "metadata": {},
   "source": [
    "**TO-DO:**\n",
    "* in context of gdp: \n",
    "  <input type=\"checkbox\"> find gdp data resource with both income & expenditure approaches, gen. graphs to viz diff's (bea, gdp + gdi?)\n",
    "\n",
    "  <input type=\"checkbox\"> quick discussion point abt. how could use different approaches to skew picture of gdp (expenditure approach during: period of recession, deflated exp, increased savings, followed by up year measured via income approach -> influx of expenditures from saved cash, could be used to depict stronger-than-real economic recovery)\n",
    "\n",
    "<input type=\"checkbox\"> the bea publishes the official us gdp data as measured using the expenditure appraoch, but also relases the measure obtained via the income approach under a slightly different name (gross domestic income). though the expenditure approach is more commonly used, both approaches are valid. zoom out discussion -> in general, where multiple approaches exist, if they are similarly estblished, you should look for appropriate justification for the one selected.\n",
    "\n",
    "<input type=\"checkbox\"> if an approach is offered and supporting/originating data is provided, you can also generate the dataset yourself.\n",
    "  - varying degrees of applicability: can't really do for experiments, large measurement projects like gdp \n",
    "  - also, by and large, not entirely necessary? useful when methodology/data is new in field, or if you want to use someone else's project as a launching point for yours. \n",
    "\n",
    "<input type=\"checkbox\"> generic-y ending note?"
   ]
  },
  {
   "cell_type": "markdown",
   "metadata": {},
   "source": [
    "## 1.3. ***Chapter Takeaways***\n",
    "\n",
    "<input type=\"checkbox\">  some generic-y comments summarizing the chapters \n",
    "\n",
    "1. When identifying a dataset to work with, remember that usability is not the only criterion of interest — always traceback each resource's original author and verify that author's credibility. \n",
    "\n",
    "2. Always consider the incentives and intended purpose of the work through which data is acquired; doing so can help you identify a reliable data resource more quickly, while also foreshadowing implications for the data itself (and your research should you use it).\n",
    "\n",
    "<input type=\"checkbox\"> something blah blah data continuities! "
   ]
  }
 ],
 "metadata": {
  "kernelspec": {
   "display_name": "Python 3.10.6 64-bit",
   "language": "python",
   "name": "python3"
  },
  "language_info": {
   "codemirror_mode": {
    "name": "ipython",
    "version": 3
   },
   "file_extension": ".py",
   "mimetype": "text/x-python",
   "name": "python",
   "nbconvert_exporter": "python",
   "pygments_lexer": "ipython3",
   "version": "3.10.6"
  },
  "orig_nbformat": 4,
  "vscode": {
   "interpreter": {
    "hash": "de65b0f014eaa4e91eb08470e9da2c68e352502ee239b0d825d97d29c2332a57"
   }
  }
 },
 "nbformat": 4,
 "nbformat_minor": 2
}
