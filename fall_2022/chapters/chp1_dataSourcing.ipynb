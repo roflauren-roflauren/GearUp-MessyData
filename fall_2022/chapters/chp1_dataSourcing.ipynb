{
 "cells": [
  {
   "cell_type": "markdown",
   "metadata": {},
   "source": [
    "# Chapter 1 - Data Sourcing\n",
    "\n",
    "<div>\n",
    "<img src=\"../imgs/product-proliferation.png\" width=\"750\"/>\n",
    "<figcaption><em>The modern data landscape has so much data...no, really—SO much data. Which data should you use?</em></figcaption>\n",
    "<div>"
   ]
  },
  {
   "cell_type": "markdown",
   "metadata": {},
   "source": [
    "## 1.0. Preface: why source good data? \n",
    "\n",
    "* Analysis for any research project begins with data sourcing; without any data, there's no tests to run, no trends to identify, no hypotheses to validate, etc. \n",
    "\n",
    "* But, the modern data landscape is vast and can be overwhelming—look up \"X + dataset\" for almost topic, and you'll likely find a multitude of resources published by private organizations, government agencies, licensed data vendors, open-source groups, etc. Does it matter whose data you go with? \n",
    "\n",
    "* **Absolutely** — identifying and sourcing quality data is essential to the research process. If conducting analyses is like cooking, sourcing data is like acquiring ingredients—whether you're following a recipe or not, things will likely not turn out well if the base inputs are of poor quality. \n"
   ]
  },
  {
   "cell_type": "markdown",
   "metadata": {},
   "source": [
    "## 1.1. Defining \"data sourcing\"\n",
    "\n",
    "Data sourcing is the process of: \n",
    "\n",
    "* ***finding***; \n",
    "  \n",
    "* ***assessing***; and,\n",
    "  \n",
    "* ***selecting***\n",
    "\n",
    "a data resource to work with. Even for the same statistic, data resources can differ by basic attributes like values, author, purpose and more meta factors like availability, structure, representativeness, etc. \n",
    "\n",
    "Purposeful data sourcing is often overlooked in favor of convenience (i.e., using the first available and/or most popular dataset), but as we'll see, data sourcing decisions determine data attributes—which can ultimately impact downstream analysis. "
   ]
  },
  {
   "cell_type": "markdown",
   "metadata": {},
   "source": [
    "## 1.2 Issues in data sourcing\n",
    "\n",
    "Many issues can arise when attempting to source quality data, but in this chapter, we're going to explore this topic in the context of three practices:\n",
    "\n",
    "1. [Deciding between multiple data authors](./chp1.2.1_multipleAuthors.ipynb);\n",
    "\n",
    "2. [Understanding author incentives and purpose](./chp1.2.2_incentives.ipynb#); and \n",
    "\n",
    "3. [Validating data and data generation approaches](./chp1.2.3_approaches.ipynb). \n",
    "\n",
    "Each practice sub-chapter has numbered discussion sections and an accompanying coding exercise or visualization. It's suggested that you work through them in order, but doing so is not strictly necessary. \n",
    "\n",
    "Click any of the above links to get started! "
   ]
  }
 ],
 "metadata": {
  "kernelspec": {
   "display_name": "Python 3.10.6 64-bit",
   "language": "python",
   "name": "python3"
  },
  "language_info": {
   "codemirror_mode": {
    "name": "ipython",
    "version": 3
   },
   "file_extension": ".py",
   "mimetype": "text/x-python",
   "name": "python",
   "nbconvert_exporter": "python",
   "pygments_lexer": "ipython3",
   "version": "3.10.6"
  },
  "orig_nbformat": 4,
  "vscode": {
   "interpreter": {
    "hash": "de65b0f014eaa4e91eb08470e9da2c68e352502ee239b0d825d97d29c2332a57"
   }
  }
 },
 "nbformat": 4,
 "nbformat_minor": 2
}
