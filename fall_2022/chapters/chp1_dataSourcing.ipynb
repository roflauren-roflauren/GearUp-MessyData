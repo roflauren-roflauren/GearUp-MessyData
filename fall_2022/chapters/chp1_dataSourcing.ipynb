{
 "cells": [
  {
   "cell_type": "markdown",
   "metadata": {},
   "source": [
    "# Chapter 1 - Data Sourcing\n",
    "\n",
    "<div>\n",
    "<img src=\"../imgs/product-proliferation.png\" width=\"750\"/>\n",
    "<figcaption><em>The modern data landscape has so much data...no, really—SO much data. Which data should you use?</em></figcaption>\n",
    "<div>"
   ]
  },
  {
   "cell_type": "markdown",
   "metadata": {},
   "source": [
    "### 1.0. Preface: why source good data? \n",
    "\n",
    "* Analysis for any research project begins with data sourcing; after all, without any data, there's no tests to run, no trends to identify, no hypotheses to validate, etc. \n",
    "\n",
    "* But, the modern data landscape is vast and can be overwhelming—look up \"X + dataset\" for almost topic, and you'll likely find a multitude of resources published by private organizations, government agencies, licensed data vendors, open-source groups, etc. Does it matter whose data you go with? \n",
    "\n",
    "* **Absolutely** — identifying and sourcing quality data is essnetial to the research process. If conducting analyses is like cooking, sourcing data is like acquiring ingredients—whether you're following a recipe or not, things will likely not turn out well if the base inputs are of poor quality. \n"
   ]
  },
  {
   "cell_type": "markdown",
   "metadata": {},
   "source": [
    "### 1.1. Defining \"data sourcing\"\n",
    "\n",
    "As discussed in Chapter 0, data sourcing is the process of: \n",
    "\n",
    "* identifying; \n",
    "  \n",
    "* assessing; and,\n",
    "  \n",
    "* selecting\n",
    "\n",
    "a data resource to work with. \n",
    "\n",
    "Even for the same statistic, data resources can differ by basic attributes like values, author, purpose and more meta factors like availability, structure,representativeness, etc. \n",
    "\n",
    "Purposeful data sourcing is often overlooked in favor of convenience (i.e., using the first available and/or most popular dataset), but as we'll see, data sourcing decisions determine data attributes—which can ultimately impact downstream analysis. "
   ]
  },
  {
   "cell_type": "markdown",
   "metadata": {},
   "source": [
    "### 1.2. Issues in data sourcing\n",
    "\n",
    "##### 1.2.1. *Deciding between multiple data authors*\n",
    "\n",
    "Look up \"US GDP data\" in your web browser of choice. How many data sources can you find a \n",
    "\n",
    "##### 1.2.2. *Understanding author incentives and purpose* \n",
    "\n",
    "##### 1.2.3. *Validating collected and generated data*"
   ]
  },
  {
   "cell_type": "markdown",
   "metadata": {},
   "source": []
  }
 ],
 "metadata": {
  "kernelspec": {
   "display_name": "Python 3.10.6 64-bit",
   "language": "python",
   "name": "python3"
  },
  "language_info": {
   "name": "python",
   "version": "3.10.6"
  },
  "orig_nbformat": 4,
  "vscode": {
   "interpreter": {
    "hash": "de65b0f014eaa4e91eb08470e9da2c68e352502ee239b0d825d97d29c2332a57"
   }
  }
 },
 "nbformat": 4,
 "nbformat_minor": 2
}
