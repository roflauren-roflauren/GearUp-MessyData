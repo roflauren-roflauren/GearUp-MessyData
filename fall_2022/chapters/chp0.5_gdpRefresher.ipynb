{
 "cells": [
  {
   "cell_type": "markdown",
   "metadata": {},
   "source": [
    "# Chapter 0.5 - GDP Refresher\n",
    "\n",
    "<div>\n",
    "<img src=\"../imgs/gdp_calculation.gif\" width=\"450\"/>\n",
    "</div>"
   ]
  },
  {
   "cell_type": "markdown",
   "metadata": {},
   "source": [
    "#### **Defintion and use:** \n",
    "For the rest of this workshop, we'll be exploring topics in the context of US GDP (**G**ross **D**omestic **P**roduct) data. In case you haven't worked with GDP data before, or you just want a quick refresher, here's a rundown:  \n",
    "\n",
    "* *Definition:* GDP is \"the total monetary or market value of all the finished goods and services produced within a country's borders in a specific time period. \n",
    " \n",
    "* *Use:* general indicator of a country's overall productivity and/or economic health (useful for large-scale social inquiries)\n",
    "\n",
    "* *Common forms:* \n",
    "  * nominal GDP - GDP as measured with contemporaneous prices of goods\n",
    " \n",
    "  * real GDP - GDP as measured with a fixed year's prices of goods\n",
    "  \n",
    "  * potential GDP - an estimate of a country's GDP under ideal economic conditions (e.g., steady currency value, low inflation, full employment)\n",
    "  \n",
    "  * GDP per capita - GDP divided by the population of a country, productivity per person\n"
   ]
  },
  {
   "cell_type": "markdown",
   "metadata": {},
   "source": [
    "#### **Your \"typical\" GDP dataset:** \n",
    "\n",
    "What makes GDP an ideal statistic to wrangle with when learning to deal with \"real-life\" data? Let's take a look: \n",
    "\n",
    "* *Qualities of GDP Data(sets):*\n",
    "\n",
    "  * Typically presented as **timeseries** data, a common data type for longitudinal studies. \n",
    "\n",
    "  * Usually published with a **lag** - e.g., 2013 Q2 GDP data wasn't officially released until the end of 2013 Q3.\n",
    "\n",
    "  * Computed and posted by **numerous** agencies and entities, typically government-related.\n",
    "\n",
    "  * **Multiple** approaches available for calculation (e.g., expenditure, production, and income approaches)\n",
    "\n",
    "As we'll soon find out, each of these qualities can lend itself to inherent issues in the sourcing and use of GDP data! "
   ]
  }
 ],
 "metadata": {
  "kernelspec": {
   "display_name": "Python 3.10.6 64-bit",
   "language": "python",
   "name": "python3"
  },
  "language_info": {
   "name": "python",
   "version": "3.10.6"
  },
  "orig_nbformat": 4,
  "vscode": {
   "interpreter": {
    "hash": "de65b0f014eaa4e91eb08470e9da2c68e352502ee239b0d825d97d29c2332a57"
   }
  }
 },
 "nbformat": 4,
 "nbformat_minor": 2
}
