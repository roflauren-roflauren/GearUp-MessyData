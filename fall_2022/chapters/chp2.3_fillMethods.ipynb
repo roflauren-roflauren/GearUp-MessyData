{
 "cells": [
  {
   "cell_type": "markdown",
   "metadata": {},
   "source": [
    "## 2.3. Remediating data gaps "
   ]
  },
  {
   "cell_type": "markdown",
   "metadata": {},
   "source": [
    "- broad types of fill methods (exogenous vs endogenous)"
   ]
  },
  {
   "cell_type": "markdown",
   "metadata": {},
   "source": [
    "- issues with exogenous fill methods: \n",
    "\n",
    "  * Need for resampling \n",
    "\n",
    "  * Mis-alignment of data point occurence \n",
    "\n",
    "  * ***Key: Addressing both of these concerns by considering data sourcing and authorship. GDP as a monthly/quarterly measure, collection dates, etc. \n",
    "\n",
    "  * *Code demonstration of different results using different methods* "
   ]
  },
  {
   "cell_type": "markdown",
   "metadata": {},
   "source": [
    "- issues with endogenous fill methods:\n",
    "\n",
    "  * Determining the best interpolation methods: mean, median, min/max, knn, glrm. \n",
    "\n",
    "  * Determining the interpolation scope: how many surrounding datapoints do we estimate from? \n",
    "\n",
    "  * *Code demonstration of different results using different methods* "
   ]
  },
  {
   "cell_type": "markdown",
   "metadata": {},
   "source": [
    "*Consequences of Data Filling* \n",
    "\n",
    "* Consider a downstream use of GDP data: maybe built into a regression, maybe used as filter, etc. \n",
    "\n",
    "* Craft and present example of how using different fill methods would lead to different results/conclusions in downstream analysis. "
   ]
  }
 ],
 "metadata": {
  "kernelspec": {
   "display_name": "Python 3.10.6 64-bit",
   "language": "python",
   "name": "python3"
  },
  "language_info": {
   "name": "python",
   "version": "3.10.6"
  },
  "orig_nbformat": 4,
  "vscode": {
   "interpreter": {
    "hash": "de65b0f014eaa4e91eb08470e9da2c68e352502ee239b0d825d97d29c2332a57"
   }
  }
 },
 "nbformat": 4,
 "nbformat_minor": 2
}
