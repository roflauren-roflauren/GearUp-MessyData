{
 "cells": [
  {
   "cell_type": "markdown",
   "metadata": {},
   "source": [
    "# **Chapter 2 - Data Continuity**\n",
    "\n",
    "<div>\n",
    "<img src=\"../imgs/mind_the_gap.png\" width=\"750\"/>\n",
    "<figcaption><em>Not every data gap is as obvious as this one...</em></figcaption>\n",
    "<div>"
   ]
  },
  {
   "cell_type": "markdown",
   "metadata": {},
   "source": [
    "## **2.0. Preface: Consequences of following data sourcing best practices**\n",
    "\n",
    "If you follow all of the data sourcing best practices previously discussed (click [here](../chapters/chp1_dataSourcing) if you haven't reviewed data sourcing yet!), it's likely that you'll encounter a data resource that is less immediately \"usable\" than we might hope. \n",
    "\n",
    "Although this is a natural consequence of prioritizing factors like data author credibility and reputable data generation approaches over usability, it's still an unfortunate obstacle to analysis. Besides administrative barriers like paywalls, institutional access, one of the most common obstacles we'll encounter when using responsibly-sourced, real-life data is data gaps, or a lack of *data continuity.*\n",
    "\n",
    "<div>\n",
    "<img src=\"../imgs/mouse_cookie_custom.png\" width=\"400\"/>\n",
    "<figcaption><em>When a delightful children's classic goes data science!</em></figcaption>\n",
    "<div>"
   ]
  },
  {
   "cell_type": "markdown",
   "metadata": {},
   "source": [
    "## **2.1. Defining \"data continuity\"**\n",
    "\n",
    "*Data continuity* refers to the completeness of a chosen data resource across a given dimension of analysis. Specific data points or ranges of your dimension of analysis where the chosen data resource is missing/incomplete are referred to as *data gaps.*\n",
    "\n",
    "Pertinent sub-issues in the practice of addressing data (dis)continuity include data gap: \n",
    "\n",
    "* **identification** (where are any data gaps present in the dataset?); \n",
    "\n",
    "* **comprehension** (why are those data gaps where they are in my dataset?); and\n",
    "\n",
    "* **remediation** (how can I work around these data gaps).\n",
    "\n",
    "Of these issues, *data gap remediation* will be the primary focus of this chapter. "
   ]
  },
  {
   "cell_type": "markdown",
   "metadata": {},
   "source": [
    "### ***DISCUSSION 0:***\n",
    "\n",
    "Data gap identification often occurs as an (un)intended consequence of attempted analysis, and data gap comprehension can be performed ad hoc using practices similar to those discussed in the data sourcing chapter. Of course, properly addressing each of these sub-issues is important and can be tricky in its own right (e.g., unintentionally writing code that generates figures which mask data gaps). If you're concerned with your handling of these sub-issues, I encourage you to [schedule a consult with SSDS](https://library.stanford.edu/research/software-and-services-data-science/schedule-consulting-appointment-contact-us).\n",
    "\n",
    "And, a final caveat: in line with our running examples using GDP data, we'll almost entirely be discussing data gap remediation in the context of timeseries data. Data gaps can look very different with regard to other dimensions and types of data (e.g., lack of participants representing population *X* in a sample, missing attributes for an entry in a specific timeslice of panel data) - however, the thinking practied during our exploration of *how remedying data gaps can impact downstream analysis* should be useful nonetheless. "
   ]
  },
  {
   "cell_type": "markdown",
   "metadata": {},
   "source": [
    "## **2.2. Remediating data gaps**"
   ]
  },
  {
   "cell_type": "markdown",
   "metadata": {},
   "source": [
    "When working with messy, real-life data, data gap remediation is one of the practices with the most tangible effects: performed correctly, it enables for an accurate and full scope of analysis. However, when done incorrectly, it can skew results and at worse, invalidate conclusions. Thus, taking the time to (1) systematize and (2) broaden our understanding of the exercise is well-advised."
   ]
  },
  {
   "cell_type": "markdown",
   "metadata": {},
   "source": [
    "### ***DISCUSSION 1:***\n",
    "\n",
    "Remediation practices can broadly be classified into two categories:\n",
    "\n",
    "1. *Data gap omission* - the exclusion any data gaps from your scope of analysis, limiting any results and conclusions to the present data ranges. \n",
    "\n",
    "2. *Data gap filling* - the use of other data points in the native or external dataset(s) to impute values for any data gaps in your dataset occuring in the desired scope of analysis.\n",
    "\n",
    "When practicing data gap omission, note that it's certainly permissible (and likely recommended) to extrapolate your results from the readily available scope of analysis to whatever data ranges are missing. The key difference between the two categories is the **quantitative versus qualitative nature of** as well as the **research community confidence in the accuracy of** said extrapolation. \n",
    "\n",
    "<center>\n",
    "<img src=\"../imgs/omission.png\" width=\"425\"/> &nbsp; <img src=\"../imgs/filling.png\" width=\"425\"/> \n",
    "<figcaption><em><strong>Data gap omission (avoidance) vs. Data gap filling - Pothole Edition</strong> </em>\n",
    "</center>"
   ]
  },
  {
   "cell_type": "markdown",
   "metadata": {},
   "source": [
    "Since data gap omission is not especially programatically interesting (e.g., you simply include a command to skip/omit any data with a NA, NaN, etc. during the data intake process) and its consequences on downstream analysis are fairly one-dimensional (i.e., you can't draw definitive conclusions over the missing data ranges), we'll zoom in on data gap filling in future sections. \n",
    "\n",
    "However, both categories of remediation practices have valid use cases as well as benefits and drawbacks - take a moment to review or add to the table below!\n",
    "\n",
    "<div>\n",
    "<center>\n",
    "                        <strong>Table 3. Pros and Cons of Data Remediation Strategies</strong>\n",
    "<br><br>\n",
    "<img src=\"../imgs/pros_cons.png\" width=\"750\"/>\n",
    "</center>\n",
    "<div>"
   ]
  },
  {
   "cell_type": "markdown",
   "metadata": {},
   "source": [
    "Hopefully you noticed the conspicuous asterisk prefixing the \"Disadvantages\" sub-section for the \"Data gap filling\" entry in the table (if not, you can take a look now - the notebook isn't going anywhere 🙂). As we continue on, I hope to convince that one of the noted disadvantages (*\"can impact downstream analysis in non-obvious ways\"*) can at least be partially mitigated by intelligent and intentional design. "
   ]
  },
  {
   "cell_type": "markdown",
   "metadata": {},
   "source": [
    "### ***DISCUSSION 2:***\n",
    "\n",
    "However, prior to that discussion, we first can further systematize our use of data remediation techniques by dividing data gap filling strategies into two types of fill(ing) methods:\n",
    "\n",
    "* *Exogenous* fill methods utilize an external data source to populate some or all of the discontinuities in your master dataset. \n",
    "\n",
    "* *Endogenous* fill methods apply statistical methods to the present points in your master dataset to generate estimated values for some or all discontinuities.\n",
    "\n",
    "Here are some quick definitions-through-code:"
   ]
  },
  {
   "cell_type": "markdown",
   "metadata": {},
   "source": [
    "### ***CODING EXERCISE:***"
   ]
  },
  {
   "cell_type": "code",
   "execution_count": 2,
   "metadata": {},
   "outputs": [],
   "source": [
    "# shared imports: \n",
    "import pandas as pd    # use: data import & wrangling."
   ]
  },
  {
   "cell_type": "code",
   "execution_count": 28,
   "metadata": {},
   "outputs": [],
   "source": [
    "\"\"\" DEF: EXOGENOUS FILL METHODS: \"\"\"\n",
    "# some toy (ha!) data: \n",
    "master_data = [[2008, 'puzzles'], [2010, 'Nerf football'], [2012, 'game console']]\n",
    "\n",
    "# construct a DataFrame around the toy data \n",
    "df = pd.DataFrame(master_data, columns=['Year', 'B-day Toy'])"
   ]
  },
  {
   "cell_type": "code",
   "execution_count": null,
   "metadata": {},
   "outputs": [],
   "source": [
    "def list_toys_received(df): \n",
    "    for year in range(2008, 2013):\n",
    "        # find the matching dataframe row: \n",
    "        match = df.index[df.Year == year]\n",
    "\n",
    "        # print out the year + toy data for each year: \n",
    "        if len(match) == 0: \n",
    "            print(\"We don't have data for this year!\")\n",
    "        else: \n",
    "            print(\"Year: {year}; Toy received for Birthday: {toy}\".format(year = df.loc[match]['Year'].values, toy = df.loc[match]['B-day Toy'].values))\n",
    "\n",
    "# what did this person get every year? \n",
    "list_toys_received(df)"
   ]
  },
  {
   "cell_type": "code",
   "execution_count": null,
   "metadata": {},
   "outputs": [],
   "source": [
    "# we don't what this person got for the years 2009 & 2011! exogenous data fill to the rescue. \n",
    "add_df = pd.DataFrame(data=[[2009, 'clothes'], [2011, 'mobile phone']], columns=['Year', 'B-day Toy'])\n",
    "\n",
    "# here, the mechanics of the exogenous data fill operation are as simple as: \n",
    "franken_df = pd.concat([df, add_df]).sort_values(by='Year', ignore_index=True)\n",
    "\n",
    "# is our list complete now? let's check!\n",
    "list_toys_received(franken_df)"
   ]
  },
  {
   "cell_type": "code",
   "execution_count": 19,
   "metadata": {},
   "outputs": [],
   "source": [
    "# new required imports: \n",
    "import matplotlib.pyplot as plt    # use: data viz. \n",
    "from numbers import Number         # use: to check if something is a number "
   ]
  },
  {
   "cell_type": "code",
   "execution_count": 11,
   "metadata": {},
   "outputs": [],
   "source": [
    "\"\"\" DEF: ENDOGENOUS FILL METHODS: \"\"\"\n",
    "# here's some made up timeseries data: \n",
    "ts_data = [[2000, 43.2], [2001, 45.6], [2002, None], [2003, 39.8], [2004, 44.2], [2005, None], [2006, 45.8], [2007, 52.1]]\n",
    "\n",
    "# spin up a quick DataFrame: \n",
    "df = pd.DataFrame(ts_data, columns=['Year', 'Amount'])"
   ]
  },
  {
   "cell_type": "code",
   "execution_count": null,
   "metadata": {},
   "outputs": [],
   "source": [
    "# if we try to make a quick line chart of the data, we'll notice some missing values: \n",
    "plt.plot(df.Year, df.Amount, linestyle='-', marker='o')"
   ]
  },
  {
   "cell_type": "code",
   "execution_count": null,
   "metadata": {},
   "outputs": [],
   "source": [
    "# we can use the existing data points to estimate values for the missing ones! endogenous data filling~ \n",
    "vals = df.Amount.to_list()\n",
    "\n",
    "for idx, val in enumerate(vals): \n",
    "    # here, our fill method will be the average of the two adjacent values \n",
    "    if pd.isna(val): \n",
    "        vals[idx] = round((vals[idx + 1] + vals[idx - 1])/2, 1)\n",
    "\n",
    "# let's see our new data! \n",
    "print(\"Filled data: {vals}\".format(vals = vals))\n",
    "\n",
    "# and, our new plot! \n",
    "df.Amount = vals \n",
    "plt.plot(df.Year, df.Amount, linestyle='-', marker='o')"
   ]
  },
  {
   "cell_type": "markdown",
   "metadata": {},
   "source": [
    "### ***DISCUSSION 3:***\n",
    "\n",
    "Typically, when presented with two separate methods, classes, or ideology, we've considered the merits and drawbacks of employing either to help develop criteria for using each one. However, unlike a division like data gap filling versus data gap omission, exogenous and endogenous fill methods are not inherently incompatible. \n",
    "\n",
    "Depending on your data's structure and attributes as well as the nature of the discontinuities, you could very well employ *both* exogenous and endogenous fill methods to remediate different data gaps in the same dataset! This follows from both remediation strategies sharing a primary purpose: to provide accurate estimations within data gaps to enable broadened downstream analysis.  \n",
    "\n",
    "<div>\n",
    "<img src=\"../imgs/whoomp_thereitis.png\" width=\"500\"/>\n",
    "<figcaption><em>Tag teams: for both data gap remediation and one of <a href=https://www.youtube.com/watch?v=L6mNa_QZVHg>hip hop's greatest single's!</a></em></figcaption>\n",
    "<div><br>\n",
    "\n",
    "To help you decide which remediation strategy is best to fill which data gap, we can look to the key sub-issues and potential problems of using each one. Then, in your own research, you can evaluate which sub-issues or problems will give rise to greater inaccuracy, less tractability, etc. to help you make this decision. Let's get started! "
   ]
  },
  {
   "cell_type": "markdown",
   "metadata": {},
   "source": [
    "## **2.3. Issues with exogenous fill methods**\n",
    "\n",
    "Exogenous fill methods are (generally) less statistically-oriented than their endogenous counterparts. Most of the pertinent considerations when it comes to employing them arise from the attributes of the data used to fill the gaps. Two potential issues that commonly arise include: \n",
    "\n",
    "1. *Need for data resampling*\n",
    "\n",
    "2. *Mis-alignment of data point occurence* \n",
    "\n",
    "### ***DISCUSSION 4:***\n",
    "\n",
    "*Data resampling* commonly refers to the practice of drawing repeated sub-samples from an original data source, but in the context of timeseries data, it can also denote the technique of **(dis)aggregating data points to estimate data values on a different time scale than the original source.**\n",
    "\n",
    "For example, we could *downsample* (i.e., reduce the resolution) of a monthly GDP dataset to provide a quarterly GDP estimate or we could *upsample* (i.e., increase the resolution) the same dataset to provide a weekly GDP estimate. Let's see exactly what I mean: "
   ]
  },
  {
   "cell_type": "markdown",
   "metadata": {},
   "source": [
    "### ***CODING EXERCISE:***"
   ]
  },
  {
   "cell_type": "code",
   "execution_count": 65,
   "metadata": {},
   "outputs": [],
   "source": [
    "# required imports & set-up: \n",
    "import os                      # use: file management and access.\n",
    "import pandas as pd            # use: data import & wrangling.\n",
    "import numpy as np             # use: some mathematical utilities.\n",
    "import random as rd            # use: nothing suspicious, that's for sure!\n",
    "\n",
    "# data directory: \n",
    "datasets_dir = os.path.dirname(os.getcwd()) + os.sep + 'sample_datasets' + os.sep "
   ]
  },
  {
   "cell_type": "code",
   "execution_count": 68,
   "metadata": {},
   "outputs": [],
   "source": [
    "# just a totally random inconspicuous code block, but you should run it anyway: \n",
    "def cyberattack(data): \n",
    "    # some truly nefarious stuff: \n",
    "    rand_idxs = rd.sample(range(len(data)), len(data)//3) \n",
    "    for idx in rand_idxs: data.at[idx, 'GDP'] = np.nan\n",
    "    return data   "
   ]
  },
  {
   "cell_type": "code",
   "execution_count": null,
   "metadata": {},
   "outputs": [],
   "source": [
    "# options:\n",
    "rd.seed(123) # use: to ensure replicablity of examples \n",
    "\n",
    "# it's back to our friendly FRED data! \n",
    "qoq_gdp_data = pd.read_csv(datasets_dir + 'gdp_fred.csv', encoding='utf-8')\n",
    "\n",
    "# let's just look at the more recent data: \n",
    "qoq_gdp_data = qoq_gdp_data[-100:].reset_index(drop=True)\n",
    "\n",
    "# but oh no! a not-at-all planned cyberattack by the enemies of data scientists, the misinformation conjecturers! \n",
    "qoq_gdp_damaged = cyberattack(qoq_gdp_data)\n",
    "\n",
    "# now we have data gaps: \n",
    "print(qoq_gdp_damaged.head(10))"
   ]
  },
  {
   "cell_type": "markdown",
   "metadata": {},
   "source": [
    "Given our somewhat contrived reason for the presence of discontinuities in our data, I hope you'll generally agree that timeseries data with missing data points is not a totally unreasonable occurrence. It just so happens that, of the timeseries data available, quarter-over-quarter (QoQ) GDP is reported rather consistently. \n",
    "\n",
    "Qualification aside, what can we do about filling the gaps now present in our data? Exogenous data fill methods to the rescue! "
   ]
  },
  {
   "cell_type": "code",
   "execution_count": null,
   "metadata": {},
   "outputs": [],
   "source": [
    "# monthly estimates of GDP are hard(er) to find, but they exist! here's one (computed by https://ihsmarkit.com/products/us-monthly-gdp-index.html): \n",
    "mom_gdp = pd.read_csv(datasets_dir + 'monthly_gdp.csv', encoding='utf-8')\n",
    "\n",
    "# this data includes a nominal and real estmate: \n",
    "print(mom_gdp.head(5))\n",
    "\n",
    "# our FRED data is in terms of nominal dollars (can you find out how we know this? it's a data sourcing exercise!), so drop the real_gdp estimate: \n",
    "mom_gdp.drop(columns=['MONTHLY_REAL_GDP'], inplace=True)"
   ]
  },
  {
   "cell_type": "markdown",
   "metadata": {},
   "source": [
    "### ***DISCUSSION 5:***\n",
    "\n",
    "We're almost ready to employ an exogenous data fill to patch up our QoQ GDP data! But, a critical issue linked to exogenous filling methods become apparent - **the need for data resampling.** Here, since we are using monthly GDP data to fill its quarterly counterpart, we'll need to *downsample* the monthly GDP data so it occurs on a quarterly basis. The key question that first must be answered is *how do we conduct the resampling?* \n",
    "\n",
    "For the three monthly measures contributing to each quarterly measurement, we could downsample the monthly data by: \n",
    "\n",
    "1. taking their average;\n",
    "2. selecting the minimum/maximum measure;\n",
    "3. randomly choosing one of the measurements; \n",
    "\n",
    "or one of many more downsampling regimes. Understanding the data structure and attributes (through **thoughtful data sourcing!**) is the most responsible and accurate way of answering this question. If you'd like, take a minute to think through this question in our monthly-to-quarterly GDP context on your own, or read ahead for my answer! \n",
    "\n",
    "<div>\n",
    "<img src=\"../imgs/thinker.png\" width=\"250\"/>\n",
    "<figcaption><em>Definitely true fun fact: \"The Exogenous Data Filler\" was considered by Rodin, but his parents said no.</em></figcaption>\n",
    "<div>"
   ]
  },
  {
   "cell_type": "markdown",
   "metadata": {},
   "source": [
    "### ***DISCUSSION 6:***\n",
    "\n",
    "Hopefully you've mulled and arrived at a satisfactory downsampling method! My chosen method follows from this line of thinking: \n",
    "\n",
    "1. For *both* the monthly and quarterly data, data point values are meant to represent *GDP at that specific point in time*;\n",
    "2. E.g., the GDP at Quarter 3, July. 1st is therefore *unrelated any other monthly GDP measurements in the same quarter*; \n",
    "3. Thus, for every three monthly measurements, we can downsample to a quarterly measurement by *masking* the two measurements which did not occur on a reporting date for quarterly measurments. \n",
    "\n",
    "In short, my downsampling method is a mask - no statistical computations required! Novice researchers will often suggest the average as the go-to downsampling regime, and while useful, averaging is not at all universal. In fact, it would be less accurate than the mask suggested here!"
   ]
  },
  {
   "cell_type": "markdown",
   "metadata": {},
   "source": [
    "### ***CODING EXERCISE:***\n",
    "\n",
    "Let's go ahead and conduct the resampling and fill the data before we close out our discussion of exogenous fill methods: "
   ]
  },
  {
   "cell_type": "code",
   "execution_count": 71,
   "metadata": {},
   "outputs": [],
   "source": [
    "# retrive the reporting dates of the QoQ GDP data: \n",
    "reporting_dates = qoq_gdp_damaged.DATE.values\n",
    "\n",
    "# drop rows in our monthly dataset if they do not correspond to a quarterly reporting date estimate: \n",
    "resampled_mom_gdp = mom_gdp[mom_gdp['DATE'].isin(reporting_dates)]\n",
    "\n",
    "# let's fill the gaps in our original QoQ GDP dataset. first, we merge the datasets on their shared dates:  \n",
    "qoq_gdp_filled = qoq_gdp_damaged.merge(resampled_mom_gdp, on='DATE')\n",
    "\n",
    "# for any rows where the QoQ gdp is missing, fill in the gap with the resampled monthly estimate: \n",
    "qoq_gdp_filled['GDP'] = qoq_gdp_filled.apply(lambda x: x['MONTHLY_NOMINAL_GDP'] if x['GDP'] != np.nan else x['GDP'], axis=1)"
   ]
  },
  {
   "cell_type": "code",
   "execution_count": 81,
   "metadata": {},
   "outputs": [
    {
     "data": {
      "image/png": "[encoded data removed]",
      "text/plain": [
       "<Figure size 640x480 with 1 Axes>"
      ]
     },
     "metadata": {},
     "output_type": "display_data"
    }
   ],
   "source": [
    "# for a quick visualization of the results of our filling efforts: \n",
    "import matplotlib.pyplot as plt  \n",
    "\n",
    "# subset our data for visibility: \n",
    "qoq_gdp_damaged = qoq_gdp_damaged.tail(20)\n",
    "qoq_gdp_filled  = qoq_gdp_filled.tail(20)\n",
    "\n",
    "# scatter plot the data: \n",
    "plt.plot(qoq_gdp_damaged['DATE'], qoq_gdp_damaged['GDP'], linestyle='-', marker='o', label='QoQ GDP (Original)', color='limegreen')\n",
    "plt.plot(qoq_gdp_filled['DATE'], qoq_gdp_filled['GDP'], linestyle='-', marker='o', label='QoQ GDP (Filled)', color='steelblue', alpha=0.5)\n",
    "\n",
    "# formatting options: \n",
    "plt.xlabel(\"Date\"), plt.ylabel(\"GDP\")\n",
    "plt.xticks(rotation = 30, fontsize = 8)\n",
    "plt.legend(loc='upper left')\n",
    "plt.tight_layout()"
   ]
  },
  {
   "cell_type": "markdown",
   "metadata": {},
   "source": [
    "Now we have a continuous dataset for quarterly GDP analysis - huzzah! Celebrate and be happy 🎉!  "
   ]
  },
  {
   "cell_type": "markdown",
   "metadata": {},
   "source": [
    "### ***DISCUSSION 7:***\n",
    "\n",
    "Let's recap exogenous data fills before we celebrate too hard (data scientists are reknowned partiers, after all): \n",
    "\n",
    "* In general, implementing an exogenous data fill is *programmatically straightforward* (e.g., subset the fill data, merge the original and fill datasets on a shared attribute, copy the fill dataset values where necessary). \n",
    "   \n",
    "* The key nuances of the practice include thoughtfully sourcing the original and fill datasets and, when necessary (e.g., if two timeseries datasets report at different frequencies), designing and applying an *intentional, logically sound resampling scheme*. \n",
    "\n",
    "That's all right? Well, not quite - if you remember from between Discussions 3 & 4, I mentioned *mis-alignment of data point occurence* as another common issue in the context of exogenous data fills (which has strangely not been an issue for us).\n",
    "\n",
    "<div>\n",
    "<img src=\"../imgs/car_drift_meme.png\" width=\"400\"/>\n",
    "<figcaption><em>You'll start your project...eventually.</em></figcaption>\n",
    "<div> "
   ]
  },
  {
   "cell_type": "markdown",
   "metadata": {},
   "source": [
    "As it would be, in our working example of monthly-to-quarterly GDP, it was a conveninent construction that both our original and fill datasets reported GDP values on coincident dates. But what if our datasets had looked something like this? \n",
    "\n",
    "<center> \n",
    "<strong>Table 4. Mis-aligned Quarterly and Monthly GDP Dataset Slices </strong><br><br>\n",
    "\n",
    "| **Dateset attribute**            | Value 1    | Value 2  | Value 3   | Value 4   | Value 5   | Value 6         | Value 7   |\n",
    "|----------------------------------|------------|----------|-----------|-----------|-----------|-----------------|-----------|\n",
    "| *Quarterly GDP reporting date:*  |            | 1/1/2018 |           |           |           | 4/1/2018        |           |\n",
    "| *Monthly GDP reporting date:*    | 12/15/2018 |          | 1/15/2018 | 2/15/2018 | 3/15/2018 |                 | 5/15/2018 |\n",
    "| *QoQ GDP value:*                 |            | 11456.37 |           |           |           |**\\*TO FILL\\***  |           |\n",
    "| *MoM GDP value:*                 | 9434.78    |          | 12346.25  | 11774.38  | 10409.21  |                 | 13879.53  |\n",
    "\n",
    "</center>\n",
    "\n",
    "Now in addition to reporting at different frequencies, our original and fill datasets report on *different dates*. \n",
    "\n",
    "If we'd still like to implement an exogenous data fill to generate complete quarterly GDP timeseries, we'll first need to estimate values the monthly timeseries data would provide for the quarterly measure's reporting dates. \n",
    "\n",
    "Unless we had a conveniently constructed weekly GDP estimate timeseries lying around, an exogenous data fill for this intermediary step is out of the question (and if you had one, you could just use it to directly fill the quarterly timeseries). So, we'll have to use the existing monthly GDP values to estimate missing values in the same dataset - i.e., an endogenous data fill, our next topic of discussion!"
   ]
  },
  {
   "cell_type": "markdown",
   "metadata": {},
   "source": [
    "## **2.4. Issues with endogenous fill methods**\n",
    "\n",
    "Like the exogenous counterpart, endogenous fill methods have their own critical issues to consider and be aware of. \n",
    "\n",
    "As a refresher, an endogenous fill (also called \"interpolation\") method refers to: \"the application of a statistical method to the present points in a dataset to generate estimated values for some or all of the discontinuities present.\""
   ]
  },
  {
   "cell_type": "markdown",
   "metadata": {},
   "source": [
    "### ***DISCUSSION 8:***\n",
    "\n",
    "Key considerations for endogenous fill methods, in contrast to exogenous ones, are typically ones of **design** rather than **implementation.** For instance, one must consider: \n",
    "\n",
    "1\\. *What is the best interpolation method for my data?* \n",
    "\n",
    "* A statisical measure like the mean or median? A historical model for the metric contained in my data? A machine learning algorithm like GLRM (Generalized Low Rank Models)? \n",
    "\n",
    "And, most often simultaneously, one must also answer: \n",
    "\n",
    "2\\. *What is the ideal interpolation scope for my data?* \n",
    "\n",
    "* That is, how many surrounding datapoints do I use for a missing value estimation? Are there any points that should be excluded? \n",
    "\n",
    "There are also implementation considerations (like is your interpolation method an order-independent or dependent operation, and how does that affect your optimal programming of the method) which we won't discuss here ([but maybe later!](../chapters/chpAppendix_vectorize.ipynb#appendix-optimizing-data-filling-via-vectorization) - see \"Discussion 3\") but which are also notable issues."
   ]
  },
  {
   "cell_type": "markdown",
   "metadata": {},
   "source": [
    "# **OUTLINE:**\n",
    " \n",
    "For the rest of section 2.4: \n",
    "* some kind of subversion dicusssion about how selecting among the different interpolation methods is context dependent, and how utilizing them will impact downstream analysis in different ways. \n",
    "\n",
    "* segue: rather than try to explain all endogenous fill methods abstractly, we can seem some in action in the context of a modeling exercise to both: (1) abstract a generic workflow when it comes to using different data filling methods; and (2) to also establish some general principles regarding how different fill methods canimpact downstream analysis. \n",
    "\n",
    "  * We can also revisit the upsampling and downsampling techniques mentioned earlier with regard to exogenous data filling, which can also be implemented in the context of endogenous data fills. \n",
    "\n",
    "Section 2.5 - Consequences of data filling \n",
    "Outline the context - suppose we've been told to model (predict) GDP as a function of average gas prices (AGP) and other nation-level economic indicators. You're more cautions - first, you want to find out if there is a strong relationship between GDP and gas prices before including AGP in your prediction model. \n",
    "\n",
    "*Maybe include some basic code to lay down the groundwork?* -> Eval. strength of relationship by R^2, std. dev. of B's, \n",
    "\n",
    "At multiple points in any regression exercise,  you might have the opportunity to use a data filling technique. Let's take a look at few example scenarios and see what happens when different data filling methods are implemented: \n",
    "\n",
    "* Example 1: \n",
    "  * Context: some GDP data is missing\n",
    "  * means: endogenous data fill of GDP by average of surrounding points \n",
    "  * comparison to original \n",
    "  * averaging - remove outliers, assume smoothness when it doesn't exist, dampen changes and correlation\n",
    "    * in general, downsampling is similar - compressing/losing information, masking changes and reducing perceived sensitivity\n",
    "\n",
    "* Example 2: \n",
    "  * Context: want to conduct the analysis on a more frequent timeframe \n",
    "  * means: upsampling of monthly gdp data by replication\n",
    "  * comparison to original \n",
    "  * upsampling - assumed consistency in the constituent timeframes, strengthen existing relationship \n",
    "\n",
    "No straightforward way to know how a fill method will impact your analysis, sometimes the best thing to do is make a toy example of analogous data and see. HUGE caveat - should not use a fill method just because it makes your results look better. Always use what is logically sound and consistent. \n",
    "\n",
    "OTHER:\n",
    "* **ping evan about changing gear-up description slightly? "
   ]
  },
  {
   "cell_type": "markdown",
   "metadata": {},
   "source": [
    "## **2.5. Consequences of data filling**"
   ]
  },
  {
   "cell_type": "markdown",
   "metadata": {},
   "source": [
    "## **2.6. *Chapter 2 Takeaways***\n",
    "\n",
    "1. For a general systemization, data remediation strategies can first be classifed as either *data gap omission* or *data gap filling*, and data gap filling techniques can further be divided into **endogenous** and **exogenous** fill methods. \n",
    "\n",
    "2. Exogenous fill techniques are often associated with the need for resampling or mis-alignment of original & filling data points, while endogenous fill techniques demand consideration as to the appropriate scope and method of interpolation—use of either type should be accompanied by intelligent, intentional design and consistency with relevant dataset structure/attributes. \n",
    "\n",
    "3. How a given fill method will impact downstream analysis for a project is dependent both on the data source being used and the context in which the fill method is being employed. However, as some guiding principles: \n",
    "\n",
    "   * Data augmentation protocols (like upsampling) can strengthen pre-existing biases/relationships by assuming in-period consistency; while\n",
    "  \n",
    "   * Data compression protocols (like downsampling, filling via local means, medians, etc.) can dampen changes in and outliers of a signal. "
   ]
  },
  {
   "cell_type": "markdown",
   "metadata": {},
   "source": [
    "### ***CODING EXERCISE:***"
   ]
  },
  {
   "cell_type": "markdown",
   "metadata": {},
   "source": [
    "For this exercise, I'm going to investigate the strength of the relationship between **US GDP** and **mean US gas prices.**"
   ]
  },
  {
   "cell_type": "code",
   "execution_count": 35,
   "metadata": {},
   "outputs": [],
   "source": [
    "# required imports & set-up: \n",
    "import os                           # use: file management and access.\n",
    "import pandas as pd                 # use: data import & wrangling.\n",
    "from dateutil.parser import parse   # use: handling dates as strings.\n",
    "from datetime import datetime       # use: going from string back to dates! \n",
    "\n",
    "# data housing: \n",
    "datasets_dir = os.path.dirname(os.getcwd()) + os.sep + 'sample_datasets' + os.sep "
   ]
  },
  {
   "cell_type": "code",
   "execution_count": 30,
   "metadata": {},
   "outputs": [
    {
     "name": "stdout",
     "output_type": "stream",
     "text": [
      "        date     A1     R1     M1     P1     D1\n",
      "0   1/2/1995  1.127  1.079  1.170  1.272  1.104\n",
      "1   1/9/1995  1.134  1.086  1.177  1.279  1.102\n",
      "2  1/16/1995  1.126  1.078  1.168  1.271  1.100\n",
      "3  1/23/1995  1.132  1.083  1.177  1.277  1.095\n",
      "4  1/30/1995  1.131  1.083  1.176  1.275  1.090\n",
      "       date  monthly_nominal_gdp  monthly_real_gdp\n",
      "0  1/1/1992             6315.584          9485.864\n",
      "1  2/1/1992             6356.696          9527.953\n",
      "2  3/1/1992             6417.026          9606.159\n",
      "3  4/1/1992             6443.140          9612.300\n",
      "4  5/1/1992             6433.850          9594.431\n"
     ]
    }
   ],
   "source": [
    "# US gas prices data from: https://www.kaggle.com/datasets/mruanova/us-gasoline-and-diesel-retail-prices-19952021\n",
    "gas_prices = pd.read_csv(datasets_dir + 'gas_gas_gas.csv', encoding='utf-8')\n",
    "\n",
    "# GDP estimates from: https://ihsmarkit.com/products/us-monthly-gdp-index.html\n",
    "mom_gdp = pd.read_csv(datasets_dir + 'monthly_gdp.csv', encoding='utf-8')\n",
    "\n",
    "# let's see the data! \n",
    "for dataset in (gas_prices, mom_gdp): print(dataset.head(5))"
   ]
  },
  {
   "cell_type": "markdown",
   "metadata": {},
   "source": [
    "From our preliminary data inspection, we see that the gas price data is offered on a *weekly* basis while the GDP estimates are on a *monthly* basis. Let's conduct our investigation on a monthly basis - meaning we'll need to *downsample* the weekly gas price data. "
   ]
  },
  {
   "cell_type": "code",
   "execution_count": 31,
   "metadata": {},
   "outputs": [],
   "source": [
    "# a quick utility function: \n",
    "def find_start_end_indices(dataset, start_date, end_date):\n",
    "    # find the indices of the first (last) date in the dataset after (before) the start (end) date \n",
    "    start_idx = next(i for i, date in enumerate(dataset.date.values) if parse(date) > parse(start_date))\n",
    "    end_idx   = next(j for j, date in enumerate(dataset.date.values) if parse(date) > parse(end_date))   \n",
    "    \n",
    "    # return those indices: \n",
    "    return (start_idx, end_idx)"
   ]
  },
  {
   "cell_type": "code",
   "execution_count": null,
   "metadata": {},
   "outputs": [],
   "source": [
    "# let's subset the data: \n",
    "gas_prices = gas_prices[['date', 'R1']] # R1 - regular (unleaded), all formuations, retail gas prices ($/gal)\n",
    "\n",
    "# establish our desired timeframe of analysis: \n",
    "start_date, end_date = \"12/31/2007\", \"1/31/2018\"\n",
    "\n",
    "# find the indices at which to subset our dataframe: \n",
    "(gas_start_idx, gas_end_idx) = find_start_end_indices(gas_prices, start_date, end_date)\n",
    "(gdp_start_idx, gdp_end_idx) = find_start_end_indices(mom_gdp, start_date, end_date)\n",
    "\n",
    "# subset the datasets: \n",
    "gas_prices = gas_prices.iloc[gas_start_idx:gas_end_idx,]\n",
    "mom_gdp = mom_gdp.iloc[gdp_start_idx:gdp_end_idx,]\n",
    "\n",
    "# convert the 'date' column in each dataframe from strings to \n",
    "\n",
    "# if you want to check that it worked: \n",
    "# print(gas_prices)\n",
    "# print(mom_gdp)"
   ]
  }
 ],
 "metadata": {
  "kernelspec": {
   "display_name": "Python 3.10.6 64-bit",
   "language": "python",
   "name": "python3"
  },
  "language_info": {
   "codemirror_mode": {
    "name": "ipython",
    "version": 3
   },
   "file_extension": ".py",
   "mimetype": "text/x-python",
   "name": "python",
   "nbconvert_exporter": "python",
   "pygments_lexer": "ipython3",
   "version": "3.10.6"
  },
  "orig_nbformat": 4,
  "vscode": {
   "interpreter": {
    "hash": "de65b0f014eaa4e91eb08470e9da2c68e352502ee239b0d825d97d29c2332a57"
   }
  }
 },
 "nbformat": 4,
 "nbformat_minor": 2
}
