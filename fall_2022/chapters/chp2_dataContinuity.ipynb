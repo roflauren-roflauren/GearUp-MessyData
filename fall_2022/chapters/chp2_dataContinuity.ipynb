{
 "cells": [
  {
   "cell_type": "markdown",
   "metadata": {},
   "source": [
    "# Chapter 2 - Data Continuity"
   ]
  },
  {
   "cell_type": "markdown",
   "metadata": {},
   "source": [
    "# 2.0. Defining \"data continuity\" \n",
    "\n",
    "- missing data/data gaps (in the context of timeseries vs. other data like panel or classification)\n",
    "\n",
    "- key sub-issues to consider:\n",
    "- identification of data gaps\n",
    "- comprehensino of data gaps\n",
    "- remediation of data gaps \n",
    "\n",
    "(maybe talk about first 2, focus on third)"
   ]
  },
  {
   "cell_type": "markdown",
   "metadata": {},
   "source": [
    "- new chapter for data gap remediation"
   ]
  }
 ],
 "metadata": {
  "kernelspec": {
   "display_name": "Python 3.10.6 64-bit",
   "language": "python",
   "name": "python3"
  },
  "language_info": {
   "name": "python",
   "version": "3.10.6"
  },
  "orig_nbformat": 4,
  "vscode": {
   "interpreter": {
    "hash": "de65b0f014eaa4e91eb08470e9da2c68e352502ee239b0d825d97d29c2332a57"
   }
  }
 },
 "nbformat": 4,
 "nbformat_minor": 2
}
